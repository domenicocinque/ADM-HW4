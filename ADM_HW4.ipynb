{
  "nbformat": 4,
  "nbformat_minor": 0,
  "metadata": {
    "colab": {
      "name": "ADM-HW4.ipynb",
      "provenance": []
    },
    "kernelspec": {
      "name": "python3",
      "display_name": "Python 3"
    }
  },
  "cells": [
    {
      "cell_type": "code",
      "metadata": {
        "colab": {
          "base_uri": "https://localhost:8080/"
        },
        "id": "dgyg4y8NOwqM",
        "outputId": "db3731a6-d36e-49b3-a738-14121fd42bec"
      },
      "source": [
        "from google.colab import drive\r\n",
        "drive.mount('/content/drive')"
      ],
      "execution_count": null,
      "outputs": [
        {
          "output_type": "stream",
          "text": [
            "Drive already mounted at /content/drive; to attempt to forcibly remount, call drive.mount(\"/content/drive\", force_remount=True).\n"
          ],
          "name": "stdout"
        }
      ]
    },
    {
      "cell_type": "code",
      "metadata": {
        "id": "HTsfUO_MPIsH"
      },
      "source": [
        "from tqdm import tqdm\r\n",
        "import numpy as np\r\n",
        "import random"
      ],
      "execution_count": null,
      "outputs": []
    },
    {
      "cell_type": "code",
      "metadata": {
        "id": "MQXeI2yoPLqG"
      },
      "source": [
        "file =open(r'/content/drive/MyDrive/ADM-HW4/hash.txt', 'r' )"
      ],
      "execution_count": null,
      "outputs": []
    },
    {
      "cell_type": "code",
      "metadata": {
        "id": "boI8HfLqPh6e"
      },
      "source": [
        "def hash_func(s,n,A):\r\n",
        "    out = 0\r\n",
        "    for i in range(len(s)):\r\n",
        "        if s[i].isdigit():\r\n",
        "            out += A[i]*int(s[i])\r\n",
        "        else:\r\n",
        "            out += A[i]*(ord(s[i])-96)\r\n",
        "    return out%n, out"
      ],
      "execution_count": null,
      "outputs": []
    },
    {
      "cell_type": "code",
      "metadata": {
        "id": "h39w_EMrUBPR"
      },
      "source": [
        "line1 = '0106224e7cc4ab0a63b70b3a0c85bca9'\r\n",
        "n = 1009\r\n",
        "A = random.sample(range(0, n-1), len(line1)+1)\r\n",
        "arr = np.frompyfunc(list, 0, 1)(np.empty(n, dtype=object))\r\n",
        "i = 0\r\n",
        "hash_dict = {}"
      ],
      "execution_count": null,
      "outputs": []
    },
    {
      "cell_type": "code",
      "metadata": {
        "colab": {
          "base_uri": "https://localhost:8080/"
        },
        "id": "CQsz4fEoPoY2",
        "outputId": "50a7b775-0e64-412f-9275-88cee5ab57d2"
      },
      "source": [
        "for line in tqdm(file):\r\n",
        "    idx, idy = hash_func(line, n, A)\r\n",
        "    hash_dict.setdefault(idx, []).append(bin(idy)[2:]) "
      ],
      "execution_count": null,
      "outputs": [
        {
          "output_type": "stream",
          "text": [
            "100%|██████████| 9/9 [00:00<00:00, 22671.91it/s]\n"
          ],
          "name": "stderr"
        }
      ]
    },
    {
      "cell_type": "code",
      "metadata": {
        "colab": {
          "base_uri": "https://localhost:8080/"
        },
        "id": "zwKjf7Vxq6py",
        "outputId": "9f6ffebf-dfd9-42e6-d2fd-f41568ee725d"
      },
      "source": [
        "hash_dict"
      ],
      "execution_count": null,
      "outputs": [
        {
          "output_type": "execute_result",
          "data": {
            "text/plain": [
              "{146: ['1101100101011001'],\n",
              " 191: ['1100110110110011'],\n",
              " 294: ['1100011000111000'],\n",
              " 557: ['1100011100111111'],\n",
              " 624: ['1111001011011101'],\n",
              " 709: ['1101001110101010'],\n",
              " 831: ['1101010000100100'],\n",
              " 892: ['1001010101010001'],\n",
              " 988: ['1100110011011111']}"
            ]
          },
          "metadata": {
            "tags": []
          },
          "execution_count": 26
        }
      ]
    },
    {
      "cell_type": "code",
      "metadata": {
        "id": "JEg0nxsodGSS"
      },
      "source": [
        "import json"
      ],
      "execution_count": null,
      "outputs": []
    },
    {
      "cell_type": "code",
      "metadata": {
        "id": "wGtaoTNoP3wF"
      },
      "source": [
        "out_file = open(r'C:\\Users\\giorg\\Desktop\\MAGISTRALE\\ADM\\HW4\\hash_dict.json', \"w\")  \r\n",
        "    \r\n",
        "json.dump(hash_dict, out_file)  \r\n",
        "    \r\n",
        "out_file.close()  "
      ],
      "execution_count": null,
      "outputs": []
    }
  ]
}
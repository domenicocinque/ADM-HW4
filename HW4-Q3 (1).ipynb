{
 "cells": [
  {
   "cell_type": "code",
   "execution_count": 1,
   "metadata": {},
   "outputs": [],
   "source": [
    "file = open(\"hash.txt\", \"r\")"
   ]
  },
  {
   "cell_type": "code",
   "execution_count": 2,
   "metadata": {},
   "outputs": [
    {
     "data": {
      "text/plain": [
       "<_io.TextIOWrapper name='hash.txt' mode='r' encoding='cp1252'>"
      ]
     },
     "execution_count": 2,
     "metadata": {},
     "output_type": "execute_result"
    }
   ],
   "source": [
    "file"
   ]
  },
  {
   "cell_type": "markdown",
   "metadata": {},
   "source": [
    "# Question 1"
   ]
  },
  {
   "cell_type": "markdown",
   "metadata": {},
   "source": [
    "## Hash Function"
   ]
  },
  {
   "cell_type": "code",
   "execution_count": null,
   "metadata": {},
   "outputs": [],
   "source": [
    "import random\n",
    "import numpy as np\n",
    "from tqdm import tqdm "
   ]
  },
  {
   "cell_type": "code",
   "execution_count": 3,
   "metadata": {},
   "outputs": [],
   "source": [
    "def hash_func(s,n,A):\n",
    "    out = 0\n",
    "    for i in range(len(s)):\n",
    "        if s[i].isdigit():\n",
    "            out += A[i]*int(s[i])\n",
    "        else:\n",
    "            out += A[i]*(ord(s[i])-96)\n",
    "    return out%n"
   ]
  },
  {
   "cell_type": "code",
   "execution_count": null,
   "metadata": {},
   "outputs": [],
   "source": [
    "line1 = '0106224e7cc4ab0a63b70b3a0c85bca9'\n",
    "n = 4001\n",
    "A = random.sample(range(0, n-1), len(line1)+1)\n",
    "arr = np.frompyfunc(list, 0, 1)(np.empty(n, dtype=object))\n",
    "i = 0\n",
    "hash_dict = {}"
   ]
  },
  {
   "cell_type": "code",
   "execution_count": null,
   "metadata": {},
   "outputs": [],
   "source": [
    "for line in tqdm(file):\n",
    "    idx = hash_func(line, n, A)\n",
    "    hash_dict.setdefault(line, []).append(idx) \n",
    "   "
   ]
  },
  {
   "cell_type": "code",
   "execution_count": null,
   "metadata": {},
   "outputs": [],
   "source": [
    "import json"
   ]
  },
  {
   "cell_type": "code",
   "execution_count": null,
   "metadata": {},
   "outputs": [],
   "source": [
    "out_file = open(r'C:\\Users\\giorg\\Desktop\\MAGISTRALE\\ADM\\HW4\\hash_dict.json', \"w\")  \n",
    "    \n",
    "json.dump(hash_dict, out_file)  \n",
    "    \n",
    "out_file.close()  "
   ]
  },
  {
   "cell_type": "markdown",
   "metadata": {},
   "source": [
    "## HyperLogLog structure"
   ]
  },
  {
   "cell_type": "code",
   "execution_count": 3,
   "metadata": {},
   "outputs": [],
   "source": [
    "def f_p(y): #returns the least significant 1-bit of y\n",
    "    if y == 0:\n",
    "        return n\n",
    "    else:\n",
    "        k = 0\n",
    "        while y[k]!=0:\n",
    "            k += 1   #the min k such that bit(y,k) ≠ O\n",
    "        return k"
   ]
  },
  {
   "cell_type": "code",
   "execution_count": null,
   "metadata": {},
   "outputs": [],
   "source": [
    "bitmax = np.zeros(n)\n",
    "for v in hash_dict.values():\n",
    "    for el in v:\n",
    "        x = f_p(el)\n",
    "        bitmax[x] = 1\n",
    "\n",
    "idx = 0\n",
    "while bitmax[idx]!=0:\n",
    "    idx+=1\n",
    "\n",
    "#estimated cardinality\n",
    "est_card = pow(2,idx)"
   ]
  },
  {
   "cell_type": "markdown",
   "metadata": {},
   "source": [
    "# Question 3\n",
    "The algorithm counting sort solve our problem"
   ]
  },
  {
   "cell_type": "code",
   "execution_count": 19,
   "metadata": {},
   "outputs": [],
   "source": [
    "A = [2,8,3,2,4,2]\n",
    "b = 8\n",
    "s = 1"
   ]
  },
  {
   "cell_type": "markdown",
   "metadata": {},
   "source": [
    "<b> Step 1 </b> preparing the vector we need <br>\n",
    "<b> Running Time </b> $\\theta(r+1+n)=\\theta(r+n)$ where r is the difference between b and s and n is the lenght of the input array A"
   ]
  },
  {
   "cell_type": "code",
   "execution_count": 20,
   "metadata": {},
   "outputs": [],
   "source": [
    "r = [0]*(b-s+1) #vector of zeros with lenght r+1\n",
    "B = [0](len(A)) #in this vector we'll store A sorted "
   ]
  },
  {
   "cell_type": "markdown",
   "metadata": {},
   "source": [
    "<b> Step 2 </b> we costruct r such that r[i] contains the occurence of elements of A (SORTED) <br>\n",
    "<b> Running Time </b> $\\theta(n)$"
   ]
  },
  {
   "cell_type": "code",
   "execution_count": 25,
   "metadata": {},
   "outputs": [],
   "source": [
    "for i in range(len(A)): \n",
    "    r[A[i]-s] += 1"
   ]
  },
  {
   "cell_type": "markdown",
   "metadata": {},
   "source": [
    "<b> Step 3 </b> we change r using the comulative count <br>\n",
    "<b> Running Time </b> $\\theta(r-1) = \\theta(r)$"
   ]
  },
  {
   "cell_type": "code",
   "execution_count": 26,
   "metadata": {},
   "outputs": [],
   "source": [
    "for i in range(1, len(r)): \n",
    "    r[i] += r[i-1] #cumulative count"
   ]
  },
  {
   "cell_type": "markdown",
   "metadata": {},
   "source": [
    "<b> Step 4 </b> computing the sorted A using r <br>\n",
    "<b> Running Time </b> $\\theta(n-1) = \\theta(n)$"
   ]
  },
  {
   "cell_type": "code",
   "execution_count": 23,
   "metadata": {},
   "outputs": [],
   "source": [
    "for i in range(len(A)-1, -1, -1): \n",
    "    B[r[A[i] - s] - 1] = A[i] \n",
    "    r[A[i] - s] -= 1"
   ]
  },
  {
   "cell_type": "code",
   "execution_count": 27,
   "metadata": {},
   "outputs": [
    {
     "name": "stdout",
     "output_type": "stream",
     "text": [
      "[2, 2, 2, 3, 4, 8]\n"
     ]
    }
   ],
   "source": [
    "print(B)"
   ]
  },
  {
   "cell_type": "markdown",
   "metadata": {},
   "source": [
    "<b> Total Running Time </b> $\\theta(n+r)$"
   ]
  }
 ],
 "metadata": {
  "kernelspec": {
   "display_name": "Python 3",
   "language": "python",
   "name": "python3"
  },
  "language_info": {
   "codemirror_mode": {
    "name": "ipython",
    "version": 3
   },
   "file_extension": ".py",
   "mimetype": "text/x-python",
   "name": "python",
   "nbconvert_exporter": "python",
   "pygments_lexer": "ipython3",
   "version": "3.8.5"
  }
 },
 "nbformat": 4,
 "nbformat_minor": 4
}

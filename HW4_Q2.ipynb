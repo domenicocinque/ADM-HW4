{
 "cells": [
  {
   "cell_type": "markdown",
   "metadata": {},
   "source": [
    "# Libraries"
   ]
  },
  {
   "cell_type": "code",
   "execution_count": 1,
   "metadata": {},
   "outputs": [],
   "source": [
    "import pandas as pd\n",
    "from tqdm import tqdm\n",
    "from sklearn.cluster import KMeans\n",
    "from collections import defaultdict\n",
    "from collections import Counter\n",
    "import math"
   ]
  },
  {
   "cell_type": "markdown",
   "metadata": {},
   "source": [
    "# Cleaning the Data"
   ]
  },
  {
   "cell_type": "code",
   "execution_count": 2,
   "metadata": {},
   "outputs": [],
   "source": [
    "path = '/Users/domenicomattiacinque/Documents/Università/ADM2020/HW4/archive'\n",
    "dataset = pd.read_csv(path + '/Reviews.csv', nrows = 10000)"
   ]
  },
  {
   "cell_type": "code",
   "execution_count": 3,
   "metadata": {},
   "outputs": [
    {
     "data": {
      "text/html": [
       "<div>\n",
       "<style scoped>\n",
       "    .dataframe tbody tr th:only-of-type {\n",
       "        vertical-align: middle;\n",
       "    }\n",
       "\n",
       "    .dataframe tbody tr th {\n",
       "        vertical-align: top;\n",
       "    }\n",
       "\n",
       "    .dataframe thead th {\n",
       "        text-align: right;\n",
       "    }\n",
       "</style>\n",
       "<table border=\"1\" class=\"dataframe\">\n",
       "  <thead>\n",
       "    <tr style=\"text-align: right;\">\n",
       "      <th></th>\n",
       "      <th>Id</th>\n",
       "      <th>ProductId</th>\n",
       "      <th>UserId</th>\n",
       "      <th>ProfileName</th>\n",
       "      <th>HelpfulnessNumerator</th>\n",
       "      <th>HelpfulnessDenominator</th>\n",
       "      <th>Score</th>\n",
       "      <th>Time</th>\n",
       "      <th>Summary</th>\n",
       "      <th>Text</th>\n",
       "    </tr>\n",
       "  </thead>\n",
       "  <tbody>\n",
       "    <tr>\n",
       "      <th>0</th>\n",
       "      <td>1</td>\n",
       "      <td>B001E4KFG0</td>\n",
       "      <td>A3SGXH7AUHU8GW</td>\n",
       "      <td>delmartian</td>\n",
       "      <td>1</td>\n",
       "      <td>1</td>\n",
       "      <td>5</td>\n",
       "      <td>1303862400</td>\n",
       "      <td>Good Quality Dog Food</td>\n",
       "      <td>I have bought several of the Vitality canned d...</td>\n",
       "    </tr>\n",
       "    <tr>\n",
       "      <th>1</th>\n",
       "      <td>2</td>\n",
       "      <td>B00813GRG4</td>\n",
       "      <td>A1D87F6ZCVE5NK</td>\n",
       "      <td>dll pa</td>\n",
       "      <td>0</td>\n",
       "      <td>0</td>\n",
       "      <td>1</td>\n",
       "      <td>1346976000</td>\n",
       "      <td>Not as Advertised</td>\n",
       "      <td>Product arrived labeled as Jumbo Salted Peanut...</td>\n",
       "    </tr>\n",
       "    <tr>\n",
       "      <th>2</th>\n",
       "      <td>3</td>\n",
       "      <td>B000LQOCH0</td>\n",
       "      <td>ABXLMWJIXXAIN</td>\n",
       "      <td>Natalia Corres \"Natalia Corres\"</td>\n",
       "      <td>1</td>\n",
       "      <td>1</td>\n",
       "      <td>4</td>\n",
       "      <td>1219017600</td>\n",
       "      <td>\"Delight\" says it all</td>\n",
       "      <td>This is a confection that has been around a fe...</td>\n",
       "    </tr>\n",
       "    <tr>\n",
       "      <th>3</th>\n",
       "      <td>4</td>\n",
       "      <td>B000UA0QIQ</td>\n",
       "      <td>A395BORC6FGVXV</td>\n",
       "      <td>Karl</td>\n",
       "      <td>3</td>\n",
       "      <td>3</td>\n",
       "      <td>2</td>\n",
       "      <td>1307923200</td>\n",
       "      <td>Cough Medicine</td>\n",
       "      <td>If you are looking for the secret ingredient i...</td>\n",
       "    </tr>\n",
       "    <tr>\n",
       "      <th>4</th>\n",
       "      <td>5</td>\n",
       "      <td>B006K2ZZ7K</td>\n",
       "      <td>A1UQRSCLF8GW1T</td>\n",
       "      <td>Michael D. Bigham \"M. Wassir\"</td>\n",
       "      <td>0</td>\n",
       "      <td>0</td>\n",
       "      <td>5</td>\n",
       "      <td>1350777600</td>\n",
       "      <td>Great taffy</td>\n",
       "      <td>Great taffy at a great price.  There was a wid...</td>\n",
       "    </tr>\n",
       "  </tbody>\n",
       "</table>\n",
       "</div>"
      ],
      "text/plain": [
       "   Id   ProductId          UserId                      ProfileName  \\\n",
       "0   1  B001E4KFG0  A3SGXH7AUHU8GW                       delmartian   \n",
       "1   2  B00813GRG4  A1D87F6ZCVE5NK                           dll pa   \n",
       "2   3  B000LQOCH0   ABXLMWJIXXAIN  Natalia Corres \"Natalia Corres\"   \n",
       "3   4  B000UA0QIQ  A395BORC6FGVXV                             Karl   \n",
       "4   5  B006K2ZZ7K  A1UQRSCLF8GW1T    Michael D. Bigham \"M. Wassir\"   \n",
       "\n",
       "   HelpfulnessNumerator  HelpfulnessDenominator  Score        Time  \\\n",
       "0                     1                       1      5  1303862400   \n",
       "1                     0                       0      1  1346976000   \n",
       "2                     1                       1      4  1219017600   \n",
       "3                     3                       3      2  1307923200   \n",
       "4                     0                       0      5  1350777600   \n",
       "\n",
       "                 Summary                                               Text  \n",
       "0  Good Quality Dog Food  I have bought several of the Vitality canned d...  \n",
       "1      Not as Advertised  Product arrived labeled as Jumbo Salted Peanut...  \n",
       "2  \"Delight\" says it all  This is a confection that has been around a fe...  \n",
       "3         Cough Medicine  If you are looking for the secret ingredient i...  \n",
       "4            Great taffy  Great taffy at a great price.  There was a wid...  "
      ]
     },
     "execution_count": 3,
     "metadata": {},
     "output_type": "execute_result"
    }
   ],
   "source": [
    "dataset.head()"
   ]
  },
  {
   "cell_type": "code",
   "execution_count": 4,
   "metadata": {},
   "outputs": [
    {
     "data": {
      "text/plain": [
       "Id                        0\n",
       "ProductId                 0\n",
       "UserId                    0\n",
       "ProfileName               0\n",
       "HelpfulnessNumerator      0\n",
       "HelpfulnessDenominator    0\n",
       "Score                     0\n",
       "Time                      0\n",
       "Summary                   0\n",
       "Text                      0\n",
       "dtype: int64"
      ]
     },
     "execution_count": 4,
     "metadata": {},
     "output_type": "execute_result"
    }
   ],
   "source": [
    "dataset.isnull().sum()"
   ]
  },
  {
   "cell_type": "code",
   "execution_count": 5,
   "metadata": {},
   "outputs": [],
   "source": [
    "dataset['Summary'].fillna('', inplace=True)"
   ]
  },
  {
   "cell_type": "code",
   "execution_count": 6,
   "metadata": {},
   "outputs": [],
   "source": [
    "dataset['Text'] = dataset['Summary'] + ' ' + dataset['Text'] "
   ]
  },
  {
   "cell_type": "code",
   "execution_count": 7,
   "metadata": {},
   "outputs": [],
   "source": [
    "dataset.drop(['UserId','ProfileName','HelpfulnessNumerator',\n",
    "              'HelpfulnessDenominator','Score','Time','Summary'],axis=1, inplace=True)"
   ]
  },
  {
   "cell_type": "code",
   "execution_count": 8,
   "metadata": {},
   "outputs": [
    {
     "data": {
      "text/html": [
       "<div>\n",
       "<style scoped>\n",
       "    .dataframe tbody tr th:only-of-type {\n",
       "        vertical-align: middle;\n",
       "    }\n",
       "\n",
       "    .dataframe tbody tr th {\n",
       "        vertical-align: top;\n",
       "    }\n",
       "\n",
       "    .dataframe thead th {\n",
       "        text-align: right;\n",
       "    }\n",
       "</style>\n",
       "<table border=\"1\" class=\"dataframe\">\n",
       "  <thead>\n",
       "    <tr style=\"text-align: right;\">\n",
       "      <th></th>\n",
       "      <th>Id</th>\n",
       "      <th>ProductId</th>\n",
       "      <th>Text</th>\n",
       "    </tr>\n",
       "  </thead>\n",
       "  <tbody>\n",
       "    <tr>\n",
       "      <th>0</th>\n",
       "      <td>1</td>\n",
       "      <td>B001E4KFG0</td>\n",
       "      <td>Good Quality Dog Food I have bought several of...</td>\n",
       "    </tr>\n",
       "    <tr>\n",
       "      <th>1</th>\n",
       "      <td>2</td>\n",
       "      <td>B00813GRG4</td>\n",
       "      <td>Not as Advertised Product arrived labeled as J...</td>\n",
       "    </tr>\n",
       "    <tr>\n",
       "      <th>2</th>\n",
       "      <td>3</td>\n",
       "      <td>B000LQOCH0</td>\n",
       "      <td>\"Delight\" says it all This is a confection tha...</td>\n",
       "    </tr>\n",
       "    <tr>\n",
       "      <th>3</th>\n",
       "      <td>4</td>\n",
       "      <td>B000UA0QIQ</td>\n",
       "      <td>Cough Medicine If you are looking for the secr...</td>\n",
       "    </tr>\n",
       "    <tr>\n",
       "      <th>4</th>\n",
       "      <td>5</td>\n",
       "      <td>B006K2ZZ7K</td>\n",
       "      <td>Great taffy Great taffy at a great price.  The...</td>\n",
       "    </tr>\n",
       "  </tbody>\n",
       "</table>\n",
       "</div>"
      ],
      "text/plain": [
       "   Id   ProductId                                               Text\n",
       "0   1  B001E4KFG0  Good Quality Dog Food I have bought several of...\n",
       "1   2  B00813GRG4  Not as Advertised Product arrived labeled as J...\n",
       "2   3  B000LQOCH0  \"Delight\" says it all This is a confection tha...\n",
       "3   4  B000UA0QIQ  Cough Medicine If you are looking for the secr...\n",
       "4   5  B006K2ZZ7K  Great taffy Great taffy at a great price.  The..."
      ]
     },
     "execution_count": 8,
     "metadata": {},
     "output_type": "execute_result"
    }
   ],
   "source": [
    "dataset.head()"
   ]
  },
  {
   "cell_type": "code",
   "execution_count": 10,
   "metadata": {},
   "outputs": [
    {
     "data": {
      "text/plain": [
       "1422"
      ]
     },
     "execution_count": 10,
     "metadata": {},
     "output_type": "execute_result"
    }
   ],
   "source": [
    "dataset['ProductId'].nunique()"
   ]
  },
  {
   "cell_type": "code",
   "execution_count": 18,
   "metadata": {},
   "outputs": [],
   "source": [
    "df = dataset.groupby('ProductId')['Text'].apply(lambda x: ' '.join(x)).reset_index()"
   ]
  },
  {
   "cell_type": "code",
   "execution_count": 21,
   "metadata": {},
   "outputs": [
    {
     "data": {
      "text/html": [
       "<div>\n",
       "<style scoped>\n",
       "    .dataframe tbody tr th:only-of-type {\n",
       "        vertical-align: middle;\n",
       "    }\n",
       "\n",
       "    .dataframe tbody tr th {\n",
       "        vertical-align: top;\n",
       "    }\n",
       "\n",
       "    .dataframe thead th {\n",
       "        text-align: right;\n",
       "    }\n",
       "</style>\n",
       "<table border=\"1\" class=\"dataframe\">\n",
       "  <thead>\n",
       "    <tr style=\"text-align: right;\">\n",
       "      <th></th>\n",
       "      <th>ProductId</th>\n",
       "      <th>Text</th>\n",
       "    </tr>\n",
       "  </thead>\n",
       "  <tbody>\n",
       "    <tr>\n",
       "      <th>0</th>\n",
       "      <td>B00002NCJC</td>\n",
       "      <td>thirty bucks? Why is this $[...] when the same...</td>\n",
       "    </tr>\n",
       "    <tr>\n",
       "      <th>1</th>\n",
       "      <td>B00002Z754</td>\n",
       "      <td>WOW Make your own 'slickers' ! I just received...</td>\n",
       "    </tr>\n",
       "    <tr>\n",
       "      <th>2</th>\n",
       "      <td>B00005V3DC</td>\n",
       "      <td>Best herbal tea for digestion If you're new to...</td>\n",
       "    </tr>\n",
       "    <tr>\n",
       "      <th>3</th>\n",
       "      <td>B000084DVR</td>\n",
       "      <td>Premium Quality Dog Food!!! We have been using...</td>\n",
       "    </tr>\n",
       "    <tr>\n",
       "      <th>4</th>\n",
       "      <td>B000084E1U</td>\n",
       "      <td>Cats love it! I have nine cats and they are cr...</td>\n",
       "    </tr>\n",
       "  </tbody>\n",
       "</table>\n",
       "</div>"
      ],
      "text/plain": [
       "    ProductId                                               Text\n",
       "0  B00002NCJC  thirty bucks? Why is this $[...] when the same...\n",
       "1  B00002Z754  WOW Make your own 'slickers' ! I just received...\n",
       "2  B00005V3DC  Best herbal tea for digestion If you're new to...\n",
       "3  B000084DVR  Premium Quality Dog Food!!! We have been using...\n",
       "4  B000084E1U  Cats love it! I have nine cats and they are cr..."
      ]
     },
     "execution_count": 21,
     "metadata": {},
     "output_type": "execute_result"
    }
   ],
   "source": [
    "df.head()"
   ]
  },
  {
   "cell_type": "markdown",
   "metadata": {},
   "source": [
    "# Text Mining\n",
    "We want to cluster the products using the reviews that we can find in the column 'Text' of our dataset. In order to do this we need to represent the reviews as TF-IDF score used in the previous homework."
   ]
  },
  {
   "cell_type": "code",
   "execution_count": 22,
   "metadata": {},
   "outputs": [],
   "source": [
    "import nltk\n",
    "from nltk.corpus import stopwords\n",
    "import string\n",
    "import re\n",
    "from nltk.stem import PorterStemmer\n",
    "from nltk.tokenize import sent_tokenize, word_tokenize"
   ]
  },
  {
   "cell_type": "code",
   "execution_count": 23,
   "metadata": {},
   "outputs": [],
   "source": [
    "stop_words = set(stopwords.words('english'))\n",
    "ps = PorterStemmer()"
   ]
  },
  {
   "cell_type": "code",
   "execution_count": 24,
   "metadata": {},
   "outputs": [],
   "source": [
    "#Realizing the cleaned token \n",
    "def clean_text(text):\n",
    "    words = word_tokenize(text)\n",
    "    tagged = nltk.pos_tag(words)\n",
    "    \n",
    "    good_words = []\n",
    "    for word,tag in tagged:\n",
    "        if tag == 'NN' or tag == 'NNS' or tag =='NNPS' or tag == 'NNP':\n",
    "            if word.lower() not in stop_words and word.isalpha() and word.lower() not in string.punctuation:\n",
    "                good_words.append(ps.stem(word).lower())\n",
    "    return good_words"
   ]
  },
  {
   "cell_type": "code",
   "execution_count": 25,
   "metadata": {},
   "outputs": [
    {
     "name": "stdout",
     "output_type": "stream",
     "text": [
      "thirty bucks? Why is this $[...] when the same product is available for $[...] here?<br />http://www.amazon.com/VICTOR-FLY-MAGNET-BAIT-REFILL/dp/B00004RBDY<br /><br />The Victor M380 and M502 traps are unreal, of course -- total fly genocide. Pretty stinky, but only right nearby. Flies Begone We have used the Victor fly bait for 3 seasons.  Can't beat it.  Great product!\n",
      "['thirti', 'buck', 'product', 'br', 'http', 'br', 'br', 'victor', 'trap', 'cours', 'genocid', 'pretti', 'stinki', 'fli', 'victor', 'fli', 'bait', 'season', 'great', 'product']\n"
     ]
    }
   ],
   "source": [
    "#test\n",
    "print(df['Text'][0])\n",
    "print(clean_text(df['Text'][0]))"
   ]
  },
  {
   "cell_type": "code",
   "execution_count": 27,
   "metadata": {},
   "outputs": [],
   "source": [
    "#Applying the clean_text function to each element of the column 'Text'\n",
    "df['Text_Words'] = df.Text.apply(lambda x: clean_text(x))"
   ]
  },
  {
   "cell_type": "code",
   "execution_count": 28,
   "metadata": {},
   "outputs": [
    {
     "data": {
      "text/html": [
       "<div>\n",
       "<style scoped>\n",
       "    .dataframe tbody tr th:only-of-type {\n",
       "        vertical-align: middle;\n",
       "    }\n",
       "\n",
       "    .dataframe tbody tr th {\n",
       "        vertical-align: top;\n",
       "    }\n",
       "\n",
       "    .dataframe thead th {\n",
       "        text-align: right;\n",
       "    }\n",
       "</style>\n",
       "<table border=\"1\" class=\"dataframe\">\n",
       "  <thead>\n",
       "    <tr style=\"text-align: right;\">\n",
       "      <th></th>\n",
       "      <th>ProductId</th>\n",
       "      <th>Text</th>\n",
       "      <th>Text_Words</th>\n",
       "    </tr>\n",
       "  </thead>\n",
       "  <tbody>\n",
       "    <tr>\n",
       "      <th>0</th>\n",
       "      <td>B00002NCJC</td>\n",
       "      <td>thirty bucks? Why is this $[...] when the same...</td>\n",
       "      <td>[thirti, buck, product, br, http, br, br, vict...</td>\n",
       "    </tr>\n",
       "    <tr>\n",
       "      <th>1</th>\n",
       "      <td>B00002Z754</td>\n",
       "      <td>WOW Make your own 'slickers' ! I just received...</td>\n",
       "      <td>[wow, make, shipment, product, slicker, quot, ...</td>\n",
       "    </tr>\n",
       "    <tr>\n",
       "      <th>2</th>\n",
       "      <td>B00005V3DC</td>\n",
       "      <td>Best herbal tea for digestion If you're new to...</td>\n",
       "      <td>[tea, digest, product, dosag, batch, other, pr...</td>\n",
       "    </tr>\n",
       "    <tr>\n",
       "      <th>3</th>\n",
       "      <td>B000084DVR</td>\n",
       "      <td>Premium Quality Dog Food!!! We have been using...</td>\n",
       "      <td>[premium, qualiti, dog, food, food, month, fac...</td>\n",
       "    </tr>\n",
       "    <tr>\n",
       "      <th>4</th>\n",
       "      <td>B000084E1U</td>\n",
       "      <td>Cats love it! I have nine cats and they are cr...</td>\n",
       "      <td>[cat, cat, kibbl, thing, cat, food, cat, hate]</td>\n",
       "    </tr>\n",
       "    <tr>\n",
       "      <th>5</th>\n",
       "      <td>B000084EK4</td>\n",
       "      <td>Great beef look This food variety is ground, t...</td>\n",
       "      <td>[great, beef, look, food, varieti, cat, variet...</td>\n",
       "    </tr>\n",
       "    <tr>\n",
       "      <th>6</th>\n",
       "      <td>B000084EK5</td>\n",
       "      <td>Family favorite - looks like steak! This is my...</td>\n",
       "      <td>[steak, cat, food, gravi, food, bit, steak, fr...</td>\n",
       "    </tr>\n",
       "    <tr>\n",
       "      <th>7</th>\n",
       "      <td>B000084EK6</td>\n",
       "      <td>Great food! This is another favorite in our ho...</td>\n",
       "      <td>[food, favorit, hous, cat, time, month, bowl, ...</td>\n",
       "    </tr>\n",
       "    <tr>\n",
       "      <th>8</th>\n",
       "      <td>B000084EK7</td>\n",
       "      <td>What's in this? This one is a great basic food...</td>\n",
       "      <td>[one, food, mine, except, cat, ground, varieti...</td>\n",
       "    </tr>\n",
       "    <tr>\n",
       "      <th>9</th>\n",
       "      <td>B000084EK8</td>\n",
       "      <td>Not the favorite in our house Once or twice a ...</td>\n",
       "      <td>[favorit, hous, year, varieti, cat, varieti, c...</td>\n",
       "    </tr>\n",
       "  </tbody>\n",
       "</table>\n",
       "</div>"
      ],
      "text/plain": [
       "    ProductId                                               Text  \\\n",
       "0  B00002NCJC  thirty bucks? Why is this $[...] when the same...   \n",
       "1  B00002Z754  WOW Make your own 'slickers' ! I just received...   \n",
       "2  B00005V3DC  Best herbal tea for digestion If you're new to...   \n",
       "3  B000084DVR  Premium Quality Dog Food!!! We have been using...   \n",
       "4  B000084E1U  Cats love it! I have nine cats and they are cr...   \n",
       "5  B000084EK4  Great beef look This food variety is ground, t...   \n",
       "6  B000084EK5  Family favorite - looks like steak! This is my...   \n",
       "7  B000084EK6  Great food! This is another favorite in our ho...   \n",
       "8  B000084EK7  What's in this? This one is a great basic food...   \n",
       "9  B000084EK8  Not the favorite in our house Once or twice a ...   \n",
       "\n",
       "                                          Text_Words  \n",
       "0  [thirti, buck, product, br, http, br, br, vict...  \n",
       "1  [wow, make, shipment, product, slicker, quot, ...  \n",
       "2  [tea, digest, product, dosag, batch, other, pr...  \n",
       "3  [premium, qualiti, dog, food, food, month, fac...  \n",
       "4     [cat, cat, kibbl, thing, cat, food, cat, hate]  \n",
       "5  [great, beef, look, food, varieti, cat, variet...  \n",
       "6  [steak, cat, food, gravi, food, bit, steak, fr...  \n",
       "7  [food, favorit, hous, cat, time, month, bowl, ...  \n",
       "8  [one, food, mine, except, cat, ground, varieti...  \n",
       "9  [favorit, hous, year, varieti, cat, varieti, c...  "
      ]
     },
     "execution_count": 28,
     "metadata": {},
     "output_type": "execute_result"
    }
   ],
   "source": [
    "df.head(10)"
   ]
  },
  {
   "cell_type": "code",
   "execution_count": 38,
   "metadata": {},
   "outputs": [],
   "source": [
    "def vocabulary(df):\n",
    "    words = defaultdict(list)\n",
    "    for i,el in enumerate(df['Text_Words']):\n",
    "        for w in el:\n",
    "            words[w].append(i)\n",
    "    return words\n",
    "voc = vocabulary(df)"
   ]
  },
  {
   "cell_type": "code",
   "execution_count": 39,
   "metadata": {},
   "outputs": [],
   "source": [
    "#counting the ripetition of each token for each plot\n",
    "df[\"Text_Ripetition\"] = df[\"Text_Words\"].apply(lambda x : Counter(x))"
   ]
  },
  {
   "cell_type": "code",
   "execution_count": 40,
   "metadata": {},
   "outputs": [
    {
     "data": {
      "text/html": [
       "<div>\n",
       "<style scoped>\n",
       "    .dataframe tbody tr th:only-of-type {\n",
       "        vertical-align: middle;\n",
       "    }\n",
       "\n",
       "    .dataframe tbody tr th {\n",
       "        vertical-align: top;\n",
       "    }\n",
       "\n",
       "    .dataframe thead th {\n",
       "        text-align: right;\n",
       "    }\n",
       "</style>\n",
       "<table border=\"1\" class=\"dataframe\">\n",
       "  <thead>\n",
       "    <tr style=\"text-align: right;\">\n",
       "      <th></th>\n",
       "      <th>ProductId</th>\n",
       "      <th>Text</th>\n",
       "      <th>Text_Words</th>\n",
       "      <th>Text_Ripetition</th>\n",
       "      <th>Tf</th>\n",
       "    </tr>\n",
       "  </thead>\n",
       "  <tbody>\n",
       "    <tr>\n",
       "      <th>0</th>\n",
       "      <td>B00002NCJC</td>\n",
       "      <td>thirty bucks? Why is this $[...] when the same...</td>\n",
       "      <td>[thirti, buck, product, br, http, br, br, vict...</td>\n",
       "      <td>{'thirti': 1, 'buck': 1, 'product': 2, 'br': 3...</td>\n",
       "      <td>{'thirti': 0.05, 'buck': 0.05, 'product': 0.1,...</td>\n",
       "    </tr>\n",
       "    <tr>\n",
       "      <th>1</th>\n",
       "      <td>B00002Z754</td>\n",
       "      <td>WOW Make your own 'slickers' ! I just received...</td>\n",
       "      <td>[wow, make, shipment, product, slicker, quot, ...</td>\n",
       "      <td>{'wow': 1, 'make': 1, 'shipment': 1, 'product'...</td>\n",
       "      <td>{'wow': 0.030303030303030304, 'make': 0.030303...</td>\n",
       "    </tr>\n",
       "    <tr>\n",
       "      <th>2</th>\n",
       "      <td>B00005V3DC</td>\n",
       "      <td>Best herbal tea for digestion If you're new to...</td>\n",
       "      <td>[tea, digest, product, dosag, batch, other, pr...</td>\n",
       "      <td>{'tea': 5, 'digest': 1, 'product': 2, 'dosag':...</td>\n",
       "      <td>{'tea': 0.16129032258064516, 'digest': 0.03225...</td>\n",
       "    </tr>\n",
       "    <tr>\n",
       "      <th>3</th>\n",
       "      <td>B000084DVR</td>\n",
       "      <td>Premium Quality Dog Food!!! We have been using...</td>\n",
       "      <td>[premium, qualiti, dog, food, food, month, fac...</td>\n",
       "      <td>{'premium': 1, 'qualiti': 1, 'dog': 3, 'food':...</td>\n",
       "      <td>{'premium': 0.02857142857142857, 'qualiti': 0....</td>\n",
       "    </tr>\n",
       "    <tr>\n",
       "      <th>4</th>\n",
       "      <td>B000084E1U</td>\n",
       "      <td>Cats love it! I have nine cats and they are cr...</td>\n",
       "      <td>[cat, cat, kibbl, thing, cat, food, cat, hate]</td>\n",
       "      <td>{'cat': 4, 'kibbl': 1, 'thing': 1, 'food': 1, ...</td>\n",
       "      <td>{'cat': 0.5, 'kibbl': 0.125, 'thing': 0.125, '...</td>\n",
       "    </tr>\n",
       "  </tbody>\n",
       "</table>\n",
       "</div>"
      ],
      "text/plain": [
       "    ProductId                                               Text  \\\n",
       "0  B00002NCJC  thirty bucks? Why is this $[...] when the same...   \n",
       "1  B00002Z754  WOW Make your own 'slickers' ! I just received...   \n",
       "2  B00005V3DC  Best herbal tea for digestion If you're new to...   \n",
       "3  B000084DVR  Premium Quality Dog Food!!! We have been using...   \n",
       "4  B000084E1U  Cats love it! I have nine cats and they are cr...   \n",
       "\n",
       "                                          Text_Words  \\\n",
       "0  [thirti, buck, product, br, http, br, br, vict...   \n",
       "1  [wow, make, shipment, product, slicker, quot, ...   \n",
       "2  [tea, digest, product, dosag, batch, other, pr...   \n",
       "3  [premium, qualiti, dog, food, food, month, fac...   \n",
       "4     [cat, cat, kibbl, thing, cat, food, cat, hate]   \n",
       "\n",
       "                                     Text_Ripetition  \\\n",
       "0  {'thirti': 1, 'buck': 1, 'product': 2, 'br': 3...   \n",
       "1  {'wow': 1, 'make': 1, 'shipment': 1, 'product'...   \n",
       "2  {'tea': 5, 'digest': 1, 'product': 2, 'dosag':...   \n",
       "3  {'premium': 1, 'qualiti': 1, 'dog': 3, 'food':...   \n",
       "4  {'cat': 4, 'kibbl': 1, 'thing': 1, 'food': 1, ...   \n",
       "\n",
       "                                                  Tf  \n",
       "0  {'thirti': 0.05, 'buck': 0.05, 'product': 0.1,...  \n",
       "1  {'wow': 0.030303030303030304, 'make': 0.030303...  \n",
       "2  {'tea': 0.16129032258064516, 'digest': 0.03225...  \n",
       "3  {'premium': 0.02857142857142857, 'qualiti': 0....  \n",
       "4  {'cat': 0.5, 'kibbl': 0.125, 'thing': 0.125, '...  "
      ]
     },
     "execution_count": 40,
     "metadata": {},
     "output_type": "execute_result"
    }
   ],
   "source": [
    "df.head()"
   ]
  },
  {
   "cell_type": "code",
   "execution_count": 41,
   "metadata": {},
   "outputs": [],
   "source": [
    "def tf_i(text):\n",
    "    tot_token = 0\n",
    "    for k, v in text.items():\n",
    "        tot_token += v #numbers of total tokens in the plot\n",
    "    tf = {}\n",
    "    for token, rip in text.items():#the values in this dictionary are the ripetition of that specific token\n",
    "        tf[token] = rip / tot_token\n",
    "    return tf     "
   ]
  },
  {
   "cell_type": "code",
   "execution_count": 42,
   "metadata": {},
   "outputs": [],
   "source": [
    "tf = []\n",
    "for i in range(len(df['Text_Ripetition'])):\n",
    "    tf.append(tf_i(df[\"Text_Ripetition\"][i])) #applying the previous function to each plot\n",
    "df[\"Tf\"] = tf #adding the column tf to the dataset"
   ]
  },
  {
   "cell_type": "code",
   "execution_count": 43,
   "metadata": {},
   "outputs": [
    {
     "data": {
      "text/html": [
       "<div>\n",
       "<style scoped>\n",
       "    .dataframe tbody tr th:only-of-type {\n",
       "        vertical-align: middle;\n",
       "    }\n",
       "\n",
       "    .dataframe tbody tr th {\n",
       "        vertical-align: top;\n",
       "    }\n",
       "\n",
       "    .dataframe thead th {\n",
       "        text-align: right;\n",
       "    }\n",
       "</style>\n",
       "<table border=\"1\" class=\"dataframe\">\n",
       "  <thead>\n",
       "    <tr style=\"text-align: right;\">\n",
       "      <th></th>\n",
       "      <th>ProductId</th>\n",
       "      <th>Text</th>\n",
       "      <th>Text_Words</th>\n",
       "      <th>Text_Ripetition</th>\n",
       "      <th>Tf</th>\n",
       "    </tr>\n",
       "  </thead>\n",
       "  <tbody>\n",
       "    <tr>\n",
       "      <th>0</th>\n",
       "      <td>B00002NCJC</td>\n",
       "      <td>thirty bucks? Why is this $[...] when the same...</td>\n",
       "      <td>[thirti, buck, product, br, http, br, br, vict...</td>\n",
       "      <td>{'thirti': 1, 'buck': 1, 'product': 2, 'br': 3...</td>\n",
       "      <td>{'thirti': 0.05, 'buck': 0.05, 'product': 0.1,...</td>\n",
       "    </tr>\n",
       "    <tr>\n",
       "      <th>1</th>\n",
       "      <td>B00002Z754</td>\n",
       "      <td>WOW Make your own 'slickers' ! I just received...</td>\n",
       "      <td>[wow, make, shipment, product, slicker, quot, ...</td>\n",
       "      <td>{'wow': 1, 'make': 1, 'shipment': 1, 'product'...</td>\n",
       "      <td>{'wow': 0.030303030303030304, 'make': 0.030303...</td>\n",
       "    </tr>\n",
       "    <tr>\n",
       "      <th>2</th>\n",
       "      <td>B00005V3DC</td>\n",
       "      <td>Best herbal tea for digestion If you're new to...</td>\n",
       "      <td>[tea, digest, product, dosag, batch, other, pr...</td>\n",
       "      <td>{'tea': 5, 'digest': 1, 'product': 2, 'dosag':...</td>\n",
       "      <td>{'tea': 0.16129032258064516, 'digest': 0.03225...</td>\n",
       "    </tr>\n",
       "    <tr>\n",
       "      <th>3</th>\n",
       "      <td>B000084DVR</td>\n",
       "      <td>Premium Quality Dog Food!!! We have been using...</td>\n",
       "      <td>[premium, qualiti, dog, food, food, month, fac...</td>\n",
       "      <td>{'premium': 1, 'qualiti': 1, 'dog': 3, 'food':...</td>\n",
       "      <td>{'premium': 0.02857142857142857, 'qualiti': 0....</td>\n",
       "    </tr>\n",
       "    <tr>\n",
       "      <th>4</th>\n",
       "      <td>B000084E1U</td>\n",
       "      <td>Cats love it! I have nine cats and they are cr...</td>\n",
       "      <td>[cat, cat, kibbl, thing, cat, food, cat, hate]</td>\n",
       "      <td>{'cat': 4, 'kibbl': 1, 'thing': 1, 'food': 1, ...</td>\n",
       "      <td>{'cat': 0.5, 'kibbl': 0.125, 'thing': 0.125, '...</td>\n",
       "    </tr>\n",
       "  </tbody>\n",
       "</table>\n",
       "</div>"
      ],
      "text/plain": [
       "    ProductId                                               Text  \\\n",
       "0  B00002NCJC  thirty bucks? Why is this $[...] when the same...   \n",
       "1  B00002Z754  WOW Make your own 'slickers' ! I just received...   \n",
       "2  B00005V3DC  Best herbal tea for digestion If you're new to...   \n",
       "3  B000084DVR  Premium Quality Dog Food!!! We have been using...   \n",
       "4  B000084E1U  Cats love it! I have nine cats and they are cr...   \n",
       "\n",
       "                                          Text_Words  \\\n",
       "0  [thirti, buck, product, br, http, br, br, vict...   \n",
       "1  [wow, make, shipment, product, slicker, quot, ...   \n",
       "2  [tea, digest, product, dosag, batch, other, pr...   \n",
       "3  [premium, qualiti, dog, food, food, month, fac...   \n",
       "4     [cat, cat, kibbl, thing, cat, food, cat, hate]   \n",
       "\n",
       "                                     Text_Ripetition  \\\n",
       "0  {'thirti': 1, 'buck': 1, 'product': 2, 'br': 3...   \n",
       "1  {'wow': 1, 'make': 1, 'shipment': 1, 'product'...   \n",
       "2  {'tea': 5, 'digest': 1, 'product': 2, 'dosag':...   \n",
       "3  {'premium': 1, 'qualiti': 1, 'dog': 3, 'food':...   \n",
       "4  {'cat': 4, 'kibbl': 1, 'thing': 1, 'food': 1, ...   \n",
       "\n",
       "                                                  Tf  \n",
       "0  {'thirti': 0.05, 'buck': 0.05, 'product': 0.1,...  \n",
       "1  {'wow': 0.030303030303030304, 'make': 0.030303...  \n",
       "2  {'tea': 0.16129032258064516, 'digest': 0.03225...  \n",
       "3  {'premium': 0.02857142857142857, 'qualiti': 0....  \n",
       "4  {'cat': 0.5, 'kibbl': 0.125, 'thing': 0.125, '...  "
      ]
     },
     "execution_count": 43,
     "metadata": {},
     "output_type": "execute_result"
    }
   ],
   "source": [
    "df.head()"
   ]
  },
  {
   "cell_type": "code",
   "execution_count": 44,
   "metadata": {},
   "outputs": [],
   "source": [
    "idf = {}\n",
    "for el in df['Text_Words']:   \n",
    "    for token in el:\n",
    "         idf.update({ token : math.log(len(df)/ len(voc[token]))})  #applying the formula for each token "
   ]
  },
  {
   "cell_type": "code",
   "execution_count": 45,
   "metadata": {},
   "outputs": [],
   "source": [
    "# Creating a vocabulary that as keys as the word and as values its index\n",
    "def vocabulary_words(df):\n",
    "    words = dict()\n",
    "    i = 0\n",
    "    for el in tqdm(df['Text_Words']):\n",
    "        for w in el:\n",
    "            if w not in words.keys():\n",
    "                words[w] = i\n",
    "                i += 1\n",
    "    return words"
   ]
  },
  {
   "cell_type": "code",
   "execution_count": 46,
   "metadata": {},
   "outputs": [
    {
     "name": "stderr",
     "output_type": "stream",
     "text": [
      "100%|██████████| 1422/1422 [00:00<00:00, 36305.92it/s]\n"
     ]
    }
   ],
   "source": [
    "voc_words = vocabulary_words(df)"
   ]
  },
  {
   "cell_type": "code",
   "execution_count": 47,
   "metadata": {},
   "outputs": [],
   "source": [
    "def score(dictionary):\n",
    "    v = [0]*(len(voc_words))\n",
    "    for word in dictionary.keys():\n",
    "        v[voc_words[word]] = dictionary[word]*idf[word]\n",
    "    return v"
   ]
  },
  {
   "cell_type": "code",
   "execution_count": 48,
   "metadata": {},
   "outputs": [],
   "source": [
    "# lambda\n",
    "df['Tf-Idf'] = df.Tf.apply(lambda x: score(x))"
   ]
  },
  {
   "cell_type": "code",
   "execution_count": 49,
   "metadata": {},
   "outputs": [
    {
     "data": {
      "text/html": [
       "<div>\n",
       "<style scoped>\n",
       "    .dataframe tbody tr th:only-of-type {\n",
       "        vertical-align: middle;\n",
       "    }\n",
       "\n",
       "    .dataframe tbody tr th {\n",
       "        vertical-align: top;\n",
       "    }\n",
       "\n",
       "    .dataframe thead th {\n",
       "        text-align: right;\n",
       "    }\n",
       "</style>\n",
       "<table border=\"1\" class=\"dataframe\">\n",
       "  <thead>\n",
       "    <tr style=\"text-align: right;\">\n",
       "      <th></th>\n",
       "      <th>ProductId</th>\n",
       "      <th>Text</th>\n",
       "      <th>Text_Words</th>\n",
       "      <th>Text_Ripetition</th>\n",
       "      <th>Tf</th>\n",
       "      <th>Tf-Idf</th>\n",
       "    </tr>\n",
       "  </thead>\n",
       "  <tbody>\n",
       "    <tr>\n",
       "      <th>0</th>\n",
       "      <td>B00002NCJC</td>\n",
       "      <td>thirty bucks? Why is this $[...] when the same...</td>\n",
       "      <td>[thirti, buck, product, br, http, br, br, vict...</td>\n",
       "      <td>{'thirti': 1, 'buck': 1, 'product': 2, 'br': 3...</td>\n",
       "      <td>{'thirti': 0.05, 'buck': 0.05, 'product': 0.1,...</td>\n",
       "      <td>[0.26569547306539365, 0.15427161702337747, -0....</td>\n",
       "    </tr>\n",
       "    <tr>\n",
       "      <th>1</th>\n",
       "      <td>B00002Z754</td>\n",
       "      <td>WOW Make your own 'slickers' ! I just received...</td>\n",
       "      <td>[wow, make, shipment, product, slicker, quot, ...</td>\n",
       "      <td>{'wow': 1, 'make': 1, 'shipment': 1, 'product'...</td>\n",
       "      <td>{'wow': 0.030303030303030304, 'make': 0.030303...</td>\n",
       "      <td>[0, 0, -0.10408308572411039, 0, 0, 0, 0, 0, 0,...</td>\n",
       "    </tr>\n",
       "    <tr>\n",
       "      <th>2</th>\n",
       "      <td>B00005V3DC</td>\n",
       "      <td>Best herbal tea for digestion If you're new to...</td>\n",
       "      <td>[tea, digest, product, dosag, batch, other, pr...</td>\n",
       "      <td>{'tea': 5, 'digest': 1, 'product': 2, 'dosag':...</td>\n",
       "      <td>{'tea': 0.16129032258064516, 'digest': 0.03225...</td>\n",
       "      <td>[0, 0, -0.05539906175638133, -0.12771574252249...</td>\n",
       "    </tr>\n",
       "    <tr>\n",
       "      <th>3</th>\n",
       "      <td>B000084DVR</td>\n",
       "      <td>Premium Quality Dog Food!!! We have been using...</td>\n",
       "      <td>[premium, qualiti, dog, food, food, month, fac...</td>\n",
       "      <td>{'premium': 1, 'qualiti': 1, 'dog': 3, 'food':...</td>\n",
       "      <td>{'premium': 0.02857142857142857, 'qualiti': 0....</td>\n",
       "      <td>[0, 0, 0, 0, 0, 0, 0, 0, 0, 0, 0, 0, 0, 0, 0, ...</td>\n",
       "    </tr>\n",
       "    <tr>\n",
       "      <th>4</th>\n",
       "      <td>B000084E1U</td>\n",
       "      <td>Cats love it! I have nine cats and they are cr...</td>\n",
       "      <td>[cat, cat, kibbl, thing, cat, food, cat, hate]</td>\n",
       "      <td>{'cat': 4, 'kibbl': 1, 'thing': 1, 'food': 1, ...</td>\n",
       "      <td>{'cat': 0.5, 'kibbl': 0.125, 'thing': 0.125, '...</td>\n",
       "      <td>[0, 0, 0, 0, 0, 0, 0, 0, 0, 0, 0, 0, 0, 0, 0, ...</td>\n",
       "    </tr>\n",
       "  </tbody>\n",
       "</table>\n",
       "</div>"
      ],
      "text/plain": [
       "    ProductId                                               Text  \\\n",
       "0  B00002NCJC  thirty bucks? Why is this $[...] when the same...   \n",
       "1  B00002Z754  WOW Make your own 'slickers' ! I just received...   \n",
       "2  B00005V3DC  Best herbal tea for digestion If you're new to...   \n",
       "3  B000084DVR  Premium Quality Dog Food!!! We have been using...   \n",
       "4  B000084E1U  Cats love it! I have nine cats and they are cr...   \n",
       "\n",
       "                                          Text_Words  \\\n",
       "0  [thirti, buck, product, br, http, br, br, vict...   \n",
       "1  [wow, make, shipment, product, slicker, quot, ...   \n",
       "2  [tea, digest, product, dosag, batch, other, pr...   \n",
       "3  [premium, qualiti, dog, food, food, month, fac...   \n",
       "4     [cat, cat, kibbl, thing, cat, food, cat, hate]   \n",
       "\n",
       "                                     Text_Ripetition  \\\n",
       "0  {'thirti': 1, 'buck': 1, 'product': 2, 'br': 3...   \n",
       "1  {'wow': 1, 'make': 1, 'shipment': 1, 'product'...   \n",
       "2  {'tea': 5, 'digest': 1, 'product': 2, 'dosag':...   \n",
       "3  {'premium': 1, 'qualiti': 1, 'dog': 3, 'food':...   \n",
       "4  {'cat': 4, 'kibbl': 1, 'thing': 1, 'food': 1, ...   \n",
       "\n",
       "                                                  Tf  \\\n",
       "0  {'thirti': 0.05, 'buck': 0.05, 'product': 0.1,...   \n",
       "1  {'wow': 0.030303030303030304, 'make': 0.030303...   \n",
       "2  {'tea': 0.16129032258064516, 'digest': 0.03225...   \n",
       "3  {'premium': 0.02857142857142857, 'qualiti': 0....   \n",
       "4  {'cat': 0.5, 'kibbl': 0.125, 'thing': 0.125, '...   \n",
       "\n",
       "                                              Tf-Idf  \n",
       "0  [0.26569547306539365, 0.15427161702337747, -0....  \n",
       "1  [0, 0, -0.10408308572411039, 0, 0, 0, 0, 0, 0,...  \n",
       "2  [0, 0, -0.05539906175638133, -0.12771574252249...  \n",
       "3  [0, 0, 0, 0, 0, 0, 0, 0, 0, 0, 0, 0, 0, 0, 0, ...  \n",
       "4  [0, 0, 0, 0, 0, 0, 0, 0, 0, 0, 0, 0, 0, 0, 0, ...  "
      ]
     },
     "execution_count": 49,
     "metadata": {},
     "output_type": "execute_result"
    }
   ],
   "source": [
    "df.head()"
   ]
  },
  {
   "cell_type": "markdown",
   "metadata": {},
   "source": [
    "## Dimensionality Reduction"
   ]
  },
  {
   "cell_type": "code",
   "execution_count": 50,
   "metadata": {},
   "outputs": [],
   "source": [
    "import numpy as np\n",
    "from sklearn.preprocessing import MultiLabelBinarizer\n",
    "from sklearn.decomposition import TruncatedSVD"
   ]
  },
  {
   "cell_type": "code",
   "execution_count": 64,
   "metadata": {},
   "outputs": [],
   "source": [
    "mlb = MultiLabelBinarizer(sparse_output=True)\n",
    "a = mlb.fit_transform(df['Tf-Idf'])"
   ]
  },
  {
   "cell_type": "code",
   "execution_count": 74,
   "metadata": {},
   "outputs": [
    {
     "data": {
      "text/plain": [
       "(1422, 51650)"
      ]
     },
     "execution_count": 74,
     "metadata": {},
     "output_type": "execute_result"
    }
   ],
   "source": [
    "a.shape"
   ]
  },
  {
   "cell_type": "code",
   "execution_count": 75,
   "metadata": {},
   "outputs": [
    {
     "data": {
      "text/plain": [
       "TruncatedSVD(n_components=500, n_iter=30, random_state=42)"
      ]
     },
     "execution_count": 75,
     "metadata": {},
     "output_type": "execute_result"
    }
   ],
   "source": [
    "svd = TruncatedSVD(n_components=500, n_iter=30, random_state=42)\n",
    "svd.fit(a)"
   ]
  },
  {
   "cell_type": "code",
   "execution_count": 76,
   "metadata": {},
   "outputs": [
    {
     "name": "stdout",
     "output_type": "stream",
     "text": [
      "0.7779640338936401\n"
     ]
    }
   ],
   "source": [
    "print(svd.explained_variance_ratio_.sum())"
   ]
  },
  {
   "cell_type": "code",
   "execution_count": 77,
   "metadata": {},
   "outputs": [],
   "source": [
    "svd_a = svd.transform(a)"
   ]
  },
  {
   "cell_type": "code",
   "execution_count": 78,
   "metadata": {},
   "outputs": [
    {
     "data": {
      "text/plain": [
       "(1422, 500)"
      ]
     },
     "execution_count": 78,
     "metadata": {},
     "output_type": "execute_result"
    }
   ],
   "source": [
    "svd_a.shape"
   ]
  },
  {
   "cell_type": "markdown",
   "metadata": {},
   "source": [
    "## Implement KMeans from scratch\n",
    "### Step 0 \n",
    "Elbow method to choose the number of clusters k \n",
    "### Step 1\n",
    "Random inizialization of the k representative points\n",
    "### Step 2\n",
    "Find the cluster $C_i$ defined as $\\{x : \\parallel x-\\mu_i\\parallel \\leq \\parallel x-\\mu_j\\parallel \\forall j\\ne i\\}  \\forall i=1..k$\n",
    "### Step 3 \n",
    "Find $\\mu_i$ which is defined as $\\frac{1}{|C_i|} \\sum_{x\\in C_i} x$ $\\forall i=1..k$\n",
    "<hr>\n",
    "Repeat step 2 and step 3 until <b>convergence</b>.\n",
    "\n",
    "### Convergence\n",
    "We stop when the clusters don't change from the previous iteration."
   ]
  },
  {
   "cell_type": "code",
   "execution_count": 85,
   "metadata": {},
   "outputs": [],
   "source": [
    "from sklearn.metrics import pairwise_distances\n",
    "import random"
   ]
  },
  {
   "cell_type": "code",
   "execution_count": 86,
   "metadata": {},
   "outputs": [],
   "source": [
    "def euclidian_dist (x, y):\n",
    "    dist = 0\n",
    "    for i in range(len(x)):    #iterating over the number of components\n",
    "        dist += (x[i]-y[i])**2  \n",
    "    return (math.sqrt(dist))"
   ]
  },
  {
   "cell_type": "code",
   "execution_count": 87,
   "metadata": {},
   "outputs": [],
   "source": [
    "#K-means Algorithm\n",
    "def KMeans(k, matrix):\n",
    "     #Step 1\n",
    "    representatives_idx = random.sample(range(1, len(matrix)), k)  #Chosing the initial representatives\n",
    "    new_representatives =  []\n",
    "    \n",
    "    for i in range(k):\n",
    "        new_representatives.append(matrix[representatives_idx[i]])\n",
    "        \n",
    "    representatives = []\n",
    "    \n",
    "    run = True\n",
    "    limit = 0\n",
    "    \n",
    "    while run:\n",
    "        representatives = new_representatives\n",
    "        #Creating the clusters\n",
    "        clusters = {i: [] for i in range(k)}  # empty dictionary for each cluster with list as value \n",
    "        #Step 2\n",
    "        for point in matrix:\n",
    "            dist_xmu = []      #This variable contains the distance between the point and the representatives\n",
    "            for i in range(k): #for each representative\n",
    "                dist_xmu.append(euclidian_dist(representatives[i], point))\n",
    "            nearest_representative = dist_xmu.index(min(dist_xmu))\n",
    "            clusters[nearest_representative].append(point) #Put the point in the cluster with the minimum distance\n",
    "        \n",
    "        #Step 3\n",
    "        new_representatives = []\n",
    "        for i in range(k):\n",
    "            run = False\n",
    "            new_val = np.sum(clusters[i],axis=0)/len(clusters[i])\n",
    "            new_representatives.append(new_val)\n",
    "            if representatives[i][0] != new_representatives[i][0] or representatives[i][1] != new_representatives[i][1]:\n",
    "                run = True\n",
    "                limit += 1\n",
    "        \n",
    "        if limit == 15:\n",
    "            return clusters, new_representatives\n",
    "                \n",
    "    return clusters, new_representatives"
   ]
  },
  {
   "cell_type": "code",
   "execution_count": 89,
   "metadata": {},
   "outputs": [
    {
     "name": "stdout",
     "output_type": "stream",
     "text": [
      "1\n",
      "2\n",
      "3\n",
      "4\n",
      "5\n",
      "6\n",
      "7\n"
     ]
    }
   ],
   "source": [
    "clusters, new_representatives = KMeans(10, svd_a)"
   ]
  },
  {
   "cell_type": "code",
   "execution_count": null,
   "metadata": {},
   "outputs": [],
   "source": []
  },
  {
   "cell_type": "code",
   "execution_count": null,
   "metadata": {},
   "outputs": [],
   "source": []
  },
  {
   "cell_type": "code",
   "execution_count": null,
   "metadata": {},
   "outputs": [],
   "source": []
  },
  {
   "cell_type": "code",
   "execution_count": null,
   "metadata": {},
   "outputs": [],
   "source": []
  },
  {
   "cell_type": "code",
   "execution_count": 12,
   "metadata": {},
   "outputs": [
    {
     "name": "stderr",
     "output_type": "stream",
     "text": [
      "  0%|                                                                                           | 0/17 [00:00<?, ?it/s]\n"
     ]
    },
    {
     "ename": "NameError",
     "evalue": "name 'KMeans' is not defined",
     "output_type": "error",
     "traceback": [
      "\u001b[1;31m---------------------------------------------------------------------------\u001b[0m",
      "\u001b[1;31mNameError\u001b[0m                                 Traceback (most recent call last)",
      "\u001b[1;32m<ipython-input-12-a5b5ef305f46>\u001b[0m in \u001b[0;36m<module>\u001b[1;34m\u001b[0m\n\u001b[0;32m      2\u001b[0m \u001b[0melbow\u001b[0m \u001b[1;33m=\u001b[0m \u001b[1;33m{\u001b[0m\u001b[1;33m}\u001b[0m\u001b[1;33m\u001b[0m\u001b[1;33m\u001b[0m\u001b[0m\n\u001b[0;32m      3\u001b[0m \u001b[1;32mfor\u001b[0m \u001b[0mk\u001b[0m \u001b[1;32min\u001b[0m \u001b[0mtqdm\u001b[0m\u001b[1;33m(\u001b[0m\u001b[0mrange\u001b[0m\u001b[1;33m(\u001b[0m\u001b[1;36m3\u001b[0m\u001b[1;33m,\u001b[0m\u001b[1;36m20\u001b[0m\u001b[1;33m)\u001b[0m\u001b[1;33m)\u001b[0m\u001b[1;33m:\u001b[0m\u001b[1;33m\u001b[0m\u001b[1;33m\u001b[0m\u001b[0m\n\u001b[1;32m----> 4\u001b[1;33m     \u001b[0melbow_model\u001b[0m \u001b[1;33m=\u001b[0m \u001b[0mKMeans\u001b[0m \u001b[1;33m(\u001b[0m\u001b[0mn_clusters\u001b[0m \u001b[1;33m=\u001b[0m \u001b[0mk\u001b[0m\u001b[1;33m)\u001b[0m\u001b[1;33m\u001b[0m\u001b[1;33m\u001b[0m\u001b[0m\n\u001b[0m\u001b[0;32m      5\u001b[0m     \u001b[0melbow_model\u001b[0m\u001b[1;33m.\u001b[0m\u001b[0mfit_predict\u001b[0m\u001b[1;33m(\u001b[0m\u001b[0mslice\u001b[0m\u001b[1;33m)\u001b[0m\u001b[1;33m\u001b[0m\u001b[1;33m\u001b[0m\u001b[0m\n\u001b[0;32m      6\u001b[0m     \u001b[0melbow\u001b[0m\u001b[1;33m[\u001b[0m\u001b[0mk\u001b[0m\u001b[1;33m]\u001b[0m \u001b[1;33m=\u001b[0m \u001b[0melbow_model\u001b[0m\u001b[1;33m.\u001b[0m\u001b[0minertia_\u001b[0m\u001b[1;33m\u001b[0m\u001b[1;33m\u001b[0m\u001b[0m\n",
      "\u001b[1;31mNameError\u001b[0m: name 'KMeans' is not defined"
     ]
    }
   ],
   "source": [
    "#step 0\n",
    "elbow = {}\n",
    "for k in tqdm(range(3,20)):\n",
    "    elbow_model = KMeans (n_clusters = k)\n",
    "    elbow_model.fit_predict(slice)\n",
    "    elbow[k] = elbow_model.inertia_"
   ]
  }
 ],
 "metadata": {
  "kernelspec": {
   "display_name": "Python 3",
   "language": "python",
   "name": "python3"
  },
  "language_info": {
   "codemirror_mode": {
    "name": "ipython",
    "version": 3
   },
   "file_extension": ".py",
   "mimetype": "text/x-python",
   "name": "python",
   "nbconvert_exporter": "python",
   "pygments_lexer": "ipython3",
   "version": "3.8.5"
  }
 },
 "nbformat": 4,
 "nbformat_minor": 4
}

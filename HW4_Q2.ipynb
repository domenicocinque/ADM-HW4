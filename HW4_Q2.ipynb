{
 "cells": [
  {
   "cell_type": "markdown",
   "metadata": {},
   "source": [
    "# Libraries"
   ]
  },
  {
   "cell_type": "code",
   "execution_count": 3,
   "metadata": {},
   "outputs": [],
   "source": [
    "import pandas as pd\n",
    "from tqdm import tqdm\n",
    "from sklearn.cluster import KMeans\n",
    "from collections import defaultdict\n",
    "from collections import Counter\n",
    "import math\n",
    "from ast import literal_eval\n",
    "import numpy as np"
   ]
  },
  {
   "cell_type": "markdown",
   "metadata": {},
   "source": [
    "# Cleaning the Data"
   ]
  },
  {
   "cell_type": "code",
   "execution_count": 2,
   "metadata": {},
   "outputs": [],
   "source": [
    "path = '/Users/domenicomattiacinque/Documents/Università/ADM2020/HW4/archive'\n",
    "dataset = pd.read_csv(path + '/Reviews.csv', nrows = 10000)"
   ]
  },
  {
   "cell_type": "code",
   "execution_count": 3,
   "metadata": {},
   "outputs": [
    {
     "data": {
      "text/html": [
       "<div>\n",
       "<style scoped>\n",
       "    .dataframe tbody tr th:only-of-type {\n",
       "        vertical-align: middle;\n",
       "    }\n",
       "\n",
       "    .dataframe tbody tr th {\n",
       "        vertical-align: top;\n",
       "    }\n",
       "\n",
       "    .dataframe thead th {\n",
       "        text-align: right;\n",
       "    }\n",
       "</style>\n",
       "<table border=\"1\" class=\"dataframe\">\n",
       "  <thead>\n",
       "    <tr style=\"text-align: right;\">\n",
       "      <th></th>\n",
       "      <th>Id</th>\n",
       "      <th>ProductId</th>\n",
       "      <th>UserId</th>\n",
       "      <th>ProfileName</th>\n",
       "      <th>HelpfulnessNumerator</th>\n",
       "      <th>HelpfulnessDenominator</th>\n",
       "      <th>Score</th>\n",
       "      <th>Time</th>\n",
       "      <th>Summary</th>\n",
       "      <th>Text</th>\n",
       "    </tr>\n",
       "  </thead>\n",
       "  <tbody>\n",
       "    <tr>\n",
       "      <th>0</th>\n",
       "      <td>1</td>\n",
       "      <td>B001E4KFG0</td>\n",
       "      <td>A3SGXH7AUHU8GW</td>\n",
       "      <td>delmartian</td>\n",
       "      <td>1</td>\n",
       "      <td>1</td>\n",
       "      <td>5</td>\n",
       "      <td>1303862400</td>\n",
       "      <td>Good Quality Dog Food</td>\n",
       "      <td>I have bought several of the Vitality canned d...</td>\n",
       "    </tr>\n",
       "    <tr>\n",
       "      <th>1</th>\n",
       "      <td>2</td>\n",
       "      <td>B00813GRG4</td>\n",
       "      <td>A1D87F6ZCVE5NK</td>\n",
       "      <td>dll pa</td>\n",
       "      <td>0</td>\n",
       "      <td>0</td>\n",
       "      <td>1</td>\n",
       "      <td>1346976000</td>\n",
       "      <td>Not as Advertised</td>\n",
       "      <td>Product arrived labeled as Jumbo Salted Peanut...</td>\n",
       "    </tr>\n",
       "    <tr>\n",
       "      <th>2</th>\n",
       "      <td>3</td>\n",
       "      <td>B000LQOCH0</td>\n",
       "      <td>ABXLMWJIXXAIN</td>\n",
       "      <td>Natalia Corres \"Natalia Corres\"</td>\n",
       "      <td>1</td>\n",
       "      <td>1</td>\n",
       "      <td>4</td>\n",
       "      <td>1219017600</td>\n",
       "      <td>\"Delight\" says it all</td>\n",
       "      <td>This is a confection that has been around a fe...</td>\n",
       "    </tr>\n",
       "    <tr>\n",
       "      <th>3</th>\n",
       "      <td>4</td>\n",
       "      <td>B000UA0QIQ</td>\n",
       "      <td>A395BORC6FGVXV</td>\n",
       "      <td>Karl</td>\n",
       "      <td>3</td>\n",
       "      <td>3</td>\n",
       "      <td>2</td>\n",
       "      <td>1307923200</td>\n",
       "      <td>Cough Medicine</td>\n",
       "      <td>If you are looking for the secret ingredient i...</td>\n",
       "    </tr>\n",
       "    <tr>\n",
       "      <th>4</th>\n",
       "      <td>5</td>\n",
       "      <td>B006K2ZZ7K</td>\n",
       "      <td>A1UQRSCLF8GW1T</td>\n",
       "      <td>Michael D. Bigham \"M. Wassir\"</td>\n",
       "      <td>0</td>\n",
       "      <td>0</td>\n",
       "      <td>5</td>\n",
       "      <td>1350777600</td>\n",
       "      <td>Great taffy</td>\n",
       "      <td>Great taffy at a great price.  There was a wid...</td>\n",
       "    </tr>\n",
       "  </tbody>\n",
       "</table>\n",
       "</div>"
      ],
      "text/plain": [
       "   Id   ProductId          UserId                      ProfileName  \\\n",
       "0   1  B001E4KFG0  A3SGXH7AUHU8GW                       delmartian   \n",
       "1   2  B00813GRG4  A1D87F6ZCVE5NK                           dll pa   \n",
       "2   3  B000LQOCH0   ABXLMWJIXXAIN  Natalia Corres \"Natalia Corres\"   \n",
       "3   4  B000UA0QIQ  A395BORC6FGVXV                             Karl   \n",
       "4   5  B006K2ZZ7K  A1UQRSCLF8GW1T    Michael D. Bigham \"M. Wassir\"   \n",
       "\n",
       "   HelpfulnessNumerator  HelpfulnessDenominator  Score        Time  \\\n",
       "0                     1                       1      5  1303862400   \n",
       "1                     0                       0      1  1346976000   \n",
       "2                     1                       1      4  1219017600   \n",
       "3                     3                       3      2  1307923200   \n",
       "4                     0                       0      5  1350777600   \n",
       "\n",
       "                 Summary                                               Text  \n",
       "0  Good Quality Dog Food  I have bought several of the Vitality canned d...  \n",
       "1      Not as Advertised  Product arrived labeled as Jumbo Salted Peanut...  \n",
       "2  \"Delight\" says it all  This is a confection that has been around a fe...  \n",
       "3         Cough Medicine  If you are looking for the secret ingredient i...  \n",
       "4            Great taffy  Great taffy at a great price.  There was a wid...  "
      ]
     },
     "execution_count": 3,
     "metadata": {},
     "output_type": "execute_result"
    }
   ],
   "source": [
    "dataset.head()"
   ]
  },
  {
   "cell_type": "code",
   "execution_count": 4,
   "metadata": {},
   "outputs": [
    {
     "data": {
      "text/plain": [
       "Id                        0\n",
       "ProductId                 0\n",
       "UserId                    0\n",
       "ProfileName               0\n",
       "HelpfulnessNumerator      0\n",
       "HelpfulnessDenominator    0\n",
       "Score                     0\n",
       "Time                      0\n",
       "Summary                   0\n",
       "Text                      0\n",
       "dtype: int64"
      ]
     },
     "execution_count": 4,
     "metadata": {},
     "output_type": "execute_result"
    }
   ],
   "source": [
    "dataset.isnull().sum()"
   ]
  },
  {
   "cell_type": "code",
   "execution_count": 5,
   "metadata": {},
   "outputs": [],
   "source": [
    "dataset['Summary'].fillna('', inplace=True)"
   ]
  },
  {
   "cell_type": "code",
   "execution_count": 6,
   "metadata": {},
   "outputs": [],
   "source": [
    "dataset['Text'] = dataset['Summary'] + ' ' + dataset['Text'] "
   ]
  },
  {
   "cell_type": "code",
   "execution_count": 7,
   "metadata": {},
   "outputs": [],
   "source": [
    "dataset.drop(['UserId','ProfileName','HelpfulnessNumerator',\n",
    "              'HelpfulnessDenominator','Score','Time','Summary'],axis=1, inplace=True)"
   ]
  },
  {
   "cell_type": "code",
   "execution_count": 8,
   "metadata": {},
   "outputs": [
    {
     "data": {
      "text/html": [
       "<div>\n",
       "<style scoped>\n",
       "    .dataframe tbody tr th:only-of-type {\n",
       "        vertical-align: middle;\n",
       "    }\n",
       "\n",
       "    .dataframe tbody tr th {\n",
       "        vertical-align: top;\n",
       "    }\n",
       "\n",
       "    .dataframe thead th {\n",
       "        text-align: right;\n",
       "    }\n",
       "</style>\n",
       "<table border=\"1\" class=\"dataframe\">\n",
       "  <thead>\n",
       "    <tr style=\"text-align: right;\">\n",
       "      <th></th>\n",
       "      <th>Id</th>\n",
       "      <th>ProductId</th>\n",
       "      <th>Text</th>\n",
       "    </tr>\n",
       "  </thead>\n",
       "  <tbody>\n",
       "    <tr>\n",
       "      <th>0</th>\n",
       "      <td>1</td>\n",
       "      <td>B001E4KFG0</td>\n",
       "      <td>Good Quality Dog Food I have bought several of...</td>\n",
       "    </tr>\n",
       "    <tr>\n",
       "      <th>1</th>\n",
       "      <td>2</td>\n",
       "      <td>B00813GRG4</td>\n",
       "      <td>Not as Advertised Product arrived labeled as J...</td>\n",
       "    </tr>\n",
       "    <tr>\n",
       "      <th>2</th>\n",
       "      <td>3</td>\n",
       "      <td>B000LQOCH0</td>\n",
       "      <td>\"Delight\" says it all This is a confection tha...</td>\n",
       "    </tr>\n",
       "    <tr>\n",
       "      <th>3</th>\n",
       "      <td>4</td>\n",
       "      <td>B000UA0QIQ</td>\n",
       "      <td>Cough Medicine If you are looking for the secr...</td>\n",
       "    </tr>\n",
       "    <tr>\n",
       "      <th>4</th>\n",
       "      <td>5</td>\n",
       "      <td>B006K2ZZ7K</td>\n",
       "      <td>Great taffy Great taffy at a great price.  The...</td>\n",
       "    </tr>\n",
       "  </tbody>\n",
       "</table>\n",
       "</div>"
      ],
      "text/plain": [
       "   Id   ProductId                                               Text\n",
       "0   1  B001E4KFG0  Good Quality Dog Food I have bought several of...\n",
       "1   2  B00813GRG4  Not as Advertised Product arrived labeled as J...\n",
       "2   3  B000LQOCH0  \"Delight\" says it all This is a confection tha...\n",
       "3   4  B000UA0QIQ  Cough Medicine If you are looking for the secr...\n",
       "4   5  B006K2ZZ7K  Great taffy Great taffy at a great price.  The..."
      ]
     },
     "execution_count": 8,
     "metadata": {},
     "output_type": "execute_result"
    }
   ],
   "source": [
    "dataset.head()"
   ]
  },
  {
   "cell_type": "code",
   "execution_count": 10,
   "metadata": {},
   "outputs": [
    {
     "data": {
      "text/plain": [
       "1422"
      ]
     },
     "execution_count": 10,
     "metadata": {},
     "output_type": "execute_result"
    }
   ],
   "source": [
    "dataset['ProductId'].nunique()"
   ]
  },
  {
   "cell_type": "code",
   "execution_count": 18,
   "metadata": {},
   "outputs": [],
   "source": [
    "df = dataset.groupby('ProductId')['Text'].apply(lambda x: ' '.join(x)).reset_index()"
   ]
  },
  {
   "cell_type": "code",
   "execution_count": 21,
   "metadata": {},
   "outputs": [
    {
     "data": {
      "text/html": [
       "<div>\n",
       "<style scoped>\n",
       "    .dataframe tbody tr th:only-of-type {\n",
       "        vertical-align: middle;\n",
       "    }\n",
       "\n",
       "    .dataframe tbody tr th {\n",
       "        vertical-align: top;\n",
       "    }\n",
       "\n",
       "    .dataframe thead th {\n",
       "        text-align: right;\n",
       "    }\n",
       "</style>\n",
       "<table border=\"1\" class=\"dataframe\">\n",
       "  <thead>\n",
       "    <tr style=\"text-align: right;\">\n",
       "      <th></th>\n",
       "      <th>ProductId</th>\n",
       "      <th>Text</th>\n",
       "    </tr>\n",
       "  </thead>\n",
       "  <tbody>\n",
       "    <tr>\n",
       "      <th>0</th>\n",
       "      <td>B00002NCJC</td>\n",
       "      <td>thirty bucks? Why is this $[...] when the same...</td>\n",
       "    </tr>\n",
       "    <tr>\n",
       "      <th>1</th>\n",
       "      <td>B00002Z754</td>\n",
       "      <td>WOW Make your own 'slickers' ! I just received...</td>\n",
       "    </tr>\n",
       "    <tr>\n",
       "      <th>2</th>\n",
       "      <td>B00005V3DC</td>\n",
       "      <td>Best herbal tea for digestion If you're new to...</td>\n",
       "    </tr>\n",
       "    <tr>\n",
       "      <th>3</th>\n",
       "      <td>B000084DVR</td>\n",
       "      <td>Premium Quality Dog Food!!! We have been using...</td>\n",
       "    </tr>\n",
       "    <tr>\n",
       "      <th>4</th>\n",
       "      <td>B000084E1U</td>\n",
       "      <td>Cats love it! I have nine cats and they are cr...</td>\n",
       "    </tr>\n",
       "  </tbody>\n",
       "</table>\n",
       "</div>"
      ],
      "text/plain": [
       "    ProductId                                               Text\n",
       "0  B00002NCJC  thirty bucks? Why is this $[...] when the same...\n",
       "1  B00002Z754  WOW Make your own 'slickers' ! I just received...\n",
       "2  B00005V3DC  Best herbal tea for digestion If you're new to...\n",
       "3  B000084DVR  Premium Quality Dog Food!!! We have been using...\n",
       "4  B000084E1U  Cats love it! I have nine cats and they are cr..."
      ]
     },
     "execution_count": 21,
     "metadata": {},
     "output_type": "execute_result"
    }
   ],
   "source": [
    "df.head()"
   ]
  },
  {
   "cell_type": "markdown",
   "metadata": {},
   "source": [
    "# Text Mining\n",
    "We want to cluster the products using the reviews that we can find in the column 'Text' of our dataset. In order to do this we need to represent the reviews as TF-IDF score used in the previous homework."
   ]
  },
  {
   "cell_type": "code",
   "execution_count": 1,
   "metadata": {},
   "outputs": [],
   "source": [
    "import nltk\n",
    "from nltk.corpus import stopwords\n",
    "import string\n",
    "import re\n",
    "from nltk.stem import PorterStemmer\n",
    "from nltk.tokenize import sent_tokenize, word_tokenize"
   ]
  },
  {
   "cell_type": "code",
   "execution_count": 23,
   "metadata": {},
   "outputs": [],
   "source": [
    "stop_words = set(stopwords.words('english'))\n",
    "ps = PorterStemmer()"
   ]
  },
  {
   "cell_type": "code",
   "execution_count": 24,
   "metadata": {},
   "outputs": [],
   "source": [
    "#Realizing the cleaned token \n",
    "def clean_text(text):\n",
    "    words = word_tokenize(text)\n",
    "    tagged = nltk.pos_tag(words)\n",
    "    \n",
    "    good_words = []\n",
    "    for word,tag in tagged:\n",
    "        if tag == 'NN' or tag == 'NNS' or tag =='NNPS' or tag == 'NNP':\n",
    "            if word.lower() not in stop_words and word.isalpha() and word.lower() not in string.punctuation:\n",
    "                good_words.append(ps.stem(word).lower())\n",
    "    return good_words"
   ]
  },
  {
   "cell_type": "code",
   "execution_count": 25,
   "metadata": {},
   "outputs": [
    {
     "name": "stdout",
     "output_type": "stream",
     "text": [
      "thirty bucks? Why is this $[...] when the same product is available for $[...] here?<br />http://www.amazon.com/VICTOR-FLY-MAGNET-BAIT-REFILL/dp/B00004RBDY<br /><br />The Victor M380 and M502 traps are unreal, of course -- total fly genocide. Pretty stinky, but only right nearby. Flies Begone We have used the Victor fly bait for 3 seasons.  Can't beat it.  Great product!\n",
      "['thirti', 'buck', 'product', 'br', 'http', 'br', 'br', 'victor', 'trap', 'cours', 'genocid', 'pretti', 'stinki', 'fli', 'victor', 'fli', 'bait', 'season', 'great', 'product']\n"
     ]
    }
   ],
   "source": [
    "#test\n",
    "print(df['Text'][0])\n",
    "print(clean_text(df['Text'][0]))"
   ]
  },
  {
   "cell_type": "code",
   "execution_count": 1,
   "metadata": {},
   "outputs": [
    {
     "ename": "NameError",
     "evalue": "name 'df' is not defined",
     "output_type": "error",
     "traceback": [
      "\u001b[0;31m---------------------------------------------------------------------------\u001b[0m",
      "\u001b[0;31mNameError\u001b[0m                                 Traceback (most recent call last)",
      "\u001b[0;32m<ipython-input-1-ad75ae44283a>\u001b[0m in \u001b[0;36m<module>\u001b[0;34m\u001b[0m\n\u001b[1;32m      1\u001b[0m \u001b[0;31m#Applying the clean_text function to each element of the column 'Text'\u001b[0m\u001b[0;34m\u001b[0m\u001b[0;34m\u001b[0m\u001b[0;34m\u001b[0m\u001b[0m\n\u001b[0;32m----> 2\u001b[0;31m \u001b[0mdf\u001b[0m\u001b[0;34m[\u001b[0m\u001b[0;34m'Text_Words'\u001b[0m\u001b[0;34m]\u001b[0m \u001b[0;34m=\u001b[0m \u001b[0mdf\u001b[0m\u001b[0;34m.\u001b[0m\u001b[0mText\u001b[0m\u001b[0;34m.\u001b[0m\u001b[0mapply\u001b[0m\u001b[0;34m(\u001b[0m\u001b[0;32mlambda\u001b[0m \u001b[0mx\u001b[0m\u001b[0;34m:\u001b[0m \u001b[0mclean_text\u001b[0m\u001b[0;34m(\u001b[0m\u001b[0mx\u001b[0m\u001b[0;34m)\u001b[0m\u001b[0;34m)\u001b[0m\u001b[0;34m\u001b[0m\u001b[0;34m\u001b[0m\u001b[0m\n\u001b[0m",
      "\u001b[0;31mNameError\u001b[0m: name 'df' is not defined"
     ]
    }
   ],
   "source": [
    "#Applying the clean_text function to each element of the column 'Text'\n",
    "df['Text_Words'] = df.Text.apply(lambda x: clean_text(x))"
   ]
  },
  {
   "cell_type": "code",
   "execution_count": 28,
   "metadata": {},
   "outputs": [
    {
     "data": {
      "text/html": [
       "<div>\n",
       "<style scoped>\n",
       "    .dataframe tbody tr th:only-of-type {\n",
       "        vertical-align: middle;\n",
       "    }\n",
       "\n",
       "    .dataframe tbody tr th {\n",
       "        vertical-align: top;\n",
       "    }\n",
       "\n",
       "    .dataframe thead th {\n",
       "        text-align: right;\n",
       "    }\n",
       "</style>\n",
       "<table border=\"1\" class=\"dataframe\">\n",
       "  <thead>\n",
       "    <tr style=\"text-align: right;\">\n",
       "      <th></th>\n",
       "      <th>ProductId</th>\n",
       "      <th>Text</th>\n",
       "      <th>Text_Words</th>\n",
       "    </tr>\n",
       "  </thead>\n",
       "  <tbody>\n",
       "    <tr>\n",
       "      <th>0</th>\n",
       "      <td>B00002NCJC</td>\n",
       "      <td>thirty bucks? Why is this $[...] when the same...</td>\n",
       "      <td>[thirti, buck, product, br, http, br, br, vict...</td>\n",
       "    </tr>\n",
       "    <tr>\n",
       "      <th>1</th>\n",
       "      <td>B00002Z754</td>\n",
       "      <td>WOW Make your own 'slickers' ! I just received...</td>\n",
       "      <td>[wow, make, shipment, product, slicker, quot, ...</td>\n",
       "    </tr>\n",
       "    <tr>\n",
       "      <th>2</th>\n",
       "      <td>B00005V3DC</td>\n",
       "      <td>Best herbal tea for digestion If you're new to...</td>\n",
       "      <td>[tea, digest, product, dosag, batch, other, pr...</td>\n",
       "    </tr>\n",
       "    <tr>\n",
       "      <th>3</th>\n",
       "      <td>B000084DVR</td>\n",
       "      <td>Premium Quality Dog Food!!! We have been using...</td>\n",
       "      <td>[premium, qualiti, dog, food, food, month, fac...</td>\n",
       "    </tr>\n",
       "    <tr>\n",
       "      <th>4</th>\n",
       "      <td>B000084E1U</td>\n",
       "      <td>Cats love it! I have nine cats and they are cr...</td>\n",
       "      <td>[cat, cat, kibbl, thing, cat, food, cat, hate]</td>\n",
       "    </tr>\n",
       "    <tr>\n",
       "      <th>5</th>\n",
       "      <td>B000084EK4</td>\n",
       "      <td>Great beef look This food variety is ground, t...</td>\n",
       "      <td>[great, beef, look, food, varieti, cat, variet...</td>\n",
       "    </tr>\n",
       "    <tr>\n",
       "      <th>6</th>\n",
       "      <td>B000084EK5</td>\n",
       "      <td>Family favorite - looks like steak! This is my...</td>\n",
       "      <td>[steak, cat, food, gravi, food, bit, steak, fr...</td>\n",
       "    </tr>\n",
       "    <tr>\n",
       "      <th>7</th>\n",
       "      <td>B000084EK6</td>\n",
       "      <td>Great food! This is another favorite in our ho...</td>\n",
       "      <td>[food, favorit, hous, cat, time, month, bowl, ...</td>\n",
       "    </tr>\n",
       "    <tr>\n",
       "      <th>8</th>\n",
       "      <td>B000084EK7</td>\n",
       "      <td>What's in this? This one is a great basic food...</td>\n",
       "      <td>[one, food, mine, except, cat, ground, varieti...</td>\n",
       "    </tr>\n",
       "    <tr>\n",
       "      <th>9</th>\n",
       "      <td>B000084EK8</td>\n",
       "      <td>Not the favorite in our house Once or twice a ...</td>\n",
       "      <td>[favorit, hous, year, varieti, cat, varieti, c...</td>\n",
       "    </tr>\n",
       "  </tbody>\n",
       "</table>\n",
       "</div>"
      ],
      "text/plain": [
       "    ProductId                                               Text  \\\n",
       "0  B00002NCJC  thirty bucks? Why is this $[...] when the same...   \n",
       "1  B00002Z754  WOW Make your own 'slickers' ! I just received...   \n",
       "2  B00005V3DC  Best herbal tea for digestion If you're new to...   \n",
       "3  B000084DVR  Premium Quality Dog Food!!! We have been using...   \n",
       "4  B000084E1U  Cats love it! I have nine cats and they are cr...   \n",
       "5  B000084EK4  Great beef look This food variety is ground, t...   \n",
       "6  B000084EK5  Family favorite - looks like steak! This is my...   \n",
       "7  B000084EK6  Great food! This is another favorite in our ho...   \n",
       "8  B000084EK7  What's in this? This one is a great basic food...   \n",
       "9  B000084EK8  Not the favorite in our house Once or twice a ...   \n",
       "\n",
       "                                          Text_Words  \n",
       "0  [thirti, buck, product, br, http, br, br, vict...  \n",
       "1  [wow, make, shipment, product, slicker, quot, ...  \n",
       "2  [tea, digest, product, dosag, batch, other, pr...  \n",
       "3  [premium, qualiti, dog, food, food, month, fac...  \n",
       "4     [cat, cat, kibbl, thing, cat, food, cat, hate]  \n",
       "5  [great, beef, look, food, varieti, cat, variet...  \n",
       "6  [steak, cat, food, gravi, food, bit, steak, fr...  \n",
       "7  [food, favorit, hous, cat, time, month, bowl, ...  \n",
       "8  [one, food, mine, except, cat, ground, varieti...  \n",
       "9  [favorit, hous, year, varieti, cat, varieti, c...  "
      ]
     },
     "execution_count": 28,
     "metadata": {},
     "output_type": "execute_result"
    }
   ],
   "source": [
    "df.head(5)"
   ]
  },
  {
   "cell_type": "code",
   "execution_count": 4,
   "metadata": {},
   "outputs": [],
   "source": [
    "df = pd.read_csv('new_reviews.csv')"
   ]
  },
  {
   "cell_type": "code",
   "execution_count": 5,
   "metadata": {},
   "outputs": [
    {
     "data": {
      "text/html": [
       "<div>\n",
       "<style scoped>\n",
       "    .dataframe tbody tr th:only-of-type {\n",
       "        vertical-align: middle;\n",
       "    }\n",
       "\n",
       "    .dataframe tbody tr th {\n",
       "        vertical-align: top;\n",
       "    }\n",
       "\n",
       "    .dataframe thead th {\n",
       "        text-align: right;\n",
       "    }\n",
       "</style>\n",
       "<table border=\"1\" class=\"dataframe\">\n",
       "  <thead>\n",
       "    <tr style=\"text-align: right;\">\n",
       "      <th></th>\n",
       "      <th>ProductId</th>\n",
       "      <th>Text</th>\n",
       "      <th>Text_Words</th>\n",
       "    </tr>\n",
       "  </thead>\n",
       "  <tbody>\n",
       "    <tr>\n",
       "      <th>0</th>\n",
       "      <td>0006641040</td>\n",
       "      <td>Read it once. Read it twice. Reading Chicken S...</td>\n",
       "      <td>[chicken, soup, rice, day, person, chicken, so...</td>\n",
       "    </tr>\n",
       "    <tr>\n",
       "      <th>1</th>\n",
       "      <td>141278509X</td>\n",
       "      <td>The best drink mix This product by Archer Farm...</td>\n",
       "      <td>[drink, mix, product, archer, farm, drink, mix...</td>\n",
       "    </tr>\n",
       "    <tr>\n",
       "      <th>2</th>\n",
       "      <td>2734888454</td>\n",
       "      <td>made in china My dogs loves this chicken but i...</td>\n",
       "      <td>[dog, chicken, product, china, chicken, produc...</td>\n",
       "    </tr>\n",
       "    <tr>\n",
       "      <th>3</th>\n",
       "      <td>2841233731</td>\n",
       "      <td>Great recipe book for my babycook This book is...</td>\n",
       "      <td>[great, book, babycook, book, ingredi, store, ...</td>\n",
       "    </tr>\n",
       "    <tr>\n",
       "      <th>4</th>\n",
       "      <td>7310172001</td>\n",
       "      <td>very good This product is a very health snack ...</td>\n",
       "      <td>[product, health, snack, pup, beef, liver, tri...</td>\n",
       "    </tr>\n",
       "  </tbody>\n",
       "</table>\n",
       "</div>"
      ],
      "text/plain": [
       "    ProductId                                               Text  \\\n",
       "0  0006641040  Read it once. Read it twice. Reading Chicken S...   \n",
       "1  141278509X  The best drink mix This product by Archer Farm...   \n",
       "2  2734888454  made in china My dogs loves this chicken but i...   \n",
       "3  2841233731  Great recipe book for my babycook This book is...   \n",
       "4  7310172001  very good This product is a very health snack ...   \n",
       "\n",
       "                                          Text_Words  \n",
       "0  [chicken, soup, rice, day, person, chicken, so...  \n",
       "1  [drink, mix, product, archer, farm, drink, mix...  \n",
       "2  [dog, chicken, product, china, chicken, produc...  \n",
       "3  [great, book, babycook, book, ingredi, store, ...  \n",
       "4  [product, health, snack, pup, beef, liver, tri...  "
      ]
     },
     "execution_count": 5,
     "metadata": {},
     "output_type": "execute_result"
    }
   ],
   "source": [
    "df.Text_Words = df.Text_Words.apply(literal_eval)\n",
    "df.head()"
   ]
  },
  {
   "cell_type": "code",
   "execution_count": 6,
   "metadata": {},
   "outputs": [],
   "source": [
    "def vocabulary(df):\n",
    "    words = defaultdict(list)\n",
    "    for i,el in enumerate(df['Text_Words']):\n",
    "        for w in el:\n",
    "            words[w].append(i)\n",
    "    return words\n",
    "voc = vocabulary(df)"
   ]
  },
  {
   "cell_type": "code",
   "execution_count": 7,
   "metadata": {},
   "outputs": [],
   "source": [
    "#counting the ripetition of each token for each plot\n",
    "df[\"Text_Ripetition\"] = df[\"Text_Words\"].apply(lambda x : Counter(x))"
   ]
  },
  {
   "cell_type": "code",
   "execution_count": 8,
   "metadata": {},
   "outputs": [
    {
     "data": {
      "text/html": [
       "<div>\n",
       "<style scoped>\n",
       "    .dataframe tbody tr th:only-of-type {\n",
       "        vertical-align: middle;\n",
       "    }\n",
       "\n",
       "    .dataframe tbody tr th {\n",
       "        vertical-align: top;\n",
       "    }\n",
       "\n",
       "    .dataframe thead th {\n",
       "        text-align: right;\n",
       "    }\n",
       "</style>\n",
       "<table border=\"1\" class=\"dataframe\">\n",
       "  <thead>\n",
       "    <tr style=\"text-align: right;\">\n",
       "      <th></th>\n",
       "      <th>ProductId</th>\n",
       "      <th>Text</th>\n",
       "      <th>Text_Words</th>\n",
       "      <th>Text_Ripetition</th>\n",
       "    </tr>\n",
       "  </thead>\n",
       "  <tbody>\n",
       "    <tr>\n",
       "      <th>0</th>\n",
       "      <td>0006641040</td>\n",
       "      <td>Read it once. Read it twice. Reading Chicken S...</td>\n",
       "      <td>[chicken, soup, rice, day, person, chicken, so...</td>\n",
       "      <td>{'chicken': 19, 'soup': 35, 'rice': 21, 'day':...</td>\n",
       "    </tr>\n",
       "    <tr>\n",
       "      <th>1</th>\n",
       "      <td>141278509X</td>\n",
       "      <td>The best drink mix This product by Archer Farm...</td>\n",
       "      <td>[drink, mix, product, archer, farm, drink, mix...</td>\n",
       "      <td>{'drink': 2, 'mix': 2, 'product': 1, 'archer':...</td>\n",
       "    </tr>\n",
       "    <tr>\n",
       "      <th>2</th>\n",
       "      <td>2734888454</td>\n",
       "      <td>made in china My dogs loves this chicken but i...</td>\n",
       "      <td>[dog, chicken, product, china, chicken, produc...</td>\n",
       "      <td>{'dog': 3, 'chicken': 2, 'product': 3, 'china'...</td>\n",
       "    </tr>\n",
       "    <tr>\n",
       "      <th>3</th>\n",
       "      <td>2841233731</td>\n",
       "      <td>Great recipe book for my babycook This book is...</td>\n",
       "      <td>[great, book, babycook, book, ingredi, store, ...</td>\n",
       "      <td>{'great': 1, 'book': 3, 'babycook': 1, 'ingred...</td>\n",
       "    </tr>\n",
       "    <tr>\n",
       "      <th>4</th>\n",
       "      <td>7310172001</td>\n",
       "      <td>very good This product is a very health snack ...</td>\n",
       "      <td>[product, health, snack, pup, beef, liver, tri...</td>\n",
       "      <td>{'product': 78, 'health': 1, 'snack': 11, 'pup...</td>\n",
       "    </tr>\n",
       "  </tbody>\n",
       "</table>\n",
       "</div>"
      ],
      "text/plain": [
       "    ProductId                                               Text  \\\n",
       "0  0006641040  Read it once. Read it twice. Reading Chicken S...   \n",
       "1  141278509X  The best drink mix This product by Archer Farm...   \n",
       "2  2734888454  made in china My dogs loves this chicken but i...   \n",
       "3  2841233731  Great recipe book for my babycook This book is...   \n",
       "4  7310172001  very good This product is a very health snack ...   \n",
       "\n",
       "                                          Text_Words  \\\n",
       "0  [chicken, soup, rice, day, person, chicken, so...   \n",
       "1  [drink, mix, product, archer, farm, drink, mix...   \n",
       "2  [dog, chicken, product, china, chicken, produc...   \n",
       "3  [great, book, babycook, book, ingredi, store, ...   \n",
       "4  [product, health, snack, pup, beef, liver, tri...   \n",
       "\n",
       "                                     Text_Ripetition  \n",
       "0  {'chicken': 19, 'soup': 35, 'rice': 21, 'day':...  \n",
       "1  {'drink': 2, 'mix': 2, 'product': 1, 'archer':...  \n",
       "2  {'dog': 3, 'chicken': 2, 'product': 3, 'china'...  \n",
       "3  {'great': 1, 'book': 3, 'babycook': 1, 'ingred...  \n",
       "4  {'product': 78, 'health': 1, 'snack': 11, 'pup...  "
      ]
     },
     "execution_count": 8,
     "metadata": {},
     "output_type": "execute_result"
    }
   ],
   "source": [
    "df.head()"
   ]
  },
  {
   "cell_type": "code",
   "execution_count": 9,
   "metadata": {},
   "outputs": [],
   "source": [
    "def tf_i(text):\n",
    "    tot_token = 0\n",
    "    for k, v in text.items():\n",
    "        tot_token += v #numbers of total tokens in the plot\n",
    "    tf = {}\n",
    "    for token, rip in text.items():#the values in this dictionary are the ripetition of that specific token\n",
    "        tf[token] = round(rip / tot_token,4)\n",
    "    return tf "
   ]
  },
  {
   "cell_type": "code",
   "execution_count": 10,
   "metadata": {},
   "outputs": [],
   "source": [
    "tf = []\n",
    "for i in range(len(df['Text_Ripetition'])):\n",
    "    tf.append(tf_i(df[\"Text_Ripetition\"][i])) #applying the previous function to each plot\n",
    "df[\"Tf\"] = tf #adding the column tf to the dataset"
   ]
  },
  {
   "cell_type": "code",
   "execution_count": 11,
   "metadata": {},
   "outputs": [
    {
     "data": {
      "text/html": [
       "<div>\n",
       "<style scoped>\n",
       "    .dataframe tbody tr th:only-of-type {\n",
       "        vertical-align: middle;\n",
       "    }\n",
       "\n",
       "    .dataframe tbody tr th {\n",
       "        vertical-align: top;\n",
       "    }\n",
       "\n",
       "    .dataframe thead th {\n",
       "        text-align: right;\n",
       "    }\n",
       "</style>\n",
       "<table border=\"1\" class=\"dataframe\">\n",
       "  <thead>\n",
       "    <tr style=\"text-align: right;\">\n",
       "      <th></th>\n",
       "      <th>ProductId</th>\n",
       "      <th>Text</th>\n",
       "      <th>Text_Words</th>\n",
       "      <th>Text_Ripetition</th>\n",
       "      <th>Tf</th>\n",
       "    </tr>\n",
       "  </thead>\n",
       "  <tbody>\n",
       "    <tr>\n",
       "      <th>0</th>\n",
       "      <td>0006641040</td>\n",
       "      <td>Read it once. Read it twice. Reading Chicken S...</td>\n",
       "      <td>[chicken, soup, rice, day, person, chicken, so...</td>\n",
       "      <td>{'chicken': 19, 'soup': 35, 'rice': 21, 'day':...</td>\n",
       "      <td>{'chicken': 0.0239, 'soup': 0.0441, 'rice': 0....</td>\n",
       "    </tr>\n",
       "    <tr>\n",
       "      <th>1</th>\n",
       "      <td>141278509X</td>\n",
       "      <td>The best drink mix This product by Archer Farm...</td>\n",
       "      <td>[drink, mix, product, archer, farm, drink, mix...</td>\n",
       "      <td>{'drink': 2, 'mix': 2, 'product': 1, 'archer':...</td>\n",
       "      <td>{'drink': 0.08, 'mix': 0.08, 'product': 0.04, ...</td>\n",
       "    </tr>\n",
       "    <tr>\n",
       "      <th>2</th>\n",
       "      <td>2734888454</td>\n",
       "      <td>made in china My dogs loves this chicken but i...</td>\n",
       "      <td>[dog, chicken, product, china, chicken, produc...</td>\n",
       "      <td>{'dog': 3, 'chicken': 2, 'product': 3, 'china'...</td>\n",
       "      <td>{'dog': 0.1579, 'chicken': 0.1053, 'product': ...</td>\n",
       "    </tr>\n",
       "    <tr>\n",
       "      <th>3</th>\n",
       "      <td>2841233731</td>\n",
       "      <td>Great recipe book for my babycook This book is...</td>\n",
       "      <td>[great, book, babycook, book, ingredi, store, ...</td>\n",
       "      <td>{'great': 1, 'book': 3, 'babycook': 1, 'ingred...</td>\n",
       "      <td>{'great': 0.0667, 'book': 0.2, 'babycook': 0.0...</td>\n",
       "    </tr>\n",
       "    <tr>\n",
       "      <th>4</th>\n",
       "      <td>7310172001</td>\n",
       "      <td>very good This product is a very health snack ...</td>\n",
       "      <td>[product, health, snack, pup, beef, liver, tri...</td>\n",
       "      <td>{'product': 78, 'health': 1, 'snack': 11, 'pup...</td>\n",
       "      <td>{'product': 0.024, 'health': 0.0003, 'snack': ...</td>\n",
       "    </tr>\n",
       "  </tbody>\n",
       "</table>\n",
       "</div>"
      ],
      "text/plain": [
       "    ProductId                                               Text  \\\n",
       "0  0006641040  Read it once. Read it twice. Reading Chicken S...   \n",
       "1  141278509X  The best drink mix This product by Archer Farm...   \n",
       "2  2734888454  made in china My dogs loves this chicken but i...   \n",
       "3  2841233731  Great recipe book for my babycook This book is...   \n",
       "4  7310172001  very good This product is a very health snack ...   \n",
       "\n",
       "                                          Text_Words  \\\n",
       "0  [chicken, soup, rice, day, person, chicken, so...   \n",
       "1  [drink, mix, product, archer, farm, drink, mix...   \n",
       "2  [dog, chicken, product, china, chicken, produc...   \n",
       "3  [great, book, babycook, book, ingredi, store, ...   \n",
       "4  [product, health, snack, pup, beef, liver, tri...   \n",
       "\n",
       "                                     Text_Ripetition  \\\n",
       "0  {'chicken': 19, 'soup': 35, 'rice': 21, 'day':...   \n",
       "1  {'drink': 2, 'mix': 2, 'product': 1, 'archer':...   \n",
       "2  {'dog': 3, 'chicken': 2, 'product': 3, 'china'...   \n",
       "3  {'great': 1, 'book': 3, 'babycook': 1, 'ingred...   \n",
       "4  {'product': 78, 'health': 1, 'snack': 11, 'pup...   \n",
       "\n",
       "                                                  Tf  \n",
       "0  {'chicken': 0.0239, 'soup': 0.0441, 'rice': 0....  \n",
       "1  {'drink': 0.08, 'mix': 0.08, 'product': 0.04, ...  \n",
       "2  {'dog': 0.1579, 'chicken': 0.1053, 'product': ...  \n",
       "3  {'great': 0.0667, 'book': 0.2, 'babycook': 0.0...  \n",
       "4  {'product': 0.024, 'health': 0.0003, 'snack': ...  "
      ]
     },
     "execution_count": 11,
     "metadata": {},
     "output_type": "execute_result"
    }
   ],
   "source": [
    "df.head()"
   ]
  },
  {
   "cell_type": "code",
   "execution_count": 12,
   "metadata": {},
   "outputs": [],
   "source": [
    "idf = {}\n",
    "for el in df['Text_Words']:   \n",
    "    for token in el:\n",
    "         idf.update({ token : round(math.log(len(df)/ len(voc[token]),3))})  #applying the formula for each token "
   ]
  },
  {
   "cell_type": "code",
   "execution_count": 13,
   "metadata": {},
   "outputs": [],
   "source": [
    "# Creating a vocabulary that as keys as the word and as values its index\n",
    "def vocabulary_words(df):\n",
    "    words = dict()\n",
    "    i = 0\n",
    "    for el in tqdm(df['Text_Words']):\n",
    "        for w in el:\n",
    "            if w not in words.keys():\n",
    "                words[w] = i\n",
    "                i += 1\n",
    "    return words"
   ]
  },
  {
   "cell_type": "code",
   "execution_count": 14,
   "metadata": {},
   "outputs": [
    {
     "name": "stderr",
     "output_type": "stream",
     "text": [
      "100%|██████████| 74258/74258 [00:01<00:00, 45387.42it/s]\n"
     ]
    }
   ],
   "source": [
    "voc_words = vocabulary_words(df)"
   ]
  },
  {
   "cell_type": "code",
   "execution_count": 15,
   "metadata": {},
   "outputs": [],
   "source": [
    "def score(dictionary):\n",
    "    v = [0]*(len(voc_words))\n",
    "    for word in dictionary.keys():\n",
    "        v[voc_words[word]] = dictionary[word]*idf[word]\n",
    "    return v"
   ]
  },
  {
   "cell_type": "code",
   "execution_count": 18,
   "metadata": {
    "scrolled": false
   },
   "outputs": [
    {
     "name": "stderr",
     "output_type": "stream",
     "text": [
      "100%|██████████| 74258/74258 [09:47<00:00, 126.34it/s]\n"
     ]
    }
   ],
   "source": [
    "from scipy.sparse import lil_matrix\n",
    "\n",
    "matrix = lil_matrix((len(df), len(voc_words)), dtype=np.float)\n",
    "for i in tqdm(range(len(df[\"Tf\"]))):\n",
    "    matrix[i] = np.array(score(df[\"Tf\"][i]))"
   ]
  },
  {
   "cell_type": "code",
   "execution_count": 19,
   "metadata": {},
   "outputs": [],
   "source": [
    "from scipy.sparse import csr_matrix\n",
    "\n",
    "matrix = csr_matrix(matrix)"
   ]
  },
  {
   "cell_type": "markdown",
   "metadata": {},
   "source": [
    "## Dimensionality Reduction"
   ]
  },
  {
   "cell_type": "code",
   "execution_count": 21,
   "metadata": {},
   "outputs": [],
   "source": [
    "from sklearn.decomposition import TruncatedSVD"
   ]
  },
  {
   "cell_type": "code",
   "execution_count": 26,
   "metadata": {},
   "outputs": [
    {
     "data": {
      "text/plain": [
       "(74258, 62787)"
      ]
     },
     "execution_count": 26,
     "metadata": {},
     "output_type": "execute_result"
    }
   ],
   "source": [
    "matrix.shape"
   ]
  },
  {
   "cell_type": "code",
   "execution_count": 27,
   "metadata": {},
   "outputs": [
    {
     "data": {
      "text/plain": [
       "TruncatedSVD(n_components=2000, random_state=42)"
      ]
     },
     "execution_count": 27,
     "metadata": {},
     "output_type": "execute_result"
    }
   ],
   "source": [
    "svd = TruncatedSVD(n_components=2000, random_state=42)\n",
    "svd.fit(matrix)"
   ]
  },
  {
   "cell_type": "code",
   "execution_count": 28,
   "metadata": {},
   "outputs": [
    {
     "name": "stdout",
     "output_type": "stream",
     "text": [
      "0.6081094855890445\n"
     ]
    }
   ],
   "source": [
    "print(svd.explained_variance_ratio_.sum())"
   ]
  },
  {
   "cell_type": "code",
   "execution_count": 29,
   "metadata": {},
   "outputs": [],
   "source": [
    "svd_matrix = svd.transform(matrix)"
   ]
  },
  {
   "cell_type": "code",
   "execution_count": 30,
   "metadata": {},
   "outputs": [
    {
     "data": {
      "text/plain": [
       "(74258, 2000)"
      ]
     },
     "execution_count": 30,
     "metadata": {},
     "output_type": "execute_result"
    }
   ],
   "source": [
    "svd_matrix.shape"
   ]
  },
  {
   "cell_type": "markdown",
   "metadata": {},
   "source": [
    "## Implement KMeans from scratch\n",
    "### Step 0 \n",
    "Elbow method to choose the number of clusters k \n",
    "### Step 1\n",
    "Random inizialization of the k representative points\n",
    "### Step 2\n",
    "Find the cluster $C_i$ defined as $\\{x : \\parallel x-\\mu_i\\parallel \\leq \\parallel x-\\mu_j\\parallel \\forall j\\ne i\\}  \\forall i=1..k$\n",
    "### Step 3 \n",
    "Find $\\mu_i$ which is defined as $\\frac{1}{|C_i|} \\sum_{x\\in C_i} x \\;\\; \\forall i=1..k$\n",
    "<hr>\n",
    "Repeat step 2 and step 3 until <b>convergence</b>.\n",
    "\n",
    "### Convergence\n",
    "We stop when the clusters don't change from the previous iteration."
   ]
  },
  {
   "cell_type": "code",
   "execution_count": 34,
   "metadata": {},
   "outputs": [],
   "source": [
    "import random"
   ]
  },
  {
   "cell_type": "code",
   "execution_count": 86,
   "metadata": {},
   "outputs": [],
   "source": [
    "def euclidian_dist(x, y):\n",
    "    dist = 0\n",
    "    for i in range(len(x)):    #iterating over the number of components\n",
    "        dist += (x[i]-y[i])**2  \n",
    "    return (math.sqrt(dist))"
   ]
  },
  {
   "cell_type": "code",
   "execution_count": 31,
   "metadata": {},
   "outputs": [],
   "source": [
    "def euclidian_dist(x,y):\n",
    "    return np.linalg.norm(x-y)"
   ]
  },
  {
   "cell_type": "code",
   "execution_count": 37,
   "metadata": {},
   "outputs": [],
   "source": [
    "def KMeans(k, matrix):\n",
    "    # 1. Choosing k random representatives\n",
    "    representatives_idx = random.sample(range(1, len(matrix)), k)  #Chosing the initial representatives\n",
    "    new_representatives =  []\n",
    "    for i in range(k):\n",
    "        new_representatives.append(matrix[representatives_idx[i]])\n",
    "    representatives = []\n",
    "    \n",
    "    run = True\n",
    "    limit = 0\n",
    "    while run:\n",
    "        representatives = new_representatives\n",
    "        \n",
    "        # Creating the clusters\n",
    "        clusters = {i: [] for i in range(k)}  # Empty dictionary for each cluster with list as value \n",
    "        i_clusters = {i: [] for i in range(k)}\n",
    "        \n",
    "        # 2. Computing distances and choosing \n",
    "        for ind, point in enumerate(matrix):\n",
    "            dist_xmu = []      # Distance between the point and the representatives for each representative\n",
    "            for i in range(k): \n",
    "                dist_xmu.append(euclidian_dist(representatives[i], point))\n",
    "            nearest_representative = dist_xmu.index(min(dist_xmu))\n",
    "            clusters[nearest_representative].append(point) #Put the point in the cluster with the minimum distance\n",
    "            i_clusters[nearest_representative].append(ind)\n",
    "            \n",
    "        # 3. Selecting new representatives\n",
    "        new_representatives = []\n",
    "        for i in range(k):\n",
    "            run = False\n",
    "            new_val = np.sum(clusters[i],axis=0)/len(clusters[i])\n",
    "            new_representatives.append(new_val)\n",
    "            if representatives[i][0] != new_representatives[i][0] or representatives[i][1] != new_representatives[i][1]:\n",
    "                run = True\n",
    "                limit += 1\n",
    "        \n",
    "        if limit == 15:\n",
    "            return clusters, new_representatives, i_clusters\n",
    "                \n",
    "    return clusters, new_representatives, i_clusters"
   ]
  },
  {
   "cell_type": "code",
   "execution_count": 38,
   "metadata": {},
   "outputs": [],
   "source": [
    "clusters, new_representatives, i_clusters = KMeans(10, svd_matrix)"
   ]
  },
  {
   "cell_type": "markdown",
   "metadata": {},
   "source": [
    "## Cluster Analysis "
   ]
  },
  {
   "cell_type": "code",
   "execution_count": 39,
   "metadata": {},
   "outputs": [
    {
     "data": {
      "text/html": [
       "<div>\n",
       "<style scoped>\n",
       "    .dataframe tbody tr th:only-of-type {\n",
       "        vertical-align: middle;\n",
       "    }\n",
       "\n",
       "    .dataframe tbody tr th {\n",
       "        vertical-align: top;\n",
       "    }\n",
       "\n",
       "    .dataframe thead th {\n",
       "        text-align: right;\n",
       "    }\n",
       "</style>\n",
       "<table border=\"1\" class=\"dataframe\">\n",
       "  <thead>\n",
       "    <tr style=\"text-align: right;\">\n",
       "      <th></th>\n",
       "      <th>ProductId</th>\n",
       "      <th>Text</th>\n",
       "      <th>Text_Words</th>\n",
       "      <th>Text_Ripetition</th>\n",
       "      <th>Tf</th>\n",
       "    </tr>\n",
       "  </thead>\n",
       "  <tbody>\n",
       "    <tr>\n",
       "      <th>401</th>\n",
       "      <td>B0000CNU2H</td>\n",
       "      <td>Anything else is just... disappointing. Curry ...</td>\n",
       "      <td>[anyth, curri, powder, blend, spice, orient, c...</td>\n",
       "      <td>{'anyth': 2, 'curri': 10, 'powder': 5, 'blend'...</td>\n",
       "      <td>{'anyth': 0.0526, 'curri': 0.2632, 'powder': 0...</td>\n",
       "    </tr>\n",
       "    <tr>\n",
       "      <th>424</th>\n",
       "      <td>B0000CNU78</td>\n",
       "      <td>Spicy curry is very easy to use, but too hot f...</td>\n",
       "      <td>[spici, curri, rme, love, chicken, curri, vaca...</td>\n",
       "      <td>{'spici': 2, 'curri': 5, 'rme': 1, 'love': 1, ...</td>\n",
       "      <td>{'spici': 0.0741, 'curri': 0.1852, 'rme': 0.03...</td>\n",
       "    </tr>\n",
       "    <tr>\n",
       "      <th>425</th>\n",
       "      <td>B0000CNU7C</td>\n",
       "      <td>It's curry-tastic!!! I have been a fan of S&amp;am...</td>\n",
       "      <td>[fan, amp, b, golden, curri, box, sf, japantow...</td>\n",
       "      <td>{'fan': 1, 'amp': 1, 'b': 1, 'golden': 3, 'cur...</td>\n",
       "      <td>{'fan': 0.0123, 'amp': 0.0123, 'b': 0.0123, 'g...</td>\n",
       "    </tr>\n",
       "    <tr>\n",
       "      <th>1699</th>\n",
       "      <td>B00012OI64</td>\n",
       "      <td>1st try This was delightful. I made 2 catfish ...</td>\n",
       "      <td>[tri, thick, steak, onion, cilantro, tomato, c...</td>\n",
       "      <td>{'tri': 1, 'thick': 1, 'steak': 1, 'onion': 1,...</td>\n",
       "      <td>{'tri': 0.0526, 'thick': 0.0526, 'steak': 0.05...</td>\n",
       "    </tr>\n",
       "    <tr>\n",
       "      <th>1757</th>\n",
       "      <td>B00013YMVY</td>\n",
       "      <td>Really Great Tasting Green Curry! Highly Recom...</td>\n",
       "      <td>[great, tast, green, curri, highli, thai, food...</td>\n",
       "      <td>{'great': 1, 'tast': 2, 'green': 2, 'curri': 3...</td>\n",
       "      <td>{'great': 0.0455, 'tast': 0.0909, 'green': 0.0...</td>\n",
       "    </tr>\n",
       "    <tr>\n",
       "      <th>...</th>\n",
       "      <td>...</td>\n",
       "      <td>...</td>\n",
       "      <td>...</td>\n",
       "      <td>...</td>\n",
       "      <td>...</td>\n",
       "    </tr>\n",
       "    <tr>\n",
       "      <th>73204</th>\n",
       "      <td>B008EDKDDE</td>\n",
       "      <td>Good mix if you don't have time or ingredients...</td>\n",
       "      <td>[mix, time, ingredi, homemad, mix, time, every...</td>\n",
       "      <td>{'mix': 7, 'time': 3, 'ingredi': 1, 'homemad':...</td>\n",
       "      <td>{'mix': 0.2593, 'time': 0.1111, 'ingredi': 0.0...</td>\n",
       "    </tr>\n",
       "    <tr>\n",
       "      <th>73217</th>\n",
       "      <td>B008EE64UY</td>\n",
       "      <td>Easy, Excellent, Curry I love this curry powde...</td>\n",
       "      <td>[easi, excel, curri, curri, powder, mix, varie...</td>\n",
       "      <td>{'easi': 1, 'excel': 1, 'curri': 7, 'powder': ...</td>\n",
       "      <td>{'easi': 0.0278, 'excel': 0.0278, 'curri': 0.1...</td>\n",
       "    </tr>\n",
       "    <tr>\n",
       "      <th>73886</th>\n",
       "      <td>B00914BS6G</td>\n",
       "      <td>Aromatic I purchased these fresh curry leaves ...</td>\n",
       "      <td>[curri, south, stew, addit, tarka, spice, leav...</td>\n",
       "      <td>{'curri': 4, 'south': 1, 'stew': 1, 'addit': 1...</td>\n",
       "      <td>{'curri': 0.0816, 'south': 0.0204, 'stew': 0.0...</td>\n",
       "    </tr>\n",
       "    <tr>\n",
       "      <th>74041</th>\n",
       "      <td>B0096BRED0</td>\n",
       "      <td>Great Curry for Chicken Salad This is the perf...</td>\n",
       "      <td>[great, curri, chicken, salad, curri, curri, c...</td>\n",
       "      <td>{'great': 1, 'curri': 7, 'chicken': 4, 'salad'...</td>\n",
       "      <td>{'great': 0.0175, 'curri': 0.1228, 'chicken': ...</td>\n",
       "    </tr>\n",
       "    <tr>\n",
       "      <th>74175</th>\n",
       "      <td>B009HXB2JO</td>\n",
       "      <td>The One and Only I discovered this product whi...</td>\n",
       "      <td>[product, live, philippin, wife, home, unit, s...</td>\n",
       "      <td>{'product': 17, 'live': 1, 'philippin': 1, 'wi...</td>\n",
       "      <td>{'product': 0.0193, 'live': 0.0011, 'philippin...</td>\n",
       "    </tr>\n",
       "  </tbody>\n",
       "</table>\n",
       "<p>197 rows × 5 columns</p>\n",
       "</div>"
      ],
      "text/plain": [
       "        ProductId                                               Text  \\\n",
       "401    B0000CNU2H  Anything else is just... disappointing. Curry ...   \n",
       "424    B0000CNU78  Spicy curry is very easy to use, but too hot f...   \n",
       "425    B0000CNU7C  It's curry-tastic!!! I have been a fan of S&am...   \n",
       "1699   B00012OI64  1st try This was delightful. I made 2 catfish ...   \n",
       "1757   B00013YMVY  Really Great Tasting Green Curry! Highly Recom...   \n",
       "...           ...                                                ...   \n",
       "73204  B008EDKDDE  Good mix if you don't have time or ingredients...   \n",
       "73217  B008EE64UY  Easy, Excellent, Curry I love this curry powde...   \n",
       "73886  B00914BS6G  Aromatic I purchased these fresh curry leaves ...   \n",
       "74041  B0096BRED0  Great Curry for Chicken Salad This is the perf...   \n",
       "74175  B009HXB2JO  The One and Only I discovered this product whi...   \n",
       "\n",
       "                                              Text_Words  \\\n",
       "401    [anyth, curri, powder, blend, spice, orient, c...   \n",
       "424    [spici, curri, rme, love, chicken, curri, vaca...   \n",
       "425    [fan, amp, b, golden, curri, box, sf, japantow...   \n",
       "1699   [tri, thick, steak, onion, cilantro, tomato, c...   \n",
       "1757   [great, tast, green, curri, highli, thai, food...   \n",
       "...                                                  ...   \n",
       "73204  [mix, time, ingredi, homemad, mix, time, every...   \n",
       "73217  [easi, excel, curri, curri, powder, mix, varie...   \n",
       "73886  [curri, south, stew, addit, tarka, spice, leav...   \n",
       "74041  [great, curri, chicken, salad, curri, curri, c...   \n",
       "74175  [product, live, philippin, wife, home, unit, s...   \n",
       "\n",
       "                                         Text_Ripetition  \\\n",
       "401    {'anyth': 2, 'curri': 10, 'powder': 5, 'blend'...   \n",
       "424    {'spici': 2, 'curri': 5, 'rme': 1, 'love': 1, ...   \n",
       "425    {'fan': 1, 'amp': 1, 'b': 1, 'golden': 3, 'cur...   \n",
       "1699   {'tri': 1, 'thick': 1, 'steak': 1, 'onion': 1,...   \n",
       "1757   {'great': 1, 'tast': 2, 'green': 2, 'curri': 3...   \n",
       "...                                                  ...   \n",
       "73204  {'mix': 7, 'time': 3, 'ingredi': 1, 'homemad':...   \n",
       "73217  {'easi': 1, 'excel': 1, 'curri': 7, 'powder': ...   \n",
       "73886  {'curri': 4, 'south': 1, 'stew': 1, 'addit': 1...   \n",
       "74041  {'great': 1, 'curri': 7, 'chicken': 4, 'salad'...   \n",
       "74175  {'product': 17, 'live': 1, 'philippin': 1, 'wi...   \n",
       "\n",
       "                                                      Tf  \n",
       "401    {'anyth': 0.0526, 'curri': 0.2632, 'powder': 0...  \n",
       "424    {'spici': 0.0741, 'curri': 0.1852, 'rme': 0.03...  \n",
       "425    {'fan': 0.0123, 'amp': 0.0123, 'b': 0.0123, 'g...  \n",
       "1699   {'tri': 0.0526, 'thick': 0.0526, 'steak': 0.05...  \n",
       "1757   {'great': 0.0455, 'tast': 0.0909, 'green': 0.0...  \n",
       "...                                                  ...  \n",
       "73204  {'mix': 0.2593, 'time': 0.1111, 'ingredi': 0.0...  \n",
       "73217  {'easi': 0.0278, 'excel': 0.0278, 'curri': 0.1...  \n",
       "73886  {'curri': 0.0816, 'south': 0.0204, 'stew': 0.0...  \n",
       "74041  {'great': 0.0175, 'curri': 0.1228, 'chicken': ...  \n",
       "74175  {'product': 0.0193, 'live': 0.0011, 'philippin...  \n",
       "\n",
       "[197 rows x 5 columns]"
      ]
     },
     "execution_count": 39,
     "metadata": {},
     "output_type": "execute_result"
    }
   ],
   "source": [
    "df.iloc[i_clusters[0]]"
   ]
  },
  {
   "cell_type": "code",
   "execution_count": null,
   "metadata": {},
   "outputs": [],
   "source": []
  },
  {
   "cell_type": "code",
   "execution_count": null,
   "metadata": {},
   "outputs": [],
   "source": []
  }
 ],
 "metadata": {
  "kernelspec": {
   "display_name": "Python 3",
   "language": "python",
   "name": "python3"
  },
  "language_info": {
   "codemirror_mode": {
    "name": "ipython",
    "version": 3
   },
   "file_extension": ".py",
   "mimetype": "text/x-python",
   "name": "python",
   "nbconvert_exporter": "python",
   "pygments_lexer": "ipython3",
   "version": "3.8.5"
  }
 },
 "nbformat": 4,
 "nbformat_minor": 4
}

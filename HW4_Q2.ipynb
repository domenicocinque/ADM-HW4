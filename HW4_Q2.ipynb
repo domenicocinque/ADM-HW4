{
 "cells": [
  {
   "cell_type": "markdown",
   "metadata": {},
   "source": [
    "# Libraries"
   ]
  },
  {
   "cell_type": "code",
   "execution_count": 3,
   "metadata": {},
   "outputs": [],
   "source": [
    "import pandas as pd\n",
    "from tqdm import tqdm\n",
    "from sklearn.cluster import KMeans\n",
    "from collections import defaultdict\n",
    "from collections import Counter\n",
    "import math\n",
    "from ast import literal_eval\n",
    "import numpy as np\n",
    "import matplotlib.pyplot as plt"
   ]
  },
  {
   "cell_type": "markdown",
   "metadata": {},
   "source": [
    "# Cleaning the Data"
   ]
  },
  {
   "cell_type": "code",
   "execution_count": null,
   "metadata": {},
   "outputs": [],
   "source": [
    "path = '/Users/domenicomattiacinque/Documents/Università/ADM2020/HW4/archive'\n",
    "dataset = pd.read_csv(path + '/Reviews.csv', nrows = 10000)"
   ]
  },
  {
   "cell_type": "code",
   "execution_count": null,
   "metadata": {},
   "outputs": [],
   "source": [
    "dataset.head()"
   ]
  },
  {
   "cell_type": "code",
   "execution_count": null,
   "metadata": {},
   "outputs": [],
   "source": [
    "dataset.isnull().sum()"
   ]
  },
  {
   "cell_type": "code",
   "execution_count": null,
   "metadata": {},
   "outputs": [],
   "source": [
    "dataset['Summary'].fillna('', inplace=True)"
   ]
  },
  {
   "cell_type": "code",
   "execution_count": null,
   "metadata": {},
   "outputs": [],
   "source": [
    "dataset['Text'] = dataset['Summary'] + ' ' + dataset['Text'] "
   ]
  },
  {
   "cell_type": "code",
   "execution_count": null,
   "metadata": {},
   "outputs": [],
   "source": [
    "dataset.drop(['UserId','ProfileName','HelpfulnessNumerator',\n",
    "              'HelpfulnessDenominator','Score','Time','Summary'],axis=1, inplace=True)"
   ]
  },
  {
   "cell_type": "code",
   "execution_count": null,
   "metadata": {},
   "outputs": [],
   "source": [
    "dataset.head()"
   ]
  },
  {
   "cell_type": "code",
   "execution_count": null,
   "metadata": {},
   "outputs": [],
   "source": [
    "dataset['ProductId'].nunique()"
   ]
  },
  {
   "cell_type": "code",
   "execution_count": null,
   "metadata": {},
   "outputs": [],
   "source": [
    "df = dataset.groupby('ProductId')['Text'].apply(lambda x: ' '.join(x)).reset_index()"
   ]
  },
  {
   "cell_type": "code",
   "execution_count": null,
   "metadata": {},
   "outputs": [],
   "source": [
    "df.head()"
   ]
  },
  {
   "cell_type": "markdown",
   "metadata": {},
   "source": [
    "# Text Mining\n",
    "We want to cluster the products using the reviews that we can find in the column 'Text' of our dataset. In order to do this we need to represent the reviews as TF-IDF score used in the previous homework."
   ]
  },
  {
   "cell_type": "code",
   "execution_count": null,
   "metadata": {},
   "outputs": [],
   "source": [
    "import nltk\n",
    "from nltk.corpus import stopwords\n",
    "import string\n",
    "import re\n",
    "from nltk.stem import PorterStemmer\n",
    "from nltk.tokenize import sent_tokenize, word_tokenize"
   ]
  },
  {
   "cell_type": "code",
   "execution_count": null,
   "metadata": {},
   "outputs": [],
   "source": [
    "stop_words = set(stopwords.words('english'))\n",
    "ps = PorterStemmer()"
   ]
  },
  {
   "cell_type": "code",
   "execution_count": null,
   "metadata": {},
   "outputs": [],
   "source": [
    "#Realizing the cleaned token \n",
    "def clean_text(text):\n",
    "    words = word_tokenize(text)\n",
    "    tagged = nltk.pos_tag(words)\n",
    "    \n",
    "    good_words = []\n",
    "    for word,tag in tagged:\n",
    "        if tag == 'NN' or tag == 'NNS' or tag =='NNPS' or tag == 'NNP':\n",
    "            if word.lower() not in stop_words and word.isalpha() and word.lower() not in string.punctuation:\n",
    "                good_words.append(ps.stem(word).lower())\n",
    "    return good_words"
   ]
  },
  {
   "cell_type": "code",
   "execution_count": null,
   "metadata": {},
   "outputs": [],
   "source": [
    "#test\n",
    "print(df['Text'][0])\n",
    "print(clean_text(df['Text'][0]))"
   ]
  },
  {
   "cell_type": "code",
   "execution_count": null,
   "metadata": {},
   "outputs": [],
   "source": [
    "#Applying the clean_text function to each element of the column 'Text'\n",
    "df['Text_Words'] = df.Text.apply(lambda x: clean_text(x))"
   ]
  },
  {
   "cell_type": "code",
   "execution_count": null,
   "metadata": {},
   "outputs": [],
   "source": [
    "df.head(5)"
   ]
  },
  {
   "cell_type": "code",
   "execution_count": 2,
   "metadata": {},
   "outputs": [],
   "source": [
    "df = pd.read_csv('new_reviews.csv')"
   ]
  },
  {
   "cell_type": "code",
   "execution_count": 3,
   "metadata": {},
   "outputs": [],
   "source": [
    "df.Text_Words = df.Text_Words.apply(literal_eval)"
   ]
  },
  {
   "cell_type": "code",
   "execution_count": null,
   "metadata": {},
   "outputs": [],
   "source": [
    "from sklearn.feature_extraction.text import TfidfVectorizer\n",
    "vectorizer = TfidfVectorizer(use_idf= True)\n",
    "matrix = vectorizer.fit_transform(df['Text'])"
   ]
  },
  {
   "cell_type": "code",
   "execution_count": 4,
   "metadata": {},
   "outputs": [],
   "source": [
    "def vocabulary(df):\n",
    "    words = defaultdict(list)\n",
    "    for i,el in enumerate(df['Text_Words']):\n",
    "        for w in el:\n",
    "            words[w].append(i)\n",
    "    return words\n",
    "voc = vocabulary(df)"
   ]
  },
  {
   "cell_type": "code",
   "execution_count": 5,
   "metadata": {},
   "outputs": [],
   "source": [
    "#counting the ripetition of each token for each plot\n",
    "df[\"Text_Ripetition\"] = df[\"Text_Words\"].apply(lambda x : Counter(x))"
   ]
  },
  {
   "cell_type": "code",
   "execution_count": 6,
   "metadata": {},
   "outputs": [
    {
     "data": {
      "text/html": [
       "<div>\n",
       "<style scoped>\n",
       "    .dataframe tbody tr th:only-of-type {\n",
       "        vertical-align: middle;\n",
       "    }\n",
       "\n",
       "    .dataframe tbody tr th {\n",
       "        vertical-align: top;\n",
       "    }\n",
       "\n",
       "    .dataframe thead th {\n",
       "        text-align: right;\n",
       "    }\n",
       "</style>\n",
       "<table border=\"1\" class=\"dataframe\">\n",
       "  <thead>\n",
       "    <tr style=\"text-align: right;\">\n",
       "      <th></th>\n",
       "      <th>ProductId</th>\n",
       "      <th>Text</th>\n",
       "      <th>Text_Words</th>\n",
       "      <th>Text_Ripetition</th>\n",
       "    </tr>\n",
       "  </thead>\n",
       "  <tbody>\n",
       "    <tr>\n",
       "      <th>0</th>\n",
       "      <td>0006641040</td>\n",
       "      <td>Read it once. Read it twice. Reading Chicken S...</td>\n",
       "      <td>[chicken, soup, rice, day, person, chicken, so...</td>\n",
       "      <td>{'chicken': 19, 'soup': 35, 'rice': 21, 'day':...</td>\n",
       "    </tr>\n",
       "    <tr>\n",
       "      <th>1</th>\n",
       "      <td>141278509X</td>\n",
       "      <td>The best drink mix This product by Archer Farm...</td>\n",
       "      <td>[drink, mix, product, archer, farm, drink, mix...</td>\n",
       "      <td>{'drink': 2, 'mix': 2, 'product': 1, 'archer':...</td>\n",
       "    </tr>\n",
       "    <tr>\n",
       "      <th>2</th>\n",
       "      <td>2734888454</td>\n",
       "      <td>made in china My dogs loves this chicken but i...</td>\n",
       "      <td>[dog, chicken, product, china, chicken, produc...</td>\n",
       "      <td>{'dog': 3, 'chicken': 2, 'product': 3, 'china'...</td>\n",
       "    </tr>\n",
       "    <tr>\n",
       "      <th>3</th>\n",
       "      <td>2841233731</td>\n",
       "      <td>Great recipe book for my babycook This book is...</td>\n",
       "      <td>[great, book, babycook, book, ingredi, store, ...</td>\n",
       "      <td>{'great': 1, 'book': 3, 'babycook': 1, 'ingred...</td>\n",
       "    </tr>\n",
       "    <tr>\n",
       "      <th>4</th>\n",
       "      <td>7310172001</td>\n",
       "      <td>very good This product is a very health snack ...</td>\n",
       "      <td>[product, health, snack, pup, beef, liver, tri...</td>\n",
       "      <td>{'product': 78, 'health': 1, 'snack': 11, 'pup...</td>\n",
       "    </tr>\n",
       "  </tbody>\n",
       "</table>\n",
       "</div>"
      ],
      "text/plain": [
       "    ProductId                                               Text  \\\n",
       "0  0006641040  Read it once. Read it twice. Reading Chicken S...   \n",
       "1  141278509X  The best drink mix This product by Archer Farm...   \n",
       "2  2734888454  made in china My dogs loves this chicken but i...   \n",
       "3  2841233731  Great recipe book for my babycook This book is...   \n",
       "4  7310172001  very good This product is a very health snack ...   \n",
       "\n",
       "                                          Text_Words  \\\n",
       "0  [chicken, soup, rice, day, person, chicken, so...   \n",
       "1  [drink, mix, product, archer, farm, drink, mix...   \n",
       "2  [dog, chicken, product, china, chicken, produc...   \n",
       "3  [great, book, babycook, book, ingredi, store, ...   \n",
       "4  [product, health, snack, pup, beef, liver, tri...   \n",
       "\n",
       "                                     Text_Ripetition  \n",
       "0  {'chicken': 19, 'soup': 35, 'rice': 21, 'day':...  \n",
       "1  {'drink': 2, 'mix': 2, 'product': 1, 'archer':...  \n",
       "2  {'dog': 3, 'chicken': 2, 'product': 3, 'china'...  \n",
       "3  {'great': 1, 'book': 3, 'babycook': 1, 'ingred...  \n",
       "4  {'product': 78, 'health': 1, 'snack': 11, 'pup...  "
      ]
     },
     "execution_count": 6,
     "metadata": {},
     "output_type": "execute_result"
    }
   ],
   "source": [
    "df.head()"
   ]
  },
  {
   "cell_type": "code",
   "execution_count": 7,
   "metadata": {},
   "outputs": [],
   "source": [
    "def tf_i(text):\n",
    "    tot_token = 0\n",
    "    for k, v in text.items():\n",
    "        tot_token += v #numbers of total tokens in the plot\n",
    "    tf = {}\n",
    "    for token, rip in text.items():#the values in this dictionary are the ripetition of that specific token\n",
    "        tf[token] = round(rip / tot_token,4)\n",
    "    return tf "
   ]
  },
  {
   "cell_type": "code",
   "execution_count": 8,
   "metadata": {},
   "outputs": [],
   "source": [
    "tf = []\n",
    "for i in range(len(df['Text_Ripetition'])):\n",
    "    tf.append(tf_i(df[\"Text_Ripetition\"][i])) #applying the previous function to each plot\n",
    "df[\"Tf\"] = tf #adding the column tf to the dataset"
   ]
  },
  {
   "cell_type": "code",
   "execution_count": 9,
   "metadata": {},
   "outputs": [
    {
     "data": {
      "text/html": [
       "<div>\n",
       "<style scoped>\n",
       "    .dataframe tbody tr th:only-of-type {\n",
       "        vertical-align: middle;\n",
       "    }\n",
       "\n",
       "    .dataframe tbody tr th {\n",
       "        vertical-align: top;\n",
       "    }\n",
       "\n",
       "    .dataframe thead th {\n",
       "        text-align: right;\n",
       "    }\n",
       "</style>\n",
       "<table border=\"1\" class=\"dataframe\">\n",
       "  <thead>\n",
       "    <tr style=\"text-align: right;\">\n",
       "      <th></th>\n",
       "      <th>ProductId</th>\n",
       "      <th>Text</th>\n",
       "      <th>Text_Words</th>\n",
       "      <th>Text_Ripetition</th>\n",
       "      <th>Tf</th>\n",
       "    </tr>\n",
       "  </thead>\n",
       "  <tbody>\n",
       "    <tr>\n",
       "      <th>0</th>\n",
       "      <td>0006641040</td>\n",
       "      <td>Read it once. Read it twice. Reading Chicken S...</td>\n",
       "      <td>[chicken, soup, rice, day, person, chicken, so...</td>\n",
       "      <td>{'chicken': 19, 'soup': 35, 'rice': 21, 'day':...</td>\n",
       "      <td>{'chicken': 0.0239, 'soup': 0.0441, 'rice': 0....</td>\n",
       "    </tr>\n",
       "    <tr>\n",
       "      <th>1</th>\n",
       "      <td>141278509X</td>\n",
       "      <td>The best drink mix This product by Archer Farm...</td>\n",
       "      <td>[drink, mix, product, archer, farm, drink, mix...</td>\n",
       "      <td>{'drink': 2, 'mix': 2, 'product': 1, 'archer':...</td>\n",
       "      <td>{'drink': 0.08, 'mix': 0.08, 'product': 0.04, ...</td>\n",
       "    </tr>\n",
       "    <tr>\n",
       "      <th>2</th>\n",
       "      <td>2734888454</td>\n",
       "      <td>made in china My dogs loves this chicken but i...</td>\n",
       "      <td>[dog, chicken, product, china, chicken, produc...</td>\n",
       "      <td>{'dog': 3, 'chicken': 2, 'product': 3, 'china'...</td>\n",
       "      <td>{'dog': 0.1579, 'chicken': 0.1053, 'product': ...</td>\n",
       "    </tr>\n",
       "    <tr>\n",
       "      <th>3</th>\n",
       "      <td>2841233731</td>\n",
       "      <td>Great recipe book for my babycook This book is...</td>\n",
       "      <td>[great, book, babycook, book, ingredi, store, ...</td>\n",
       "      <td>{'great': 1, 'book': 3, 'babycook': 1, 'ingred...</td>\n",
       "      <td>{'great': 0.0667, 'book': 0.2, 'babycook': 0.0...</td>\n",
       "    </tr>\n",
       "    <tr>\n",
       "      <th>4</th>\n",
       "      <td>7310172001</td>\n",
       "      <td>very good This product is a very health snack ...</td>\n",
       "      <td>[product, health, snack, pup, beef, liver, tri...</td>\n",
       "      <td>{'product': 78, 'health': 1, 'snack': 11, 'pup...</td>\n",
       "      <td>{'product': 0.024, 'health': 0.0003, 'snack': ...</td>\n",
       "    </tr>\n",
       "  </tbody>\n",
       "</table>\n",
       "</div>"
      ],
      "text/plain": [
       "    ProductId                                               Text  \\\n",
       "0  0006641040  Read it once. Read it twice. Reading Chicken S...   \n",
       "1  141278509X  The best drink mix This product by Archer Farm...   \n",
       "2  2734888454  made in china My dogs loves this chicken but i...   \n",
       "3  2841233731  Great recipe book for my babycook This book is...   \n",
       "4  7310172001  very good This product is a very health snack ...   \n",
       "\n",
       "                                          Text_Words  \\\n",
       "0  [chicken, soup, rice, day, person, chicken, so...   \n",
       "1  [drink, mix, product, archer, farm, drink, mix...   \n",
       "2  [dog, chicken, product, china, chicken, produc...   \n",
       "3  [great, book, babycook, book, ingredi, store, ...   \n",
       "4  [product, health, snack, pup, beef, liver, tri...   \n",
       "\n",
       "                                     Text_Ripetition  \\\n",
       "0  {'chicken': 19, 'soup': 35, 'rice': 21, 'day':...   \n",
       "1  {'drink': 2, 'mix': 2, 'product': 1, 'archer':...   \n",
       "2  {'dog': 3, 'chicken': 2, 'product': 3, 'china'...   \n",
       "3  {'great': 1, 'book': 3, 'babycook': 1, 'ingred...   \n",
       "4  {'product': 78, 'health': 1, 'snack': 11, 'pup...   \n",
       "\n",
       "                                                  Tf  \n",
       "0  {'chicken': 0.0239, 'soup': 0.0441, 'rice': 0....  \n",
       "1  {'drink': 0.08, 'mix': 0.08, 'product': 0.04, ...  \n",
       "2  {'dog': 0.1579, 'chicken': 0.1053, 'product': ...  \n",
       "3  {'great': 0.0667, 'book': 0.2, 'babycook': 0.0...  \n",
       "4  {'product': 0.024, 'health': 0.0003, 'snack': ...  "
      ]
     },
     "execution_count": 9,
     "metadata": {},
     "output_type": "execute_result"
    }
   ],
   "source": [
    "df.head()"
   ]
  },
  {
   "cell_type": "code",
   "execution_count": 10,
   "metadata": {},
   "outputs": [],
   "source": [
    "idf = {}\n",
    "for el in df['Text_Words']:   \n",
    "    for token in el:\n",
    "         idf.update({ token : round(math.log(len(df)/ len(voc[token]),3))})  #applying the formula for each token "
   ]
  },
  {
   "cell_type": "code",
   "execution_count": 11,
   "metadata": {},
   "outputs": [],
   "source": [
    "# Creating a vocabulary that as keys as the word and as values its index\n",
    "def vocabulary_words(df):\n",
    "    words = dict()\n",
    "    i = 0\n",
    "    for el in tqdm(df['Text_Words']):\n",
    "        for w in el:\n",
    "            if w not in words.keys():\n",
    "                words[w] = i\n",
    "                i += 1\n",
    "    return words"
   ]
  },
  {
   "cell_type": "code",
   "execution_count": 12,
   "metadata": {},
   "outputs": [
    {
     "name": "stderr",
     "output_type": "stream",
     "text": [
      "100%|██████████| 74258/74258 [00:01<00:00, 60609.06it/s]\n"
     ]
    }
   ],
   "source": [
    "voc_words = vocabulary_words(df)"
   ]
  },
  {
   "cell_type": "code",
   "execution_count": 13,
   "metadata": {},
   "outputs": [],
   "source": [
    "def score(dictionary):\n",
    "    v = [0]*(len(voc_words))\n",
    "    for word in dictionary.keys():\n",
    "        v[voc_words[word]] = dictionary[word]*idf[word]\n",
    "    return v"
   ]
  },
  {
   "cell_type": "code",
   "execution_count": 14,
   "metadata": {
    "scrolled": false
   },
   "outputs": [
    {
     "name": "stderr",
     "output_type": "stream",
     "text": [
      "100%|██████████| 74258/74258 [07:23<00:00, 167.52it/s]\n"
     ]
    }
   ],
   "source": [
    "from scipy.sparse import lil_matrix\n",
    "\n",
    "matrix = lil_matrix((len(df), len(voc_words)), dtype=np.float)\n",
    "for i in tqdm(range(len(df[\"Tf\"]))):\n",
    "    matrix[i] = np.array(score(df[\"Tf\"][i]))"
   ]
  },
  {
   "cell_type": "code",
   "execution_count": 15,
   "metadata": {},
   "outputs": [],
   "source": [
    "from scipy.sparse import csr_matrix\n",
    "\n",
    "matrix = csr_matrix(matrix)"
   ]
  },
  {
   "cell_type": "markdown",
   "metadata": {},
   "source": [
    "## Dimensionality Reduction"
   ]
  },
  {
   "cell_type": "code",
   "execution_count": 16,
   "metadata": {},
   "outputs": [],
   "source": [
    "from sklearn.decomposition import TruncatedSVD"
   ]
  },
  {
   "cell_type": "code",
   "execution_count": 17,
   "metadata": {},
   "outputs": [
    {
     "data": {
      "text/plain": [
       "(74258, 62787)"
      ]
     },
     "execution_count": 17,
     "metadata": {},
     "output_type": "execute_result"
    }
   ],
   "source": [
    "matrix.shape"
   ]
  },
  {
   "cell_type": "code",
   "execution_count": 18,
   "metadata": {},
   "outputs": [
    {
     "data": {
      "text/plain": [
       "TruncatedSVD(n_components=2000, random_state=42)"
      ]
     },
     "execution_count": 18,
     "metadata": {},
     "output_type": "execute_result"
    }
   ],
   "source": [
    "svd = TruncatedSVD(n_components=2000, random_state=42)\n",
    "svd.fit(matrix)"
   ]
  },
  {
   "cell_type": "code",
   "execution_count": 19,
   "metadata": {},
   "outputs": [
    {
     "name": "stdout",
     "output_type": "stream",
     "text": [
      "0.6081094855890448\n"
     ]
    }
   ],
   "source": [
    "print(svd.explained_variance_ratio_.sum())"
   ]
  },
  {
   "cell_type": "code",
   "execution_count": 20,
   "metadata": {},
   "outputs": [],
   "source": [
    "svd_matrix = svd.transform(matrix)"
   ]
  },
  {
   "cell_type": "code",
   "execution_count": 21,
   "metadata": {},
   "outputs": [
    {
     "data": {
      "text/plain": [
       "(74258, 2000)"
      ]
     },
     "execution_count": 21,
     "metadata": {},
     "output_type": "execute_result"
    }
   ],
   "source": [
    "svd_matrix.shape"
   ]
  },
  {
   "cell_type": "markdown",
   "metadata": {},
   "source": [
    "## Implement KMeans from scratch\n",
    "### Step 0 \n",
    "Elbow method to choose the number of clusters k \n",
    "### Step 1\n",
    "Random inizialization of the k representative points\n",
    "### Step 2\n",
    "Find the cluster $C_i$ defined as $\\{x : \\parallel x-\\mu_i\\parallel \\leq \\parallel x-\\mu_j\\parallel \\forall j\\ne i\\}  \\forall i=1..k$\n",
    "### Step 3 \n",
    "Find $\\mu_i$ which is defined as $\\frac{1}{|C_i|} \\sum_{x\\in C_i} x \\;\\; \\forall i=1..k$\n",
    "<hr>\n",
    "Repeat step 2 and step 3 until <b>convergence</b>.\n",
    "\n",
    "### Convergence\n",
    "We stop when the clusters don't change from the previous iteration."
   ]
  },
  {
   "cell_type": "code",
   "execution_count": 22,
   "metadata": {},
   "outputs": [],
   "source": [
    "import random"
   ]
  },
  {
   "cell_type": "code",
   "execution_count": 66,
   "metadata": {},
   "outputs": [],
   "source": [
    "def euclidian_dist(x,y):\n",
    "    return np.linalg.norm(x-y)"
   ]
  },
  {
   "cell_type": "code",
   "execution_count": 67,
   "metadata": {},
   "outputs": [],
   "source": [
    "def KMeans(k, matrix):\n",
    "    # 1. Choosing k random representatives\n",
    "    representatives_idx = random.sample(range(1, len(matrix)), k)  #Chosing the initial representatives\n",
    "    new_representatives =  []\n",
    "    for i in range(k):\n",
    "        new_representatives.append(matrix[representatives_idx[i]])\n",
    "    representatives = []\n",
    "    \n",
    "    run = True\n",
    "    \n",
    "    while run:\n",
    "        representatives = new_representatives\n",
    "        \n",
    "        # Creating the clusters\n",
    "        clusters = {i: [] for i in range(k)}  # Empty dictionary for each cluster with list as value \n",
    "        i_clusters = {i: [] for i in range(k)}\n",
    "        \n",
    "        # 2. Computing distances and choosing \n",
    "        for ind, point in enumerate(matrix):\n",
    "            dist_xmu = []      # Distance between the point and the representatives for each representative\n",
    "            for i in range(k): \n",
    "                dist_xmu.append(euclidian_dist(representatives[i], point))\n",
    "            nearest_representative = dist_xmu.index(min(dist_xmu))\n",
    "            clusters[nearest_representative].append(point) #Put the point in the cluster with the minimum distance\n",
    "            i_clusters[nearest_representative].append(ind)\n",
    "            \n",
    "        # 3. Selecting new representatives\n",
    "        new_representatives = []\n",
    "        for i in range(k):\n",
    "            run = False\n",
    "            new_val = np.sum(clusters[i],axis=0)/len(clusters[i])\n",
    "            new_representatives.append(new_val)\n",
    "        \n",
    "        for i in range(len(representatives)):\n",
    "            if np.any(representatives[i] != new_representatives[i]):\n",
    "                run = True\n",
    "                \n",
    "    return clusters, new_representatives, i_clusters"
   ]
  },
  {
   "cell_type": "code",
   "execution_count": 64,
   "metadata": {
    "scrolled": true
   },
   "outputs": [],
   "source": [
    "clusters, new_representatives, i_clusters = KMeans(10, svd_matrix)"
   ]
  },
  {
   "cell_type": "code",
   "execution_count": 52,
   "metadata": {},
   "outputs": [
    {
     "data": {
      "text/plain": [
       "False"
      ]
     },
     "execution_count": 52,
     "metadata": {},
     "output_type": "execute_result"
    }
   ],
   "source": [
    "np.all(np.array([1, 2, 3]) == np.array([1, 4, 3]))"
   ]
  },
  {
   "cell_type": "code",
   "execution_count": null,
   "metadata": {},
   "outputs": [],
   "source": [
    "list(df.iloc[i_clusters[5]].Text)[50]"
   ]
  },
  {
   "cell_type": "markdown",
   "metadata": {},
   "source": [
    "## Cluster Analysis "
   ]
  },
  {
   "cell_type": "code",
   "execution_count": 68,
   "metadata": {},
   "outputs": [],
   "source": [
    "def inertia(matrix, centroid, k):\n",
    "    sq_norms = [] #consideranting the norms of xi - muj where i is fixed and j is in range(k)\n",
    "    sum_ = 0\n",
    "    for i in range(len(matrix)):\n",
    "        sq_norms = []\n",
    "        for j in range(k):\n",
    "            sq_norm = euclidian_dist(matrix[i],centroid[j])**2 # squared norm between xi and muj\n",
    "            sq_norms.append(sq_norm) #saving the result in the j-th position of sq_norms array\n",
    "        min_sq_norm = min(sq_norms) #considering the minimum norm\n",
    "        sum_ += min_sq_norm\n",
    "    return sum_ #return inertia"
   ]
  },
  {
   "cell_type": "code",
   "execution_count": 69,
   "metadata": {
    "scrolled": true
   },
   "outputs": [
    {
     "name": "stderr",
     "output_type": "stream",
     "text": [
      "100%|██████████| 9/9 [11:44<00:00, 78.25s/it] \n"
     ]
    }
   ],
   "source": [
    "elbow = []\n",
    "for k in tqdm(range(1, 10)):\n",
    "    clusters, representatives, i_clusters = KMeans(k, svd_matrix)\n",
    "    inertia_ = inertia(svd_matrix, representatives, k) \n",
    "    elbow.append(inertia_)"
   ]
  },
  {
   "cell_type": "code",
   "execution_count": 77,
   "metadata": {
    "scrolled": false
   },
   "outputs": [
    {
     "data": {
      "image/png": "[encoded data removed]",
      "text/plain": [
       "<Figure size 720x720 with 1 Axes>"
      ]
     },
     "metadata": {
      "needs_background": "light"
     },
     "output_type": "display_data"
    }
   ],
   "source": [
    "plt.figure(figsize = (10, 10))\n",
    "plt.plot(range(3,10), elbow[2:])\n",
    "plt.scatter(range(3,10), elbow[2:])\n",
    "plt.xlabel(\"Number of cluster\")\n",
    "plt.ylabel(\"Inertia\")\n",
    "plt.show()"
   ]
  },
  {
   "cell_type": "code",
   "execution_count": 75,
   "metadata": {},
   "outputs": [
    {
     "name": "stdout",
     "output_type": "stream",
     "text": [
      "4\n"
     ]
    }
   ],
   "source": [
    "from kneed import KneeLocator\n",
    "kn = KneeLocator(range(3,10), elbow[2:], curve='convex', direction='decreasing')\n",
    "print(kn.knee)"
   ]
  },
  {
   "cell_type": "markdown",
   "metadata": {},
   "source": [
    "# KMeans ++"
   ]
  },
  {
   "cell_type": "code",
   "execution_count": 5,
   "metadata": {},
   "outputs": [],
   "source": [
    "from sklearn.cluster import KMeans"
   ]
  },
  {
   "cell_type": "code",
   "execution_count": null,
   "metadata": {},
   "outputs": [],
   "source": [
    "elbow = {}\n",
    "for k in tqdm(range(3,10)):\n",
    "    elbow_model = KMeans (n_clusters = k, init = 'k-means++')\n",
    "    elbow_model.fit_predict(svd_matrix)\n",
    "    elbow[k] = elbow_model.inertia_"
   ]
  },
  {
   "cell_type": "code",
   "execution_count": 69,
   "metadata": {},
   "outputs": [
    {
     "data": {
      "text/plain": [
       "[<matplotlib.lines.Line2D at 0x24779d53be0>]"
      ]
     },
     "execution_count": 69,
     "metadata": {},
     "output_type": "execute_result"
    },
    {
     "data": {
      "image/png": "[encoded data removed]",
      "text/plain": [
       "<Figure size 432x288 with 1 Axes>"
      ]
     },
     "metadata": {
      "needs_background": "light"
     },
     "output_type": "display_data"
    }
   ],
   "source": [
    "plt.plot(list(elbow.keys()), list(elbow.values()))"
   ]
  }
 ],
 "metadata": {
  "kernelspec": {
   "display_name": "Python 3",
   "language": "python",
   "name": "python3"
  },
  "language_info": {
   "codemirror_mode": {
    "name": "ipython",
    "version": 3
   },
   "file_extension": ".py",
   "mimetype": "text/x-python",
   "name": "python",
   "nbconvert_exporter": "python",
   "pygments_lexer": "ipython3",
   "version": "3.8.5"
  }
 },
 "nbformat": 4,
 "nbformat_minor": 4
}

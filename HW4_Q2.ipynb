{
 "cells": [
  {
   "cell_type": "markdown",
   "metadata": {},
   "source": [
    "# Libraries"
   ]
  },
  {
   "cell_type": "code",
   "execution_count": 1,
   "metadata": {},
   "outputs": [],
   "source": [
    "import pandas as pd\n",
    "from tqdm import tqdm\n",
    "from sklearn.cluster import KMeans\n",
    "from collections import defaultdict\n",
    "from collections import Counter\n",
    "import math"
   ]
  },
  {
   "cell_type": "markdown",
   "metadata": {},
   "source": [
    "# Cleaning the Data"
   ]
  },
  {
   "cell_type": "code",
   "execution_count": 2,
   "metadata": {},
   "outputs": [],
   "source": [
    "path = '/Users/domenicomattiacinque/Documents/Università/ADM2020/HW4/archive'\n",
    "dataset = pd.read_csv(path + '/Reviews.csv', nrows = 10000)"
   ]
  },
  {
   "cell_type": "code",
   "execution_count": 3,
   "metadata": {},
   "outputs": [
    {
     "data": {
      "text/html": [
       "<div>\n",
       "<style scoped>\n",
       "    .dataframe tbody tr th:only-of-type {\n",
       "        vertical-align: middle;\n",
       "    }\n",
       "\n",
       "    .dataframe tbody tr th {\n",
       "        vertical-align: top;\n",
       "    }\n",
       "\n",
       "    .dataframe thead th {\n",
       "        text-align: right;\n",
       "    }\n",
       "</style>\n",
       "<table border=\"1\" class=\"dataframe\">\n",
       "  <thead>\n",
       "    <tr style=\"text-align: right;\">\n",
       "      <th></th>\n",
       "      <th>Id</th>\n",
       "      <th>ProductId</th>\n",
       "      <th>UserId</th>\n",
       "      <th>ProfileName</th>\n",
       "      <th>HelpfulnessNumerator</th>\n",
       "      <th>HelpfulnessDenominator</th>\n",
       "      <th>Score</th>\n",
       "      <th>Time</th>\n",
       "      <th>Summary</th>\n",
       "      <th>Text</th>\n",
       "    </tr>\n",
       "  </thead>\n",
       "  <tbody>\n",
       "    <tr>\n",
       "      <th>0</th>\n",
       "      <td>1</td>\n",
       "      <td>B001E4KFG0</td>\n",
       "      <td>A3SGXH7AUHU8GW</td>\n",
       "      <td>delmartian</td>\n",
       "      <td>1</td>\n",
       "      <td>1</td>\n",
       "      <td>5</td>\n",
       "      <td>1303862400</td>\n",
       "      <td>Good Quality Dog Food</td>\n",
       "      <td>I have bought several of the Vitality canned d...</td>\n",
       "    </tr>\n",
       "    <tr>\n",
       "      <th>1</th>\n",
       "      <td>2</td>\n",
       "      <td>B00813GRG4</td>\n",
       "      <td>A1D87F6ZCVE5NK</td>\n",
       "      <td>dll pa</td>\n",
       "      <td>0</td>\n",
       "      <td>0</td>\n",
       "      <td>1</td>\n",
       "      <td>1346976000</td>\n",
       "      <td>Not as Advertised</td>\n",
       "      <td>Product arrived labeled as Jumbo Salted Peanut...</td>\n",
       "    </tr>\n",
       "    <tr>\n",
       "      <th>2</th>\n",
       "      <td>3</td>\n",
       "      <td>B000LQOCH0</td>\n",
       "      <td>ABXLMWJIXXAIN</td>\n",
       "      <td>Natalia Corres \"Natalia Corres\"</td>\n",
       "      <td>1</td>\n",
       "      <td>1</td>\n",
       "      <td>4</td>\n",
       "      <td>1219017600</td>\n",
       "      <td>\"Delight\" says it all</td>\n",
       "      <td>This is a confection that has been around a fe...</td>\n",
       "    </tr>\n",
       "    <tr>\n",
       "      <th>3</th>\n",
       "      <td>4</td>\n",
       "      <td>B000UA0QIQ</td>\n",
       "      <td>A395BORC6FGVXV</td>\n",
       "      <td>Karl</td>\n",
       "      <td>3</td>\n",
       "      <td>3</td>\n",
       "      <td>2</td>\n",
       "      <td>1307923200</td>\n",
       "      <td>Cough Medicine</td>\n",
       "      <td>If you are looking for the secret ingredient i...</td>\n",
       "    </tr>\n",
       "    <tr>\n",
       "      <th>4</th>\n",
       "      <td>5</td>\n",
       "      <td>B006K2ZZ7K</td>\n",
       "      <td>A1UQRSCLF8GW1T</td>\n",
       "      <td>Michael D. Bigham \"M. Wassir\"</td>\n",
       "      <td>0</td>\n",
       "      <td>0</td>\n",
       "      <td>5</td>\n",
       "      <td>1350777600</td>\n",
       "      <td>Great taffy</td>\n",
       "      <td>Great taffy at a great price.  There was a wid...</td>\n",
       "    </tr>\n",
       "  </tbody>\n",
       "</table>\n",
       "</div>"
      ],
      "text/plain": [
       "   Id   ProductId          UserId                      ProfileName  \\\n",
       "0   1  B001E4KFG0  A3SGXH7AUHU8GW                       delmartian   \n",
       "1   2  B00813GRG4  A1D87F6ZCVE5NK                           dll pa   \n",
       "2   3  B000LQOCH0   ABXLMWJIXXAIN  Natalia Corres \"Natalia Corres\"   \n",
       "3   4  B000UA0QIQ  A395BORC6FGVXV                             Karl   \n",
       "4   5  B006K2ZZ7K  A1UQRSCLF8GW1T    Michael D. Bigham \"M. Wassir\"   \n",
       "\n",
       "   HelpfulnessNumerator  HelpfulnessDenominator  Score        Time  \\\n",
       "0                     1                       1      5  1303862400   \n",
       "1                     0                       0      1  1346976000   \n",
       "2                     1                       1      4  1219017600   \n",
       "3                     3                       3      2  1307923200   \n",
       "4                     0                       0      5  1350777600   \n",
       "\n",
       "                 Summary                                               Text  \n",
       "0  Good Quality Dog Food  I have bought several of the Vitality canned d...  \n",
       "1      Not as Advertised  Product arrived labeled as Jumbo Salted Peanut...  \n",
       "2  \"Delight\" says it all  This is a confection that has been around a fe...  \n",
       "3         Cough Medicine  If you are looking for the secret ingredient i...  \n",
       "4            Great taffy  Great taffy at a great price.  There was a wid...  "
      ]
     },
     "execution_count": 3,
     "metadata": {},
     "output_type": "execute_result"
    }
   ],
   "source": [
    "dataset.head()"
   ]
  },
  {
   "cell_type": "code",
   "execution_count": 4,
   "metadata": {},
   "outputs": [
    {
     "data": {
      "text/plain": [
       "Id                        0\n",
       "ProductId                 0\n",
       "UserId                    0\n",
       "ProfileName               0\n",
       "HelpfulnessNumerator      0\n",
       "HelpfulnessDenominator    0\n",
       "Score                     0\n",
       "Time                      0\n",
       "Summary                   0\n",
       "Text                      0\n",
       "dtype: int64"
      ]
     },
     "execution_count": 4,
     "metadata": {},
     "output_type": "execute_result"
    }
   ],
   "source": [
    "dataset.isnull().sum()"
   ]
  },
  {
   "cell_type": "code",
   "execution_count": 5,
   "metadata": {},
   "outputs": [],
   "source": [
    "dataset['Summary'].fillna('', inplace=True)"
   ]
  },
  {
   "cell_type": "code",
   "execution_count": 6,
   "metadata": {},
   "outputs": [],
   "source": [
    "dataset['Text'] = dataset['Summary'] + ' ' + dataset['Text'] "
   ]
  },
  {
   "cell_type": "code",
   "execution_count": 7,
   "metadata": {},
   "outputs": [],
   "source": [
    "dataset.drop(['ProductId','UserId','ProfileName','HelpfulnessNumerator',\n",
    "              'HelpfulnessDenominator','Score','Time','Summary'],axis=1, inplace=True)"
   ]
  },
  {
   "cell_type": "code",
   "execution_count": 8,
   "metadata": {},
   "outputs": [
    {
     "data": {
      "text/html": [
       "<div>\n",
       "<style scoped>\n",
       "    .dataframe tbody tr th:only-of-type {\n",
       "        vertical-align: middle;\n",
       "    }\n",
       "\n",
       "    .dataframe tbody tr th {\n",
       "        vertical-align: top;\n",
       "    }\n",
       "\n",
       "    .dataframe thead th {\n",
       "        text-align: right;\n",
       "    }\n",
       "</style>\n",
       "<table border=\"1\" class=\"dataframe\">\n",
       "  <thead>\n",
       "    <tr style=\"text-align: right;\">\n",
       "      <th></th>\n",
       "      <th>Id</th>\n",
       "      <th>Text</th>\n",
       "    </tr>\n",
       "  </thead>\n",
       "  <tbody>\n",
       "    <tr>\n",
       "      <th>0</th>\n",
       "      <td>1</td>\n",
       "      <td>Good Quality Dog Food I have bought several of...</td>\n",
       "    </tr>\n",
       "    <tr>\n",
       "      <th>1</th>\n",
       "      <td>2</td>\n",
       "      <td>Not as Advertised Product arrived labeled as J...</td>\n",
       "    </tr>\n",
       "    <tr>\n",
       "      <th>2</th>\n",
       "      <td>3</td>\n",
       "      <td>\"Delight\" says it all This is a confection tha...</td>\n",
       "    </tr>\n",
       "    <tr>\n",
       "      <th>3</th>\n",
       "      <td>4</td>\n",
       "      <td>Cough Medicine If you are looking for the secr...</td>\n",
       "    </tr>\n",
       "    <tr>\n",
       "      <th>4</th>\n",
       "      <td>5</td>\n",
       "      <td>Great taffy Great taffy at a great price.  The...</td>\n",
       "    </tr>\n",
       "  </tbody>\n",
       "</table>\n",
       "</div>"
      ],
      "text/plain": [
       "   Id                                               Text\n",
       "0   1  Good Quality Dog Food I have bought several of...\n",
       "1   2  Not as Advertised Product arrived labeled as J...\n",
       "2   3  \"Delight\" says it all This is a confection tha...\n",
       "3   4  Cough Medicine If you are looking for the secr...\n",
       "4   5  Great taffy Great taffy at a great price.  The..."
      ]
     },
     "execution_count": 8,
     "metadata": {},
     "output_type": "execute_result"
    }
   ],
   "source": [
    "dataset.head()"
   ]
  },
  {
   "cell_type": "markdown",
   "metadata": {},
   "source": [
    "# Text Mining\n",
    "We want to cluster the products using the reviews that we can find in the column 'Text' of our dataset. In order to do this we need to represent the reviews as TF-IDF score used in the previous homework."
   ]
  },
  {
   "cell_type": "code",
   "execution_count": 63,
   "metadata": {},
   "outputs": [],
   "source": [
    "import nltk\n",
    "from nltk.corpus import stopwords\n",
    "import string\n",
    "import re\n",
    "from nltk.stem import PorterStemmer\n",
    "from nltk.tokenize import sent_tokenize, word_tokenize"
   ]
  },
  {
   "cell_type": "code",
   "execution_count": 64,
   "metadata": {},
   "outputs": [],
   "source": [
    "stop_words = set(stopwords.words('english'))\n",
    "ps = PorterStemmer()"
   ]
  },
  {
   "cell_type": "code",
   "execution_count": 124,
   "metadata": {},
   "outputs": [],
   "source": [
    "#Realizing the cleaned token \n",
    "def clean_text(text):\n",
    "    words = word_tokenize(text)\n",
    "    tagged = nltk.pos_tag(words)\n",
    "    \n",
    "    good_words = []\n",
    "    for word,tag in tagged:\n",
    "        if tag == 'NN' or tag == 'NNS' or tag =='NNPS' or tag == 'NNP':\n",
    "            if word.lower() not in stop_words and word.isalpha() and word.lower() not in string.punctuation:\n",
    "                good_words.append(ps.stem(word).lower())\n",
    "    return good_words"
   ]
  },
  {
   "cell_type": "code",
   "execution_count": 125,
   "metadata": {},
   "outputs": [
    {
     "name": "stdout",
     "output_type": "stream",
     "text": [
      "Good Quality Dog Food I have bought several of the Vitality canned dog food products and have found them all to be of good quality. The product looks more like a stew than a processed meat and it smells better. My Labrador is finicky and she appreciates this product better than  most.\n",
      "['qualiti', 'dog', 'food', 'vital', 'food', 'product', 'qualiti', 'product', 'stew', 'meat', 'labrador', 'product']\n"
     ]
    }
   ],
   "source": [
    "#test\n",
    "print(dataset['Text'][0])\n",
    "print(clean_text(dataset['Text'][0]))"
   ]
  },
  {
   "cell_type": "code",
   "execution_count": 126,
   "metadata": {},
   "outputs": [],
   "source": [
    "#Applying the clean_text function to each element of the column 'Text'\n",
    "dataset['Text_Words'] = dataset.Text.apply(lambda x: clean_text(x))"
   ]
  },
  {
   "cell_type": "code",
   "execution_count": 128,
   "metadata": {},
   "outputs": [
    {
     "data": {
      "text/html": [
       "<div>\n",
       "<style scoped>\n",
       "    .dataframe tbody tr th:only-of-type {\n",
       "        vertical-align: middle;\n",
       "    }\n",
       "\n",
       "    .dataframe tbody tr th {\n",
       "        vertical-align: top;\n",
       "    }\n",
       "\n",
       "    .dataframe thead th {\n",
       "        text-align: right;\n",
       "    }\n",
       "</style>\n",
       "<table border=\"1\" class=\"dataframe\">\n",
       "  <thead>\n",
       "    <tr style=\"text-align: right;\">\n",
       "      <th></th>\n",
       "      <th>Id</th>\n",
       "      <th>Text</th>\n",
       "      <th>Text_Words</th>\n",
       "      <th>Text_Ripetition</th>\n",
       "      <th>Tf</th>\n",
       "      <th>Tf-Idf</th>\n",
       "    </tr>\n",
       "  </thead>\n",
       "  <tbody>\n",
       "    <tr>\n",
       "      <th>0</th>\n",
       "      <td>1</td>\n",
       "      <td>Good Quality Dog Food I have bought several of...</td>\n",
       "      <td>[qualiti, dog, food, vital, food, product, qua...</td>\n",
       "      <td>{'qualiti': 1, 'dog': 1, 'food': 1, 'vital': 1...</td>\n",
       "      <td>{'qualiti': 0.2, 'dog': 0.2, 'food': 0.2, 'vit...</td>\n",
       "      <td>[1.1756271723601956, 0.8399410155759854, 0.820...</td>\n",
       "    </tr>\n",
       "    <tr>\n",
       "      <th>1</th>\n",
       "      <td>2</td>\n",
       "      <td>Not as Advertised Product arrived labeled as J...</td>\n",
       "      <td>[product, jumbo, salt, peanut, peanut, error, ...</td>\n",
       "      <td>{'product': 1, 'jumbo': 2, 'salt': 1, 'peanut'...</td>\n",
       "      <td>{'product': 0.2, 'jumbo': 0.4, 'salt': 0.2, 'p...</td>\n",
       "      <td>[0.0, 0.0, 0.0, 0.0, 0.0, 0.8780117612742292, ...</td>\n",
       "    </tr>\n",
       "    <tr>\n",
       "      <th>2</th>\n",
       "      <td>3</td>\n",
       "      <td>\"Delight\" says it all This is a confection tha...</td>\n",
       "      <td>[delight, confect, centuri, citru, gelatin, nu...</td>\n",
       "      <td>{'delight': 1, 'filbert': 1, 'lewi': 1, 'lion'...</td>\n",
       "      <td>{'delight': 0.1111111111111111, 'filbert': 0.1...</td>\n",
       "      <td>[0.0, 0.0, 0.0, 0.0, 0.0, 0.0, 0.0, 0.0, 0.0, ...</td>\n",
       "    </tr>\n",
       "    <tr>\n",
       "      <th>3</th>\n",
       "      <td>4</td>\n",
       "      <td>Cough Medicine If you are looking for the secr...</td>\n",
       "      <td>[cough, medicin, ingredi, robitussin, addit, r...</td>\n",
       "      <td>{'cough': 1, 'medicin': 1, 'robitussin': 1, 'r...</td>\n",
       "      <td>{'cough': 0.16666666666666666, 'medicin': 0.16...</td>\n",
       "      <td>[0.0, 0.0, 0.0, 0.0, 0.0, 0.0, 0.0, 0.0, 0.0, ...</td>\n",
       "    </tr>\n",
       "    <tr>\n",
       "      <th>4</th>\n",
       "      <td>5</td>\n",
       "      <td>Great taffy Great taffy at a great price.  The...</td>\n",
       "      <td>[great, great, taffi, price, assort, yummi, ta...</td>\n",
       "      <td>{'great': 2, 'deliveri': 1}</td>\n",
       "      <td>{'great': 0.6666666666666666, 'deliveri': 0.33...</td>\n",
       "      <td>[0.0, 0.0, 0.0, 0.0, 0.0, 0.0, 0.0, 0.0, 0.0, ...</td>\n",
       "    </tr>\n",
       "    <tr>\n",
       "      <th>5</th>\n",
       "      <td>6</td>\n",
       "      <td>Nice Taffy I got a wild hair for taffy and ord...</td>\n",
       "      <td>[nice, taffi, hair, taffi, pound, bag, taffi, ...</td>\n",
       "      <td>{'nice': 1, 'taffi': 1}</td>\n",
       "      <td>{'nice': 0.5, 'taffi': 0.5}</td>\n",
       "      <td>[0.0, 0.0, 0.0, 0.0, 0.0, 0.0, 0.0, 0.0, 0.0, ...</td>\n",
       "    </tr>\n",
       "    <tr>\n",
       "      <th>6</th>\n",
       "      <td>7</td>\n",
       "      <td>Great!  Just as good as the expensive brands! ...</td>\n",
       "      <td>[great, brand, saltwat, taffi, flavor, candi, ...</td>\n",
       "      <td>{'fraling': 1}</td>\n",
       "      <td>{'fraling': 1.0}</td>\n",
       "      <td>[0.0, 0.0, 0.0, 0.0, 0.0, 0.0, 0.0, 0.0, 0.0, ...</td>\n",
       "    </tr>\n",
       "    <tr>\n",
       "      <th>7</th>\n",
       "      <td>8</td>\n",
       "      <td>Wonderful, tasty taffy This taffy is so good. ...</td>\n",
       "      <td>[wonder, taffi, taffi, chewi, flavor]</td>\n",
       "      <td>{'wonder': 1}</td>\n",
       "      <td>{'wonder': 1.0}</td>\n",
       "      <td>[0.0, 0.0, 0.0, 0.0, 0.0, 0.0, 0.0, 0.0, 0.0, ...</td>\n",
       "    </tr>\n",
       "    <tr>\n",
       "      <th>8</th>\n",
       "      <td>9</td>\n",
       "      <td>Yay Barley Right now I'm mostly just sprouting...</td>\n",
       "      <td>[yay, barley, right, cat, grass, wheatgrass, rye]</td>\n",
       "      <td>{'yay': 1, 'barley': 1, 'right': 1, 'wheatgras...</td>\n",
       "      <td>{'yay': 0.2, 'barley': 0.2, 'right': 0.2, 'whe...</td>\n",
       "      <td>[0.0, 0.0, 0.0, 0.0, 0.0, 0.0, 0.0, 0.0, 0.0, ...</td>\n",
       "    </tr>\n",
       "    <tr>\n",
       "      <th>9</th>\n",
       "      <td>10</td>\n",
       "      <td>Healthy Dog Food This is a very healthy dog fo...</td>\n",
       "      <td>[healthi, dog, food, dog, food, good, digest, ...</td>\n",
       "      <td>{'healthi': 1, 'dog': 1, 'food': 1, 'good': 1}</td>\n",
       "      <td>{'healthi': 0.25, 'dog': 0.25, 'food': 0.25, '...</td>\n",
       "      <td>[0.0, 1.0499262694699818, 1.0260987245189006, ...</td>\n",
       "    </tr>\n",
       "  </tbody>\n",
       "</table>\n",
       "</div>"
      ],
      "text/plain": [
       "   Id                                               Text  \\\n",
       "0   1  Good Quality Dog Food I have bought several of...   \n",
       "1   2  Not as Advertised Product arrived labeled as J...   \n",
       "2   3  \"Delight\" says it all This is a confection tha...   \n",
       "3   4  Cough Medicine If you are looking for the secr...   \n",
       "4   5  Great taffy Great taffy at a great price.  The...   \n",
       "5   6  Nice Taffy I got a wild hair for taffy and ord...   \n",
       "6   7  Great!  Just as good as the expensive brands! ...   \n",
       "7   8  Wonderful, tasty taffy This taffy is so good. ...   \n",
       "8   9  Yay Barley Right now I'm mostly just sprouting...   \n",
       "9  10  Healthy Dog Food This is a very healthy dog fo...   \n",
       "\n",
       "                                          Text_Words  \\\n",
       "0  [qualiti, dog, food, vital, food, product, qua...   \n",
       "1  [product, jumbo, salt, peanut, peanut, error, ...   \n",
       "2  [delight, confect, centuri, citru, gelatin, nu...   \n",
       "3  [cough, medicin, ingredi, robitussin, addit, r...   \n",
       "4  [great, great, taffi, price, assort, yummi, ta...   \n",
       "5  [nice, taffi, hair, taffi, pound, bag, taffi, ...   \n",
       "6  [great, brand, saltwat, taffi, flavor, candi, ...   \n",
       "7              [wonder, taffi, taffi, chewi, flavor]   \n",
       "8  [yay, barley, right, cat, grass, wheatgrass, rye]   \n",
       "9  [healthi, dog, food, dog, food, good, digest, ...   \n",
       "\n",
       "                                     Text_Ripetition  \\\n",
       "0  {'qualiti': 1, 'dog': 1, 'food': 1, 'vital': 1...   \n",
       "1  {'product': 1, 'jumbo': 2, 'salt': 1, 'peanut'...   \n",
       "2  {'delight': 1, 'filbert': 1, 'lewi': 1, 'lion'...   \n",
       "3  {'cough': 1, 'medicin': 1, 'robitussin': 1, 'r...   \n",
       "4                        {'great': 2, 'deliveri': 1}   \n",
       "5                            {'nice': 1, 'taffi': 1}   \n",
       "6                                     {'fraling': 1}   \n",
       "7                                      {'wonder': 1}   \n",
       "8  {'yay': 1, 'barley': 1, 'right': 1, 'wheatgras...   \n",
       "9     {'healthi': 1, 'dog': 1, 'food': 1, 'good': 1}   \n",
       "\n",
       "                                                  Tf  \\\n",
       "0  {'qualiti': 0.2, 'dog': 0.2, 'food': 0.2, 'vit...   \n",
       "1  {'product': 0.2, 'jumbo': 0.4, 'salt': 0.2, 'p...   \n",
       "2  {'delight': 0.1111111111111111, 'filbert': 0.1...   \n",
       "3  {'cough': 0.16666666666666666, 'medicin': 0.16...   \n",
       "4  {'great': 0.6666666666666666, 'deliveri': 0.33...   \n",
       "5                        {'nice': 0.5, 'taffi': 0.5}   \n",
       "6                                   {'fraling': 1.0}   \n",
       "7                                    {'wonder': 1.0}   \n",
       "8  {'yay': 0.2, 'barley': 0.2, 'right': 0.2, 'whe...   \n",
       "9  {'healthi': 0.25, 'dog': 0.25, 'food': 0.25, '...   \n",
       "\n",
       "                                              Tf-Idf  \n",
       "0  [1.1756271723601956, 0.8399410155759854, 0.820...  \n",
       "1  [0.0, 0.0, 0.0, 0.0, 0.0, 0.8780117612742292, ...  \n",
       "2  [0.0, 0.0, 0.0, 0.0, 0.0, 0.0, 0.0, 0.0, 0.0, ...  \n",
       "3  [0.0, 0.0, 0.0, 0.0, 0.0, 0.0, 0.0, 0.0, 0.0, ...  \n",
       "4  [0.0, 0.0, 0.0, 0.0, 0.0, 0.0, 0.0, 0.0, 0.0, ...  \n",
       "5  [0.0, 0.0, 0.0, 0.0, 0.0, 0.0, 0.0, 0.0, 0.0, ...  \n",
       "6  [0.0, 0.0, 0.0, 0.0, 0.0, 0.0, 0.0, 0.0, 0.0, ...  \n",
       "7  [0.0, 0.0, 0.0, 0.0, 0.0, 0.0, 0.0, 0.0, 0.0, ...  \n",
       "8  [0.0, 0.0, 0.0, 0.0, 0.0, 0.0, 0.0, 0.0, 0.0, ...  \n",
       "9  [0.0, 1.0499262694699818, 1.0260987245189006, ...  "
      ]
     },
     "execution_count": 128,
     "metadata": {},
     "output_type": "execute_result"
    }
   ],
   "source": [
    "dataset.head(10)"
   ]
  },
  {
   "cell_type": "code",
   "execution_count": 71,
   "metadata": {},
   "outputs": [],
   "source": [
    "def vocabulary(df):\n",
    "    words = defaultdict(list)\n",
    "    for i,el in enumerate(df['Text_Words']):\n",
    "        for w in el:\n",
    "            words[w].append(i)\n",
    "    return words\n",
    "voc = vocabulary(dataset)"
   ]
  },
  {
   "cell_type": "code",
   "execution_count": 72,
   "metadata": {},
   "outputs": [],
   "source": [
    "#counting the ripetition of each token for each plot\n",
    "dataset[\"Text_Ripetition\"] = dataset[\"Text_Words\"].apply(lambda x : Counter(x))"
   ]
  },
  {
   "cell_type": "code",
   "execution_count": 73,
   "metadata": {},
   "outputs": [
    {
     "data": {
      "text/html": [
       "<div>\n",
       "<style scoped>\n",
       "    .dataframe tbody tr th:only-of-type {\n",
       "        vertical-align: middle;\n",
       "    }\n",
       "\n",
       "    .dataframe tbody tr th {\n",
       "        vertical-align: top;\n",
       "    }\n",
       "\n",
       "    .dataframe thead th {\n",
       "        text-align: right;\n",
       "    }\n",
       "</style>\n",
       "<table border=\"1\" class=\"dataframe\">\n",
       "  <thead>\n",
       "    <tr style=\"text-align: right;\">\n",
       "      <th></th>\n",
       "      <th>Id</th>\n",
       "      <th>Text</th>\n",
       "      <th>Text_Words</th>\n",
       "      <th>Text_Ripetition</th>\n",
       "      <th>Tf</th>\n",
       "      <th>Tf-Idf</th>\n",
       "    </tr>\n",
       "  </thead>\n",
       "  <tbody>\n",
       "    <tr>\n",
       "      <th>0</th>\n",
       "      <td>1</td>\n",
       "      <td>Good Quality Dog Food I have bought several of...</td>\n",
       "      <td>[qualiti, dog, food, vital, labrador]</td>\n",
       "      <td>{'qualiti': 1, 'dog': 1, 'food': 1, 'vital': 1...</td>\n",
       "      <td>{'good': 0.07407407407407407, 'qualiti': 0.074...</td>\n",
       "      <td>[0.058967869227243466, 0.1996761245261965, 0.1...</td>\n",
       "    </tr>\n",
       "    <tr>\n",
       "      <th>1</th>\n",
       "      <td>2</td>\n",
       "      <td>Not as Advertised Product arrived labeled as J...</td>\n",
       "      <td>[product, jumbo, salt, peanut, jumbo]</td>\n",
       "      <td>{'product': 1, 'jumbo': 2, 'salt': 1, 'peanut'...</td>\n",
       "      <td>{'advertis': 0.05263157894736842, 'product': 0...</td>\n",
       "      <td>[0, 0, 0, 0, 0, 0, 0, 0, 0.11483597709093576, ...</td>\n",
       "    </tr>\n",
       "    <tr>\n",
       "      <th>2</th>\n",
       "      <td>3</td>\n",
       "      <td>\"Delight\" says it all This is a confection tha...</td>\n",
       "      <td>[delight, filbert, lewi, lion, witch, wardrob,...</td>\n",
       "      <td>{'delight': 1, 'filbert': 1, 'lewi': 1, 'lion'...</td>\n",
       "      <td>{'delight': 0.024390243902439025, 'say': 0.024...</td>\n",
       "      <td>[0, 0, 0, 0, 0, 0, 0, 0, 0, 0, 0, 0, 0, 0, 0, ...</td>\n",
       "    </tr>\n",
       "    <tr>\n",
       "      <th>3</th>\n",
       "      <td>4</td>\n",
       "      <td>Cough Medicine If you are looking for the secr...</td>\n",
       "      <td>[cough, medicin, robitussin, root, beer, extract]</td>\n",
       "      <td>{'cough': 1, 'medicin': 1, 'robitussin': 1, 'r...</td>\n",
       "      <td>{'cough': 0.05, 'medicin': 0.1, 'look': 0.05, ...</td>\n",
       "      <td>[0.03980331172838934, 0, 0, 0, 0, 0, 0, 0, 0, ...</td>\n",
       "    </tr>\n",
       "    <tr>\n",
       "      <th>4</th>\n",
       "      <td>5</td>\n",
       "      <td>Great taffy Great taffy at a great price.  The...</td>\n",
       "      <td>[great, great, deliveri]</td>\n",
       "      <td>{'great': 2, 'deliveri': 1}</td>\n",
       "      <td>{'great': 0.2, 'taffi': 0.26666666666666666, '...</td>\n",
       "      <td>[0, 0, 0, 0, 0, 0, 0, 0, 0, 0, 0, 0, 0, 0, 0, ...</td>\n",
       "    </tr>\n",
       "  </tbody>\n",
       "</table>\n",
       "</div>"
      ],
      "text/plain": [
       "   Id                                               Text  \\\n",
       "0   1  Good Quality Dog Food I have bought several of...   \n",
       "1   2  Not as Advertised Product arrived labeled as J...   \n",
       "2   3  \"Delight\" says it all This is a confection tha...   \n",
       "3   4  Cough Medicine If you are looking for the secr...   \n",
       "4   5  Great taffy Great taffy at a great price.  The...   \n",
       "\n",
       "                                          Text_Words  \\\n",
       "0              [qualiti, dog, food, vital, labrador]   \n",
       "1              [product, jumbo, salt, peanut, jumbo]   \n",
       "2  [delight, filbert, lewi, lion, witch, wardrob,...   \n",
       "3  [cough, medicin, robitussin, root, beer, extract]   \n",
       "4                           [great, great, deliveri]   \n",
       "\n",
       "                                     Text_Ripetition  \\\n",
       "0  {'qualiti': 1, 'dog': 1, 'food': 1, 'vital': 1...   \n",
       "1  {'product': 1, 'jumbo': 2, 'salt': 1, 'peanut'...   \n",
       "2  {'delight': 1, 'filbert': 1, 'lewi': 1, 'lion'...   \n",
       "3  {'cough': 1, 'medicin': 1, 'robitussin': 1, 'r...   \n",
       "4                        {'great': 2, 'deliveri': 1}   \n",
       "\n",
       "                                                  Tf  \\\n",
       "0  {'good': 0.07407407407407407, 'qualiti': 0.074...   \n",
       "1  {'advertis': 0.05263157894736842, 'product': 0...   \n",
       "2  {'delight': 0.024390243902439025, 'say': 0.024...   \n",
       "3  {'cough': 0.05, 'medicin': 0.1, 'look': 0.05, ...   \n",
       "4  {'great': 0.2, 'taffi': 0.26666666666666666, '...   \n",
       "\n",
       "                                              Tf-Idf  \n",
       "0  [0.058967869227243466, 0.1996761245261965, 0.1...  \n",
       "1  [0, 0, 0, 0, 0, 0, 0, 0, 0.11483597709093576, ...  \n",
       "2  [0, 0, 0, 0, 0, 0, 0, 0, 0, 0, 0, 0, 0, 0, 0, ...  \n",
       "3  [0.03980331172838934, 0, 0, 0, 0, 0, 0, 0, 0, ...  \n",
       "4  [0, 0, 0, 0, 0, 0, 0, 0, 0, 0, 0, 0, 0, 0, 0, ...  "
      ]
     },
     "execution_count": 73,
     "metadata": {},
     "output_type": "execute_result"
    }
   ],
   "source": [
    "dataset.head()"
   ]
  },
  {
   "cell_type": "code",
   "execution_count": 74,
   "metadata": {},
   "outputs": [],
   "source": [
    "def tf_i(text):\n",
    "    tot_token = 0\n",
    "    for k, v in text.items():\n",
    "        tot_token += v #numbers of total tokens in the plot\n",
    "    tf = {}\n",
    "    for token, rip in text.items():#the values in this dictionary are the ripetition of that specific token\n",
    "        tf[token] = rip / tot_token\n",
    "    return tf     "
   ]
  },
  {
   "cell_type": "code",
   "execution_count": 75,
   "metadata": {},
   "outputs": [],
   "source": [
    "tf = []\n",
    "for i in range(len(dataset['Text_Ripetition'])):\n",
    "    tf.append(tf_i(dataset[\"Text_Ripetition\"][i])) #applying the previous function to each plot\n",
    "dataset[\"Tf\"] = tf #adding the column tf to the dataset"
   ]
  },
  {
   "cell_type": "code",
   "execution_count": 76,
   "metadata": {},
   "outputs": [
    {
     "data": {
      "text/html": [
       "<div>\n",
       "<style scoped>\n",
       "    .dataframe tbody tr th:only-of-type {\n",
       "        vertical-align: middle;\n",
       "    }\n",
       "\n",
       "    .dataframe tbody tr th {\n",
       "        vertical-align: top;\n",
       "    }\n",
       "\n",
       "    .dataframe thead th {\n",
       "        text-align: right;\n",
       "    }\n",
       "</style>\n",
       "<table border=\"1\" class=\"dataframe\">\n",
       "  <thead>\n",
       "    <tr style=\"text-align: right;\">\n",
       "      <th></th>\n",
       "      <th>Id</th>\n",
       "      <th>Text</th>\n",
       "      <th>Text_Words</th>\n",
       "      <th>Text_Ripetition</th>\n",
       "      <th>Tf</th>\n",
       "      <th>Tf-Idf</th>\n",
       "    </tr>\n",
       "  </thead>\n",
       "  <tbody>\n",
       "    <tr>\n",
       "      <th>0</th>\n",
       "      <td>1</td>\n",
       "      <td>Good Quality Dog Food I have bought several of...</td>\n",
       "      <td>[qualiti, dog, food, vital, labrador]</td>\n",
       "      <td>{'qualiti': 1, 'dog': 1, 'food': 1, 'vital': 1...</td>\n",
       "      <td>{'qualiti': 0.2, 'dog': 0.2, 'food': 0.2, 'vit...</td>\n",
       "      <td>[0.058967869227243466, 0.1996761245261965, 0.1...</td>\n",
       "    </tr>\n",
       "    <tr>\n",
       "      <th>1</th>\n",
       "      <td>2</td>\n",
       "      <td>Not as Advertised Product arrived labeled as J...</td>\n",
       "      <td>[product, jumbo, salt, peanut, jumbo]</td>\n",
       "      <td>{'product': 1, 'jumbo': 2, 'salt': 1, 'peanut'...</td>\n",
       "      <td>{'product': 0.2, 'jumbo': 0.4, 'salt': 0.2, 'p...</td>\n",
       "      <td>[0, 0, 0, 0, 0, 0, 0, 0, 0.11483597709093576, ...</td>\n",
       "    </tr>\n",
       "    <tr>\n",
       "      <th>2</th>\n",
       "      <td>3</td>\n",
       "      <td>\"Delight\" says it all This is a confection tha...</td>\n",
       "      <td>[delight, filbert, lewi, lion, witch, wardrob,...</td>\n",
       "      <td>{'delight': 1, 'filbert': 1, 'lewi': 1, 'lion'...</td>\n",
       "      <td>{'delight': 0.1111111111111111, 'filbert': 0.1...</td>\n",
       "      <td>[0, 0, 0, 0, 0, 0, 0, 0, 0, 0, 0, 0, 0, 0, 0, ...</td>\n",
       "    </tr>\n",
       "    <tr>\n",
       "      <th>3</th>\n",
       "      <td>4</td>\n",
       "      <td>Cough Medicine If you are looking for the secr...</td>\n",
       "      <td>[cough, medicin, robitussin, root, beer, extract]</td>\n",
       "      <td>{'cough': 1, 'medicin': 1, 'robitussin': 1, 'r...</td>\n",
       "      <td>{'cough': 0.16666666666666666, 'medicin': 0.16...</td>\n",
       "      <td>[0.03980331172838934, 0, 0, 0, 0, 0, 0, 0, 0, ...</td>\n",
       "    </tr>\n",
       "    <tr>\n",
       "      <th>4</th>\n",
       "      <td>5</td>\n",
       "      <td>Great taffy Great taffy at a great price.  The...</td>\n",
       "      <td>[great, great, deliveri]</td>\n",
       "      <td>{'great': 2, 'deliveri': 1}</td>\n",
       "      <td>{'great': 0.6666666666666666, 'deliveri': 0.33...</td>\n",
       "      <td>[0, 0, 0, 0, 0, 0, 0, 0, 0, 0, 0, 0, 0, 0, 0, ...</td>\n",
       "    </tr>\n",
       "  </tbody>\n",
       "</table>\n",
       "</div>"
      ],
      "text/plain": [
       "   Id                                               Text  \\\n",
       "0   1  Good Quality Dog Food I have bought several of...   \n",
       "1   2  Not as Advertised Product arrived labeled as J...   \n",
       "2   3  \"Delight\" says it all This is a confection tha...   \n",
       "3   4  Cough Medicine If you are looking for the secr...   \n",
       "4   5  Great taffy Great taffy at a great price.  The...   \n",
       "\n",
       "                                          Text_Words  \\\n",
       "0              [qualiti, dog, food, vital, labrador]   \n",
       "1              [product, jumbo, salt, peanut, jumbo]   \n",
       "2  [delight, filbert, lewi, lion, witch, wardrob,...   \n",
       "3  [cough, medicin, robitussin, root, beer, extract]   \n",
       "4                           [great, great, deliveri]   \n",
       "\n",
       "                                     Text_Ripetition  \\\n",
       "0  {'qualiti': 1, 'dog': 1, 'food': 1, 'vital': 1...   \n",
       "1  {'product': 1, 'jumbo': 2, 'salt': 1, 'peanut'...   \n",
       "2  {'delight': 1, 'filbert': 1, 'lewi': 1, 'lion'...   \n",
       "3  {'cough': 1, 'medicin': 1, 'robitussin': 1, 'r...   \n",
       "4                        {'great': 2, 'deliveri': 1}   \n",
       "\n",
       "                                                  Tf  \\\n",
       "0  {'qualiti': 0.2, 'dog': 0.2, 'food': 0.2, 'vit...   \n",
       "1  {'product': 0.2, 'jumbo': 0.4, 'salt': 0.2, 'p...   \n",
       "2  {'delight': 0.1111111111111111, 'filbert': 0.1...   \n",
       "3  {'cough': 0.16666666666666666, 'medicin': 0.16...   \n",
       "4  {'great': 0.6666666666666666, 'deliveri': 0.33...   \n",
       "\n",
       "                                              Tf-Idf  \n",
       "0  [0.058967869227243466, 0.1996761245261965, 0.1...  \n",
       "1  [0, 0, 0, 0, 0, 0, 0, 0, 0.11483597709093576, ...  \n",
       "2  [0, 0, 0, 0, 0, 0, 0, 0, 0, 0, 0, 0, 0, 0, 0, ...  \n",
       "3  [0.03980331172838934, 0, 0, 0, 0, 0, 0, 0, 0, ...  \n",
       "4  [0, 0, 0, 0, 0, 0, 0, 0, 0, 0, 0, 0, 0, 0, 0, ...  "
      ]
     },
     "execution_count": 76,
     "metadata": {},
     "output_type": "execute_result"
    }
   ],
   "source": [
    "dataset.head()"
   ]
  },
  {
   "cell_type": "code",
   "execution_count": 77,
   "metadata": {},
   "outputs": [],
   "source": [
    "idf = {}\n",
    "for el in dataset['Text_Words']:   \n",
    "    for token in el:\n",
    "         idf.update({ token : math.log(len(dataset)/ len(voc[token]))})  #applying the formula for each token "
   ]
  },
  {
   "cell_type": "code",
   "execution_count": 78,
   "metadata": {},
   "outputs": [],
   "source": [
    "# Creating a vocabulary that as keys as the word and as values its index\n",
    "def vocabulary_words(df):\n",
    "    words = dict()\n",
    "    i = 0\n",
    "    for el in tqdm(df['Text_Words']):\n",
    "        for w in el:\n",
    "            if w not in words.keys():\n",
    "                words[w] = i\n",
    "                i += 1\n",
    "    return words"
   ]
  },
  {
   "cell_type": "code",
   "execution_count": 79,
   "metadata": {},
   "outputs": [
    {
     "name": "stderr",
     "output_type": "stream",
     "text": [
      "100%|██████████| 10000/10000 [00:00<00:00, 643041.73it/s]\n"
     ]
    }
   ],
   "source": [
    "voc_words = vocabulary_words(dataset)"
   ]
  },
  {
   "cell_type": "code",
   "execution_count": 135,
   "metadata": {},
   "outputs": [],
   "source": [
    "def score(dictionary):\n",
    "    v = (len(voc_words))\n",
    "    for word in dictionary.keys():\n",
    "        v[voc_words[word]] = dictionary[word]*idf[word]\n",
    "    return v"
   ]
  },
  {
   "cell_type": "code",
   "execution_count": 136,
   "metadata": {},
   "outputs": [],
   "source": [
    "# lambda\n",
    "dataset['Tf-Idf'] = dataset.Tf.apply(lambda x: score(x))"
   ]
  },
  {
   "cell_type": "code",
   "execution_count": 132,
   "metadata": {},
   "outputs": [
    {
     "data": {
      "text/html": [
       "<div>\n",
       "<style scoped>\n",
       "    .dataframe tbody tr th:only-of-type {\n",
       "        vertical-align: middle;\n",
       "    }\n",
       "\n",
       "    .dataframe tbody tr th {\n",
       "        vertical-align: top;\n",
       "    }\n",
       "\n",
       "    .dataframe thead th {\n",
       "        text-align: right;\n",
       "    }\n",
       "</style>\n",
       "<table border=\"1\" class=\"dataframe\">\n",
       "  <thead>\n",
       "    <tr style=\"text-align: right;\">\n",
       "      <th></th>\n",
       "      <th>Id</th>\n",
       "      <th>Text</th>\n",
       "      <th>Text_Words</th>\n",
       "      <th>Text_Ripetition</th>\n",
       "      <th>Tf</th>\n",
       "      <th>Tf-Idf</th>\n",
       "    </tr>\n",
       "  </thead>\n",
       "  <tbody>\n",
       "    <tr>\n",
       "      <th>0</th>\n",
       "      <td>1</td>\n",
       "      <td>Good Quality Dog Food I have bought several of...</td>\n",
       "      <td>[qualiti, dog, food, vital, food, product, qua...</td>\n",
       "      <td>{'qualiti': 1, 'dog': 1, 'food': 1, 'vital': 1...</td>\n",
       "      <td>{'qualiti': 0.2, 'dog': 0.2, 'food': 0.2, 'vit...</td>\n",
       "      <td>[1.1756271723601956, 0.8399410155759854, 0.820...</td>\n",
       "    </tr>\n",
       "    <tr>\n",
       "      <th>1</th>\n",
       "      <td>2</td>\n",
       "      <td>Not as Advertised Product arrived labeled as J...</td>\n",
       "      <td>[product, jumbo, salt, peanut, peanut, error, ...</td>\n",
       "      <td>{'product': 1, 'jumbo': 2, 'salt': 1, 'peanut'...</td>\n",
       "      <td>{'product': 0.2, 'jumbo': 0.4, 'salt': 0.2, 'p...</td>\n",
       "      <td>[0, 0, 0, 0, 0, 0.8780117612742292, 2.90577208...</td>\n",
       "    </tr>\n",
       "    <tr>\n",
       "      <th>2</th>\n",
       "      <td>3</td>\n",
       "      <td>\"Delight\" says it all This is a confection tha...</td>\n",
       "      <td>[delight, confect, centuri, citru, gelatin, nu...</td>\n",
       "      <td>{'delight': 1, 'filbert': 1, 'lewi': 1, 'lion'...</td>\n",
       "      <td>{'delight': 0.1111111111111111, 'filbert': 0.1...</td>\n",
       "      <td>[0, 0, 0, 0, 0, 0, 0, 0, 0, 0.665718283011998,...</td>\n",
       "    </tr>\n",
       "    <tr>\n",
       "      <th>3</th>\n",
       "      <td>4</td>\n",
       "      <td>Cough Medicine If you are looking for the secr...</td>\n",
       "      <td>[cough, medicin, ingredi, robitussin, addit, r...</td>\n",
       "      <td>{'cough': 1, 'medicin': 1, 'robitussin': 1, 'r...</td>\n",
       "      <td>{'cough': 0.16666666666666666, 'medicin': 0.16...</td>\n",
       "      <td>[0, 0, 0, 0, 0, 0, 0, 0, 0, 0, 0, 0, 0, 0, 0, ...</td>\n",
       "    </tr>\n",
       "    <tr>\n",
       "      <th>4</th>\n",
       "      <td>5</td>\n",
       "      <td>Great taffy Great taffy at a great price.  The...</td>\n",
       "      <td>[great, great, taffi, price, assort, yummi, ta...</td>\n",
       "      <td>{'great': 2, 'deliveri': 1}</td>\n",
       "      <td>{'great': 0.6666666666666666, 'deliveri': 0.33...</td>\n",
       "      <td>[0, 0, 0, 0, 0, 0, 0, 0, 0, 0, 0, 0, 0, 0, 0, ...</td>\n",
       "    </tr>\n",
       "  </tbody>\n",
       "</table>\n",
       "</div>"
      ],
      "text/plain": [
       "   Id                                               Text  \\\n",
       "0   1  Good Quality Dog Food I have bought several of...   \n",
       "1   2  Not as Advertised Product arrived labeled as J...   \n",
       "2   3  \"Delight\" says it all This is a confection tha...   \n",
       "3   4  Cough Medicine If you are looking for the secr...   \n",
       "4   5  Great taffy Great taffy at a great price.  The...   \n",
       "\n",
       "                                          Text_Words  \\\n",
       "0  [qualiti, dog, food, vital, food, product, qua...   \n",
       "1  [product, jumbo, salt, peanut, peanut, error, ...   \n",
       "2  [delight, confect, centuri, citru, gelatin, nu...   \n",
       "3  [cough, medicin, ingredi, robitussin, addit, r...   \n",
       "4  [great, great, taffi, price, assort, yummi, ta...   \n",
       "\n",
       "                                     Text_Ripetition  \\\n",
       "0  {'qualiti': 1, 'dog': 1, 'food': 1, 'vital': 1...   \n",
       "1  {'product': 1, 'jumbo': 2, 'salt': 1, 'peanut'...   \n",
       "2  {'delight': 1, 'filbert': 1, 'lewi': 1, 'lion'...   \n",
       "3  {'cough': 1, 'medicin': 1, 'robitussin': 1, 'r...   \n",
       "4                        {'great': 2, 'deliveri': 1}   \n",
       "\n",
       "                                                  Tf  \\\n",
       "0  {'qualiti': 0.2, 'dog': 0.2, 'food': 0.2, 'vit...   \n",
       "1  {'product': 0.2, 'jumbo': 0.4, 'salt': 0.2, 'p...   \n",
       "2  {'delight': 0.1111111111111111, 'filbert': 0.1...   \n",
       "3  {'cough': 0.16666666666666666, 'medicin': 0.16...   \n",
       "4  {'great': 0.6666666666666666, 'deliveri': 0.33...   \n",
       "\n",
       "                                              Tf-Idf  \n",
       "0  [1.1756271723601956, 0.8399410155759854, 0.820...  \n",
       "1  [0, 0, 0, 0, 0, 0.8780117612742292, 2.90577208...  \n",
       "2  [0, 0, 0, 0, 0, 0, 0, 0, 0, 0.665718283011998,...  \n",
       "3  [0, 0, 0, 0, 0, 0, 0, 0, 0, 0, 0, 0, 0, 0, 0, ...  \n",
       "4  [0, 0, 0, 0, 0, 0, 0, 0, 0, 0, 0, 0, 0, 0, 0, ...  "
      ]
     },
     "execution_count": 132,
     "metadata": {},
     "output_type": "execute_result"
    }
   ],
   "source": [
    "dataset.head()"
   ]
  },
  {
   "cell_type": "markdown",
   "metadata": {},
   "source": [
    "## Dimensionality Reduction"
   ]
  },
  {
   "cell_type": "code",
   "execution_count": 158,
   "metadata": {},
   "outputs": [],
   "source": [
    "import numpy as np\n",
    "from sklearn.preprocessing import MultiLabelBinarizer\n",
    "from sklearn.decomposition import TruncatedSVD"
   ]
  },
  {
   "cell_type": "code",
   "execution_count": 159,
   "metadata": {},
   "outputs": [],
   "source": [
    "mlb = MultiLabelBinarizer(sparse_output=True)\n",
    "a = mlb.fit_transform(dataset['Tf-Idf'])"
   ]
  },
  {
   "cell_type": "code",
   "execution_count": 160,
   "metadata": {},
   "outputs": [
    {
     "data": {
      "text/plain": [
       "TruncatedSVD(n_components=100, n_iter=20, random_state=42)"
      ]
     },
     "execution_count": 160,
     "metadata": {},
     "output_type": "execute_result"
    }
   ],
   "source": [
    "svd = TruncatedSVD(n_components=100, n_iter=20, random_state=42)\n",
    "svd.fit(a)"
   ]
  },
  {
   "cell_type": "code",
   "execution_count": 161,
   "metadata": {},
   "outputs": [
    {
     "name": "stdout",
     "output_type": "stream",
     "text": [
      "0.2634406716887849\n"
     ]
    }
   ],
   "source": [
    "print(svd.explained_variance_ratio_.sum())"
   ]
  },
  {
   "cell_type": "markdown",
   "metadata": {},
   "source": [
    "## Implement KMeans from scratch\n",
    "### Step 0 \n",
    "Elbow method to choose the number of clusters k \n",
    "### Step 1\n",
    "Random inizialization of the k representative points\n",
    "### Step 2\n",
    "Find the cluster $C_i$ defined as $\\{x : \\parallel x-\\mu_i\\parallel \\leq \\parallel x-\\mu_j\\parallel \\forall j\\ne i\\}  \\forall i=1..k$\n",
    "### Step 3 \n",
    "Find $\\mu_i$ which is defined as $\\frac{1}{|C_i|} \\sum_{x\\in C_i} x$ $\\forall i=1..k$\n",
    "<hr>\n",
    "Repeat step 2 and step 3 until <b>convergence</b>.\n",
    "\n",
    "### Convergence\n",
    "We stop when the clusters don't change from the previous iteration."
   ]
  },
  {
   "cell_type": "code",
   "execution_count": null,
   "metadata": {},
   "outputs": [],
   "source": [
    "#slice should be filled with the point representative of text_words"
   ]
  },
  {
   "cell_type": "code",
   "execution_count": 12,
   "metadata": {},
   "outputs": [
    {
     "name": "stderr",
     "output_type": "stream",
     "text": [
      "  0%|                                                                                           | 0/17 [00:00<?, ?it/s]\n"
     ]
    },
    {
     "ename": "NameError",
     "evalue": "name 'KMeans' is not defined",
     "output_type": "error",
     "traceback": [
      "\u001b[1;31m---------------------------------------------------------------------------\u001b[0m",
      "\u001b[1;31mNameError\u001b[0m                                 Traceback (most recent call last)",
      "\u001b[1;32m<ipython-input-12-a5b5ef305f46>\u001b[0m in \u001b[0;36m<module>\u001b[1;34m\u001b[0m\n\u001b[0;32m      2\u001b[0m \u001b[0melbow\u001b[0m \u001b[1;33m=\u001b[0m \u001b[1;33m{\u001b[0m\u001b[1;33m}\u001b[0m\u001b[1;33m\u001b[0m\u001b[1;33m\u001b[0m\u001b[0m\n\u001b[0;32m      3\u001b[0m \u001b[1;32mfor\u001b[0m \u001b[0mk\u001b[0m \u001b[1;32min\u001b[0m \u001b[0mtqdm\u001b[0m\u001b[1;33m(\u001b[0m\u001b[0mrange\u001b[0m\u001b[1;33m(\u001b[0m\u001b[1;36m3\u001b[0m\u001b[1;33m,\u001b[0m\u001b[1;36m20\u001b[0m\u001b[1;33m)\u001b[0m\u001b[1;33m)\u001b[0m\u001b[1;33m:\u001b[0m\u001b[1;33m\u001b[0m\u001b[1;33m\u001b[0m\u001b[0m\n\u001b[1;32m----> 4\u001b[1;33m     \u001b[0melbow_model\u001b[0m \u001b[1;33m=\u001b[0m \u001b[0mKMeans\u001b[0m \u001b[1;33m(\u001b[0m\u001b[0mn_clusters\u001b[0m \u001b[1;33m=\u001b[0m \u001b[0mk\u001b[0m\u001b[1;33m)\u001b[0m\u001b[1;33m\u001b[0m\u001b[1;33m\u001b[0m\u001b[0m\n\u001b[0m\u001b[0;32m      5\u001b[0m     \u001b[0melbow_model\u001b[0m\u001b[1;33m.\u001b[0m\u001b[0mfit_predict\u001b[0m\u001b[1;33m(\u001b[0m\u001b[0mslice\u001b[0m\u001b[1;33m)\u001b[0m\u001b[1;33m\u001b[0m\u001b[1;33m\u001b[0m\u001b[0m\n\u001b[0;32m      6\u001b[0m     \u001b[0melbow\u001b[0m\u001b[1;33m[\u001b[0m\u001b[0mk\u001b[0m\u001b[1;33m]\u001b[0m \u001b[1;33m=\u001b[0m \u001b[0melbow_model\u001b[0m\u001b[1;33m.\u001b[0m\u001b[0minertia_\u001b[0m\u001b[1;33m\u001b[0m\u001b[1;33m\u001b[0m\u001b[0m\n",
      "\u001b[1;31mNameError\u001b[0m: name 'KMeans' is not defined"
     ]
    }
   ],
   "source": [
    "#step 0\n",
    "elbow = {}\n",
    "for k in tqdm(range(3,20)):\n",
    "    elbow_model = KMeans (n_clusters = k)\n",
    "    elbow_model.fit_predict(slice)\n",
    "    elbow[k] = elbow_model.inertia_"
   ]
  }
 ],
 "metadata": {
  "kernelspec": {
   "display_name": "Python 3",
   "language": "python",
   "name": "python3"
  },
  "language_info": {
   "codemirror_mode": {
    "name": "ipython",
    "version": 3
   },
   "file_extension": ".py",
   "mimetype": "text/x-python",
   "name": "python",
   "nbconvert_exporter": "python",
   "pygments_lexer": "ipython3",
   "version": "3.8.5"
  }
 },
 "nbformat": 4,
 "nbformat_minor": 4
}

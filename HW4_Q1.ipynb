{
 "cells": [
  {
   "cell_type": "code",
   "execution_count": 1,
   "metadata": {},
   "outputs": [],
   "source": [
    "import numpy as np\n",
    "import random\n",
    "import matplotlib.pyplot as plt\n",
    "import statistics\n",
    "import scipy.integrate as integrate\n",
    "import math"
   ]
  },
  {
   "cell_type": "code",
   "execution_count": 2,
   "metadata": {},
   "outputs": [],
   "source": [
    "def hash_func(s,n,A):\n",
    "    out = 0\n",
    "    for i in range(len(s)):\n",
    "        if s[i].isdigit():\n",
    "            out += A[i]*int(s[i])\n",
    "        else:\n",
    "            out += A[i]*(ord(s[i])-87)\n",
    "    \n",
    "    out = out%n\n",
    "    out = '{0:031b}'.format(out)\n",
    "    out = out[-31:]\n",
    "    return out"
   ]
  },
  {
   "cell_type": "markdown",
   "metadata": {},
   "source": [
    "First of all we check if the hashing function maps elements to binary numbers in uniformly distributed"
   ]
  },
  {
   "cell_type": "code",
   "execution_count": 14,
   "metadata": {},
   "outputs": [],
   "source": [
    "file = open(\"hash.txt\", \"r\")"
   ]
  },
  {
   "cell_type": "code",
   "execution_count": 15,
   "metadata": {},
   "outputs": [],
   "source": [
    "n = (2**31)-1\n",
    "len_string = 33\n",
    "A = random.sample(range(0, n-1), len_string + 1)\n",
    "\n",
    "y = []\n",
    "for line in file:\n",
    "    val = hash_func(line, n, A)\n",
    "    y.append(int(val, 2))"
   ]
  },
  {
   "cell_type": "code",
   "execution_count": 18,
   "metadata": {},
   "outputs": [
    {
     "data": {
      "image/png": "[encoded data removed]",
      "text/plain": [
       "<Figure size 1440x720 with 1 Axes>"
      ]
     },
     "metadata": {
      "needs_background": "light"
     },
     "output_type": "display_data"
    }
   ],
   "source": [
    "plt.figure(figsize=(20, 10))\n",
    "plt.hist(y, bins = 1000)\n",
    "plt.grid()\n",
    "plt.show()"
   ]
  },
  {
   "cell_type": "markdown",
   "metadata": {},
   "source": [
    "### The Flajolet–Martin algorithm"
   ]
  },
  {
   "cell_type": "markdown",
   "metadata": {},
   "source": [
    "We have a multiset of elements and we wanted to compute the cardinality of the multiset.\n",
    "Assume our multiset as $S$, with elements $e_1, e_2, ...,  e_n$. \n",
    "\n",
    "Lets say we are given a function $hash\\_func(e_j)$ which maps elements to binary numbers in uniformly distributed over range $0$ to $2^L-1$.\n",
    "\n",
    "We also hold a hash called *BITMAP* of size $L$ and initiate all the values to $0$. Now we loop through all the hashed values and we find the least significant $1$-bit as $x$, then we mark that *BITMAP*$[x]$ as $1$.\n",
    "\n",
    "If we find the smallest index $i$ in *BITMAP* such that *BITMAP*$[i] = 0$ , then , we can estimate that cardinality of the multiset as $2^i$ ."
   ]
  },
  {
   "cell_type": "code",
   "execution_count": 3,
   "metadata": {},
   "outputs": [],
   "source": [
    "file = open(\"hash.txt\", \"r\")"
   ]
  },
  {
   "cell_type": "code",
   "execution_count": 4,
   "metadata": {},
   "outputs": [],
   "source": [
    "len_strings = 33\n",
    "n = (2**31)-1\n",
    "A = random.sample(range(0, n-1), len_strings + 1)"
   ]
  },
  {
   "cell_type": "code",
   "execution_count": 5,
   "metadata": {},
   "outputs": [],
   "source": [
    "def f_p(y): #returns the least significant 1-bit of y\n",
    "    if int(y, 2) == 0:\n",
    "        return 26\n",
    "    \n",
    "    k = int(len(y)-1)\n",
    "    while 1:\n",
    "        if int(y[k]) != 0:\n",
    "            return int(len(y)-1) - k\n",
    "        k -= 1   #the min k such that bit(y,k) ≠ 0"
   ]
  },
  {
   "cell_type": "code",
   "execution_count": 9,
   "metadata": {},
   "outputs": [
    {
     "name": "stdout",
     "output_type": "stream",
     "text": [
      "BITMAP : [1. 1. 1. 1. 1. 1. 1. 1. 1. 1. 1. 1. 1. 1. 1. 1. 1. 1. 1. 1. 1. 1. 1. 1.\n",
      " 1. 1. 1. 0. 0. 0. 0. 0.]\n",
      "Index : 27\n",
      "Estimated cardinality : 134217728\n"
     ]
    }
   ],
   "source": [
    "bitmax = np.zeros(32)\n",
    "\n",
    "for line in file:\n",
    "    el = hash_func(line, n, A)\n",
    "    x = f_p(el)\n",
    "    bitmax[x] = 1\n",
    "    \n",
    "print(\"BITMAP : \" + str(bitmax))\n",
    "\n",
    "idx = 0\n",
    "while bitmax[idx]!=0:\n",
    "    idx+=1\n",
    "\n",
    "print(\"Index : \" + str(idx))\n",
    "\n",
    "#estimated cardinality\n",
    "est_card = pow(2,idx)\n",
    "\n",
    "print(\"Estimated cardinality : \" + str(est_card))\n"
   ]
  },
  {
   "cell_type": "code",
   "execution_count": 10,
   "metadata": {},
   "outputs": [
    {
     "name": "stdout",
     "output_type": "stream",
     "text": [
      "7.374%\n"
     ]
    }
   ],
   "source": [
    "err = ((est_card/125000000)-1)*100\n",
    "print(str(round(err, 3))+\"%\")"
   ]
  },
  {
   "cell_type": "markdown",
   "metadata": {},
   "source": [
    "### HyperLogLog Algorithm"
   ]
  },
  {
   "cell_type": "markdown",
   "metadata": {},
   "source": [
    "The input is a set of data items $S$, that is, a stream whose elements are read\n",
    "sequentially. The output is an estimate of the cardinality, defined as the number of distinct elements\n",
    "in $S$. \n",
    "\n",
    "Given a binary string $s \\in S$, let $\\rho(s)$ represent the position of the leftmost $1$ (equivalently one plus the length of the initial run of $0$’s). \n",
    "\n",
    "Each element of $S$ is split into subsets $S_1, S_2, ... , S_m$ based on the first $M$ bits of hashed values, where $m = 2^M$. For each subset $S_j$ we define:\n",
    "\n",
    "$S^{(j)} = Max(S_j):=\\max\\limits_{x \\in S_j}\\rho (x)$\n",
    "\n",
    "The estimated cardinality is:\n",
    "\n",
    "$E:=\\alpha_{m}m^{2}Z$\n",
    "\n",
    "Where:\n",
    "\n",
    "* $\\alpha_m := \\bigg(m{\\displaystyle\\int}_{0}^{\\infty}\\bigg( log_2\\big( {{2+u}\\over{1+u}} \\big) \\bigg)^{m}du\\bigg)^{-1}$\n",
    "\n",
    "* $m = 2^M$\n",
    "\n",
    "* $Z = \\bigg( \\displaystyle\\sum\\limits_{j=1}^{m}2^{-S^{(j)}} \\bigg)^{-1}$"
   ]
  },
  {
   "cell_type": "code",
   "execution_count": 3,
   "metadata": {},
   "outputs": [],
   "source": [
    "# Given a binary number as a string it counts the number of zeros before the first 1\n",
    "def countZeros(num):\n",
    "    count = 0\n",
    "    for bit in num:\n",
    "        count+=1\n",
    "        if int(bit) != 0:\n",
    "            return count\n",
    "    return len(num)"
   ]
  },
  {
   "cell_type": "code",
   "execution_count": 4,
   "metadata": {},
   "outputs": [],
   "source": [
    "# This is the function that needs to be integrated to calculate alpha_m\n",
    "def func(u, m):\n",
    "    return (math.log2((2+u)/(1+u)))**m"
   ]
  },
  {
   "cell_type": "code",
   "execution_count": 5,
   "metadata": {},
   "outputs": [],
   "source": [
    "def alpha_m(m):\n",
    "    \n",
    "    integral = integrate.quad(func, 0, np.infty, args = (m))[0]\n",
    "    \n",
    "    return (integral*m)**(-1)"
   ]
  },
  {
   "cell_type": "code",
   "execution_count": 6,
   "metadata": {},
   "outputs": [],
   "source": [
    "def getBuckets(M, buckets, value, n, A):\n",
    "    \n",
    "    binary_num = hash_func(value, n, A)\n",
    "\n",
    "    m = 2**M\n",
    "    \n",
    "    num_zeros = countZeros(binary_num[M:])\n",
    "    if buckets[int(binary_num[:M], 2)] < num_zeros:\n",
    "        buckets[int(binary_num[:M], 2)] = num_zeros\n",
    "    \n",
    "    return buckets"
   ]
  },
  {
   "cell_type": "code",
   "execution_count": 7,
   "metadata": {},
   "outputs": [],
   "source": [
    "def hyperLogLog(buckets, M):\n",
    "    \n",
    "    m = 2**M\n",
    "    Z = 0\n",
    "    for bucket in buckets:\n",
    "        Z += 2**(-bucket)\n",
    "    Z = Z**(-1)\n",
    "\n",
    "    card = (m**2)*Z*alpha_m(m)\n",
    "    \n",
    "    return card"
   ]
  },
  {
   "cell_type": "code",
   "execution_count": 8,
   "metadata": {},
   "outputs": [],
   "source": [
    "file = open(\"hash.txt\", \"r\")"
   ]
  },
  {
   "cell_type": "code",
   "execution_count": 9,
   "metadata": {},
   "outputs": [],
   "source": [
    "len_strings = 33\n",
    "n = (2**31)-1 #primary number\n",
    "A = random.sample(range(0, n-1), len_strings + 1)"
   ]
  },
  {
   "cell_type": "code",
   "execution_count": 10,
   "metadata": {},
   "outputs": [
    {
     "name": "stdout",
     "output_type": "stream",
     "text": [
      "Buckets : [17. 13. 15. ... 16. 14. 18.]\n"
     ]
    }
   ],
   "source": [
    "M = 13\n",
    "buckets = np.zeros(2**M)\n",
    "\n",
    "for line in file:\n",
    "    buckets = getBuckets(M, buckets, line, n, A)\n",
    "\n",
    "print(\"Buckets : \" + str(buckets))"
   ]
  },
  {
   "cell_type": "code",
   "execution_count": 33,
   "metadata": {
    "scrolled": true
   },
   "outputs": [
    {
     "name": "stdout",
     "output_type": "stream",
     "text": [
      "Estimated cardinality : 125960784.13902305\n"
     ]
    }
   ],
   "source": [
    "HLL = hyperLogLog(buckets, M)\n",
    "print(\"Estimated cardinality : \" + str(HLL))"
   ]
  },
  {
   "cell_type": "code",
   "execution_count": 34,
   "metadata": {
    "scrolled": false
   },
   "outputs": [
    {
     "name": "stdout",
     "output_type": "stream",
     "text": [
      "error : 0.769%\n"
     ]
    }
   ],
   "source": [
    "err = ((HLL/125000000)-1)*100\n",
    "print(\"error : \" + str(round(err, 3))+\"%\")"
   ]
  },
  {
   "cell_type": "markdown",
   "metadata": {},
   "source": [
    "For $m$ buckets, the avarage error is $\\displaystyle{1.3}\\over{\\sqrt{m}}$"
   ]
  },
  {
   "cell_type": "code",
   "execution_count": 29,
   "metadata": {},
   "outputs": [
    {
     "name": "stdout",
     "output_type": "stream",
     "text": [
      "avarage error : 1.436%\n"
     ]
    }
   ],
   "source": [
    "m = 2**M\n",
    "err2 = (1.3/(m**(1/2)))*100\n",
    "print(\"avarage error : \"+str(round(err2, 3)) + \"%\")"
   ]
  },
  {
   "cell_type": "markdown",
   "metadata": {},
   "source": [
    "After another test of the HyperLogLog on the same set, we got the following results:\n",
    "\n",
    "* Estimated cardinality : $127147271.53884749$\n",
    "\n",
    "* error : $1.718\\%$\n",
    "\n",
    "If we average the errors, as we can see, the final result is closer to $1.436\\%$:\n",
    "\n",
    "${{1.718\\% + 0.769\\%} \\over {2}} = 1.2435\\%$"
   ]
  },
  {
   "cell_type": "code",
   "execution_count": null,
   "metadata": {},
   "outputs": [],
   "source": []
  }
 ],
 "metadata": {
  "kernelspec": {
   "display_name": "Python 3",
   "language": "python",
   "name": "python3"
  },
  "language_info": {
   "codemirror_mode": {
    "name": "ipython",
    "version": 3
   },
   "file_extension": ".py",
   "mimetype": "text/x-python",
   "name": "python",
   "nbconvert_exporter": "python",
   "pygments_lexer": "ipython3",
   "version": "3.8.3"
  }
 },
 "nbformat": 4,
 "nbformat_minor": 4
}

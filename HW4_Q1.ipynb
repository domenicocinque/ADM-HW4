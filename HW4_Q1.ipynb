{
 "cells": [
  {
   "cell_type": "code",
   "execution_count": 4,
   "metadata": {},
   "outputs": [],
   "source": [
    "import numpy as np\n",
    "import random\n",
    "import matplotlib.pyplot as plt\n",
    "import statistics\n",
    "import scipy.integrate as integrate\n",
    "import math"
   ]
  },
  {
   "cell_type": "code",
   "execution_count": 8,
   "metadata": {},
   "outputs": [],
   "source": [
    "def hash_func(s,n,A):\n",
    "    out = 0\n",
    "    for i in range(len(s)):\n",
    "        if s[i].isdigit():\n",
    "            out += A[i]*int(s[i])\n",
    "        else:\n",
    "            out += A[i]*(ord(s[i])-87)\n",
    "    \n",
    "    out = out%n\n",
    "    out = '{0:031b}'.format(out)\n",
    "    out = out[-31:]\n",
    "    return out"
   ]
  },
  {
   "cell_type": "code",
   "execution_count": 3,
   "metadata": {},
   "outputs": [],
   "source": [
    "def countZeros(num):\n",
    "    count = 0\n",
    "    for bit in num:\n",
    "        count+=1\n",
    "        if int(bit) != 0:\n",
    "            return count\n",
    "    return len(num)"
   ]
  },
  {
   "cell_type": "code",
   "execution_count": 4,
   "metadata": {},
   "outputs": [],
   "source": [
    "def func(u, m):\n",
    "    return (math.log2((2+u)/(1+u)))**m"
   ]
  },
  {
   "cell_type": "code",
   "execution_count": 5,
   "metadata": {},
   "outputs": [],
   "source": [
    "def alpha_m(m):\n",
    "    \n",
    "    integral = integrate.quad(func, 0, np.infty, args = (m))[0]\n",
    "    \n",
    "    return (integral*m)**(-1)"
   ]
  },
  {
   "cell_type": "code",
   "execution_count": 6,
   "metadata": {},
   "outputs": [],
   "source": [
    "def getBuckets(M, buckets, value, n, A):\n",
    "    \n",
    "    binary_num = hash_func(value, n, A)\n",
    "\n",
    "    m = 2**M\n",
    "    \n",
    "    num_zeros = countZeros(binary_num[M:])\n",
    "    if buckets[int(binary_num[:M], 2)] < num_zeros:\n",
    "        buckets[int(binary_num[:M], 2)] = num_zeros\n",
    "    \n",
    "    return buckets"
   ]
  },
  {
   "cell_type": "code",
   "execution_count": 7,
   "metadata": {},
   "outputs": [],
   "source": [
    "def hyperLogLog(buckets, M):\n",
    "    \n",
    "    m = 2**M\n",
    "    Z = 0\n",
    "    for bucket in buckets:\n",
    "        Z += 2**(-bucket)\n",
    "    Z = Z**(-1)\n",
    "\n",
    "    card = (m**2)*Z*alpha_m(m)\n",
    "    \n",
    "    return card"
   ]
  },
  {
   "cell_type": "code",
   "execution_count": 13,
   "metadata": {},
   "outputs": [],
   "source": [
    "file = open(\"hash.txt\", \"r\")"
   ]
  },
  {
   "cell_type": "code",
   "execution_count": 9,
   "metadata": {},
   "outputs": [],
   "source": [
    "len_strings = 33\n",
    "n = (2**31)-1\n",
    "A = random.sample(range(0, n-1), len_strings + 1)"
   ]
  },
  {
   "cell_type": "code",
   "execution_count": 623,
   "metadata": {},
   "outputs": [],
   "source": [
    "little = ''\n",
    "for i in range(0, 139000000):\n",
    "    little += file.readline()\n",
    "little = little.split()"
   ]
  },
  {
   "cell_type": "code",
   "execution_count": 10,
   "metadata": {},
   "outputs": [
    {
     "name": "stdout",
     "output_type": "stream",
     "text": [
      "1000000 | 2000000 | 3000000 | 4000000 | 5000000 | 6000000 | 7000000 | 8000000 | 9000000 | 10000000 | 11000000 | 12000000 | 13000000 | 14000000 | 15000000 | 16000000 | 17000000 | 18000000 | 19000000 | 20000000 | 21000000 | 22000000 | 23000000 | 24000000 | 25000000 | 26000000 | 27000000 | 28000000 | 29000000 | 30000000 | 31000000 | 32000000 | 33000000 | 34000000 | 35000000 | 36000000 | 37000000 | 38000000 | 39000000 | 40000000 | 41000000 | 42000000 | 43000000 | 44000000 | 45000000 | 46000000 | 47000000 | 48000000 | 49000000 | 50000000 | 51000000 | 52000000 | 53000000 | 54000000 | 55000000 | 56000000 | 57000000 | 58000000 | 59000000 | 60000000 | 61000000 | 62000000 | 63000000 | 64000000 | 65000000 | 66000000 | 67000000 | 68000000 | 69000000 | 70000000 | 71000000 | 72000000 | 73000000 | 74000000 | 75000000 | 76000000 | 77000000 | 78000000 | 79000000 | 80000000 | 81000000 | 82000000 | 83000000 | 84000000 | 85000000 | 86000000 | 87000000 | 88000000 | 89000000 | 90000000 | 91000000 | 92000000 | 93000000 | 94000000 | 95000000 | 96000000 | 97000000 | 98000000 | 99000000 | 100000000 | 101000000 | 102000000 | 103000000 | 104000000 | 105000000 | 106000000 | 107000000 | 108000000 | 109000000 | 110000000 | 111000000 | 112000000 | 113000000 | 114000000 | 115000000 | 116000000 | 117000000 | 118000000 | 119000000 | 120000000 | 121000000 | 122000000 | 123000000 | 124000000 | 125000000 | 126000000 | 127000000 | 128000000 | 129000000 | 130000000 | 131000000 | 132000000 | 133000000 | 134000000 | 135000000 | 136000000 | 137000000 | 138000000 | 139000000 | [14. 14. 14. ... 17. 16. 14.]\n"
     ]
    }
   ],
   "source": [
    "M = 13\n",
    "buckets = np.zeros(2**M)\n",
    "i = 0\n",
    "for line in file:\n",
    "    buckets = getBuckets(M, buckets, line, n, A)\n",
    "    i+=1\n",
    "    if i%1000000 == 0:\n",
    "        print(i, end =\" | \")\n",
    "print(buckets)"
   ]
  },
  {
   "cell_type": "code",
   "execution_count": 11,
   "metadata": {
    "scrolled": true
   },
   "outputs": [
    {
     "data": {
      "text/plain": [
       "127147271.53884749"
      ]
     },
     "execution_count": 11,
     "metadata": {},
     "output_type": "execute_result"
    }
   ],
   "source": [
    "hyperLogLog(buckets, M)"
   ]
  },
  {
   "cell_type": "code",
   "execution_count": 12,
   "metadata": {},
   "outputs": [
    {
     "data": {
      "text/plain": [
       "1.01717817231078"
      ]
     },
     "execution_count": 12,
     "metadata": {},
     "output_type": "execute_result"
    }
   ],
   "source": [
    "127147271.53884749/125000000"
   ]
  },
  {
   "cell_type": "code",
   "execution_count": 14,
   "metadata": {},
   "outputs": [],
   "source": [
    "n = 1009\n",
    "len_string = 33\n",
    "A = random.sample(range(0, n-1), len_string)\n",
    "i = 0\n",
    "y = []\n",
    "for line in file:\n",
    "    val = hash_func(line, n, A)\n",
    "    i += 1\n",
    "    y.append(int(val, 2))\n",
    "    if i == 1000000:\n",
    "        break"
   ]
  },
  {
   "cell_type": "code",
   "execution_count": 16,
   "metadata": {},
   "outputs": [
    {
     "data": {
      "image/png": "[encoded data removed]",
      "text/plain": [
       "<Figure size 1440x720 with 1 Axes>"
      ]
     },
     "metadata": {
      "needs_background": "light"
     },
     "output_type": "display_data"
    }
   ],
   "source": [
    "plt.figure(figsize=(20, 10))\n",
    "plt.hist(y, bins = 50)\n",
    "plt.grid()\n",
    "plt.show()"
   ]
  },
  {
   "cell_type": "code",
   "execution_count": 137,
   "metadata": {},
   "outputs": [],
   "source": [
    "def f_p(y): #returns the least significant 1-bit of y\n",
    "    if int(y, 2) == 0:\n",
    "        return 26\n",
    "    \n",
    "    k = int(len(y)-1)\n",
    "    while 1:\n",
    "        if int(y[k]) != 0:\n",
    "            return int(len(y)-1) - k\n",
    "        k -= 1   #the min k such that bit(y,k) ≠ 0"
   ]
  },
  {
   "cell_type": "code",
   "execution_count": 138,
   "metadata": {},
   "outputs": [
    {
     "name": "stdout",
     "output_type": "stream",
     "text": [
      "[1. 1. 1. 1. 1. 1. 1. 1. 1. 1. 1. 1. 1. 1. 1. 0. 0. 0. 0. 0. 0. 0. 0. 0.\n",
      " 0. 0. 0.]\n",
      "15\n"
     ]
    }
   ],
   "source": [
    "bitmax = np.zeros(27)\n",
    "for v in hash_dict.values():\n",
    "    for el in v:\n",
    "        x = f_p(el)\n",
    "        bitmax[x] = 1\n",
    "print(bitmax)\n",
    "idx = 0\n",
    "while bitmax[idx]!=0:\n",
    "    idx+=1\n",
    "print(idx)\n",
    "#estimated cardinality\n",
    "est_card = pow(2,idx)"
   ]
  },
  {
   "cell_type": "code",
   "execution_count": 139,
   "metadata": {},
   "outputs": [
    {
     "data": {
      "text/plain": [
       "32768"
      ]
     },
     "execution_count": 139,
     "metadata": {},
     "output_type": "execute_result"
    }
   ],
   "source": [
    "est_card"
   ]
  }
 ],
 "metadata": {
  "kernelspec": {
   "display_name": "Python 3",
   "language": "python",
   "name": "python3"
  },
  "language_info": {
   "codemirror_mode": {
    "name": "ipython",
    "version": 3
   },
   "file_extension": ".py",
   "mimetype": "text/x-python",
   "name": "python",
   "nbconvert_exporter": "python",
   "pygments_lexer": "ipython3",
   "version": "3.8.3"
  }
 },
 "nbformat": 4,
 "nbformat_minor": 4
}

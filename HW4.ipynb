{
 "cells": [
  {
   "cell_type": "code",
   "execution_count": 1,
   "metadata": {},
   "outputs": [],
   "source": [
    "file = open(\"hash.txt\", \"r\")\n",
    "\n",
    "little = ''\n",
    "for i in range(1,10000):\n",
    "    little += file.readline()\n",
    "    \n",
    "little = little.split()"
   ]
  },
  {
   "cell_type": "markdown",
   "metadata": {},
   "source": [
    "# Question 1"
   ]
  },
  {
   "cell_type": "markdown",
   "metadata": {},
   "source": [
    "## Hash Function"
   ]
  },
  {
   "cell_type": "code",
   "execution_count": 2,
   "metadata": {},
   "outputs": [],
   "source": [
    "import random\n",
    "import numpy as np\n",
    "from tqdm import tqdm \n",
    "import os"
   ]
  },
  {
   "cell_type": "code",
   "execution_count": 3,
   "metadata": {},
   "outputs": [],
   "source": [
    "def hash_func(s,n,A):\n",
    "    out = 0\n",
    "    for i in range(len(s)):\n",
    "        if s[i].isdigit():\n",
    "            out += A[i]*int(s[i])\n",
    "        else:\n",
    "            out += A[i]*(ord(s[i])-87)\n",
    "    return out%n, out"
   ]
  },
  {
   "cell_type": "code",
   "execution_count": 4,
   "metadata": {},
   "outputs": [],
   "source": [
    "len_strings = len(little[0])\n",
    "\n",
    "n = 8191\n",
    "A = random.sample(range(0, n-1), len_strings + 1)\n",
    "arr = np.frompyfunc(list, 0, 1)(np.empty(n, dtype=object))"
   ]
  },
  {
   "cell_type": "code",
   "execution_count": 5,
   "metadata": {},
   "outputs": [
    {
     "name": "stderr",
     "output_type": "stream",
     "text": [
      "100%|██████████| 9999/9999 [00:00<00:00, 79507.33it/s]\n"
     ]
    }
   ],
   "source": [
    "hash_dict = {}\n",
    "for line in tqdm(little):\n",
    "    idx, idy = hash_func(line, n, A)\n",
    "    hash_dict.setdefault(idx, []).append(bin(idy)[2:])"
   ]
  },
  {
   "cell_type": "code",
   "execution_count": 6,
   "metadata": {},
   "outputs": [],
   "source": [
    "import json"
   ]
  },
  {
   "cell_type": "code",
   "execution_count": 12,
   "metadata": {},
   "outputs": [],
   "source": [
    "path = os.getcwd()\n",
    "out_file = open(path + '/dict', \"w\")   \n",
    "json.dump(hash_dict, out_file)  \n",
    "out_file.close()  "
   ]
  },
  {
   "cell_type": "markdown",
   "metadata": {},
   "source": [
    "## HyperLogLog structure"
   ]
  },
  {
   "cell_type": "markdown",
   "metadata": {},
   "source": []
  },
  {
   "cell_type": "code",
   "execution_count": 23,
   "metadata": {},
   "outputs": [],
   "source": [
    "def f_p(y): #returns the least significant 1-bit of y\n",
    "    if y == 0:\n",
    "        return n\n",
    "    else:\n",
    "        k = int(len(y)-1)\n",
    "        while 1:\n",
    "            if int(y[k]) != 0:\n",
    "                return int(len(y)-1) - k\n",
    "            k -= 1   #the min k such that bit(y,k) ≠ 0"
   ]
  },
  {
   "cell_type": "code",
   "execution_count": 25,
   "metadata": {},
   "outputs": [],
   "source": [
    "def FM(hash_dict):\n",
    "    bitmap = np.zeros(n)\n",
    "    \n",
    "    for value in hash_dict.values():\n",
    "        for el in value:\n",
    "            x = f_p(el)\n",
    "            bitmap[x] = 1\n",
    "\n",
    "    out = 0\n",
    "    for i in range(n):\n",
    "        if bitmap[i] == 0:\n",
    "            out = i\n",
    "            break\n",
    "            \n",
    "    #estimated cardinality\n",
    "    est_card = pow(2,out)\n",
    "    \n",
    "    return est_card"
   ]
  },
  {
   "cell_type": "code",
   "execution_count": 26,
   "metadata": {},
   "outputs": [],
   "source": [
    "est_card = FM(hash_dict)"
   ]
  },
  {
   "cell_type": "markdown",
   "metadata": {},
   "source": [
    "# Question 3\n",
    "The algorithm counting sort solve our problem"
   ]
  },
  {
   "cell_type": "code",
   "execution_count": 19,
   "metadata": {},
   "outputs": [],
   "source": [
    "A = [2,8,3,2,4,2]\n",
    "b = 8\n",
    "s = 1"
   ]
  },
  {
   "cell_type": "markdown",
   "metadata": {},
   "source": [
    "<b> Step 1 </b> preparing the vector we need <br>\n",
    "<b> Running Time </b> $\\theta(r+1+n)=\\theta(r+n)$ where r is the difference between b and s and n is the lenght of the input array A"
   ]
  },
  {
   "cell_type": "code",
   "execution_count": 20,
   "metadata": {},
   "outputs": [],
   "source": [
    "r = [0]*(b-s+1) #vector of zeros with lenght r+1\n",
    "B = [0](len(A)) #in this vector we'll store A sorted "
   ]
  },
  {
   "cell_type": "markdown",
   "metadata": {},
   "source": [
    "<b> Step 2 </b> we costruct r such that r[i] contains the occurence of elements of A (SORTED) <br>\n",
    "<b> Running Time </b> $\\theta(n)$"
   ]
  },
  {
   "cell_type": "code",
   "execution_count": 25,
   "metadata": {},
   "outputs": [],
   "source": [
    "for i in range(len(A)): \n",
    "    r[A[i]-s] += 1"
   ]
  },
  {
   "cell_type": "markdown",
   "metadata": {},
   "source": [
    "<b> Step 3 </b> we change r using the comulative count <br>\n",
    "<b> Running Time </b> $\\theta(r-1) = \\theta(r)$"
   ]
  },
  {
   "cell_type": "code",
   "execution_count": 26,
   "metadata": {},
   "outputs": [],
   "source": [
    "for i in range(1, len(r)): \n",
    "    r[i] += r[i-1] #cumulative count"
   ]
  },
  {
   "cell_type": "markdown",
   "metadata": {},
   "source": [
    "<b> Step 4 </b> computing the sorted A using r <br>\n",
    "<b> Running Time </b> $\\theta(n-1) = \\theta(n)$"
   ]
  },
  {
   "cell_type": "code",
   "execution_count": 23,
   "metadata": {},
   "outputs": [],
   "source": [
    "for i in range(len(A)-1, -1, -1): \n",
    "    B[r[A[i] - s] - 1] = A[i] \n",
    "    r[A[i] - s] -= 1"
   ]
  },
  {
   "cell_type": "code",
   "execution_count": 27,
   "metadata": {},
   "outputs": [
    {
     "name": "stdout",
     "output_type": "stream",
     "text": [
      "[2, 2, 2, 3, 4, 8]\n"
     ]
    }
   ],
   "source": [
    "print(B)"
   ]
  },
  {
   "cell_type": "markdown",
   "metadata": {},
   "source": [
    "<b> Total Running Time </b> $\\theta(n+r)$"
   ]
  }
 ],
 "metadata": {
  "kernelspec": {
   "display_name": "Python 3",
   "language": "python",
   "name": "python3"
  },
  "language_info": {
   "codemirror_mode": {
    "name": "ipython",
    "version": 3
   },
   "file_extension": ".py",
   "mimetype": "text/x-python",
   "name": "python",
   "nbconvert_exporter": "python",
   "pygments_lexer": "ipython3",
   "version": "3.8.5"
  }
 },
 "nbformat": 4,
 "nbformat_minor": 4
}
